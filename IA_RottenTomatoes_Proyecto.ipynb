{
  "cells": [
    {
      "cell_type": "markdown",
      "metadata": {
        "id": "3AFEgLoDGe80"
      },
      "source": [
        "# Rotten Tomatoes Reviews\n",
        "### Realizado por: Carlos Lizarazo, Carlos Romero, Javier Santodomingo\n",
        "---\n",
        "\n"
      ]
    },
    {
      "cell_type": "markdown",
      "metadata": {
        "id": "Z9AfarMZBlUK"
      },
      "source": [
        "## 1. Descripción del problema\n",
        "\n",
        "El conjunto de datos proporcionado contiene reseñas de películas del sitio web Rotten Tomatoes. Cada reseña de texto está etiquetada como positiva o negativa, dependiendo de la opinión expresada por el crítico. Por tanto, el problema que se plantea es un problema de *clasificación supervisada, más específicamente de **análisis de sentimientos (sentiment analysis)*.\n",
        "\n",
        "El objetivo principal es entrenar un modelo de aprendizaje automático que sea capaz de *predecir si una reseña es positiva o negativa* basándose únicamente en el contenido textual de la reseña. Esta es una tarea común en el área de procesamiento del lenguaje natural (NLP, por sus siglas en inglés), ya que ayuda a automatizar la comprensión de opiniones humanas escritas en lenguaje natural.\n",
        "\n",
        "### Descripción de las variables del conjunto de datos\n",
        "\n",
        "Con la documentación disponible en Kaggle trabajamos con el dataset *rt_reviews* [1] y el apoyo de otras documentaciones relacionadas, como *RT Reviews Classification with LSTM de Hariharan* [2]. Para este proyecto, el conjunto de datos incluye las siguientes columnas:\n",
        "\n",
        "- Review: Texto de la reseña realizada por un crítico de cine o tambien un usuario. Es una variable de tipo texto.\n",
        "- Freshness: Etiqueta que indica si la reseña es \"fresh\" or \"rotten\". Es una variable categórica que representa la clase que se debe predecir (variable objetivo o target).\n",
        "\n",
        "Este conjunto de datos puede ser utilizado para explorar diferentes modelos de clasificación como regresión logística, árboles de decisión, random forest, redes neuronales, entre otros más, que se encuentran implementados en la libreria sklearn, se pueden ver estos métodos a detalle en la página oficial sklearn que contiene la documentación [3].\n",
        "\n",
        "El dataset no contiene valores numéricos directamente analizables por modelos de machine learning, por lo que se requerirá aplicar técnicas de preprocesamiento, como la vectorización de texto usando TF-IDF, el cual para este proyecto nos apoyamos de su implementación de un articulo en la página oficial de builtin [4]."
      ]
    },
    {
      "cell_type": "markdown",
      "metadata": {
        "id": "A-3oZRBgB9v6"
      },
      "source": [
        "Primero, cargamos el dataset y mostramos una vista previa. Asegurandonos de que el archivo .csv esté en la misma carpeta del proyecto."
      ]
    },
    {
      "cell_type": "code",
      "execution_count": 3,
      "metadata": {
        "colab": {
          "base_uri": "https://localhost:8080/",
          "height": 206
        },
        "id": "gr3RjIMtBZtr",
        "outputId": "8b2a6be5-1e7d-4ca4-beb4-d32061b4081a"
      },
      "outputs": [
        {
          "output_type": "execute_result",
          "data": {
            "text/plain": [
              "  Freshness                                             Review\n",
              "0     fresh   Manakamana doesn't answer any questions, yet ...\n",
              "1     fresh   Wilfully offensive and powered by a chest-thu...\n",
              "2    rotten   It would be difficult to imagine material mor...\n",
              "3    rotten   Despite the gusto its star brings to the role...\n",
              "4    rotten   If there was a good idea at the core of this ..."
            ],
            "text/html": [
              "\n",
              "  <div id=\"df-54ba7d58-9ddc-4457-a480-d7349fe58b40\" class=\"colab-df-container\">\n",
              "    <div>\n",
              "<style scoped>\n",
              "    .dataframe tbody tr th:only-of-type {\n",
              "        vertical-align: middle;\n",
              "    }\n",
              "\n",
              "    .dataframe tbody tr th {\n",
              "        vertical-align: top;\n",
              "    }\n",
              "\n",
              "    .dataframe thead th {\n",
              "        text-align: right;\n",
              "    }\n",
              "</style>\n",
              "<table border=\"1\" class=\"dataframe\">\n",
              "  <thead>\n",
              "    <tr style=\"text-align: right;\">\n",
              "      <th></th>\n",
              "      <th>Freshness</th>\n",
              "      <th>Review</th>\n",
              "    </tr>\n",
              "  </thead>\n",
              "  <tbody>\n",
              "    <tr>\n",
              "      <th>0</th>\n",
              "      <td>fresh</td>\n",
              "      <td>Manakamana doesn't answer any questions, yet ...</td>\n",
              "    </tr>\n",
              "    <tr>\n",
              "      <th>1</th>\n",
              "      <td>fresh</td>\n",
              "      <td>Wilfully offensive and powered by a chest-thu...</td>\n",
              "    </tr>\n",
              "    <tr>\n",
              "      <th>2</th>\n",
              "      <td>rotten</td>\n",
              "      <td>It would be difficult to imagine material mor...</td>\n",
              "    </tr>\n",
              "    <tr>\n",
              "      <th>3</th>\n",
              "      <td>rotten</td>\n",
              "      <td>Despite the gusto its star brings to the role...</td>\n",
              "    </tr>\n",
              "    <tr>\n",
              "      <th>4</th>\n",
              "      <td>rotten</td>\n",
              "      <td>If there was a good idea at the core of this ...</td>\n",
              "    </tr>\n",
              "  </tbody>\n",
              "</table>\n",
              "</div>\n",
              "    <div class=\"colab-df-buttons\">\n",
              "\n",
              "  <div class=\"colab-df-container\">\n",
              "    <button class=\"colab-df-convert\" onclick=\"convertToInteractive('df-54ba7d58-9ddc-4457-a480-d7349fe58b40')\"\n",
              "            title=\"Convert this dataframe to an interactive table.\"\n",
              "            style=\"display:none;\">\n",
              "\n",
              "  <svg xmlns=\"http://www.w3.org/2000/svg\" height=\"24px\" viewBox=\"0 -960 960 960\">\n",
              "    <path d=\"M120-120v-720h720v720H120Zm60-500h600v-160H180v160Zm220 220h160v-160H400v160Zm0 220h160v-160H400v160ZM180-400h160v-160H180v160Zm440 0h160v-160H620v160ZM180-180h160v-160H180v160Zm440 0h160v-160H620v160Z\"/>\n",
              "  </svg>\n",
              "    </button>\n",
              "\n",
              "  <style>\n",
              "    .colab-df-container {\n",
              "      display:flex;\n",
              "      gap: 12px;\n",
              "    }\n",
              "\n",
              "    .colab-df-convert {\n",
              "      background-color: #E8F0FE;\n",
              "      border: none;\n",
              "      border-radius: 50%;\n",
              "      cursor: pointer;\n",
              "      display: none;\n",
              "      fill: #1967D2;\n",
              "      height: 32px;\n",
              "      padding: 0 0 0 0;\n",
              "      width: 32px;\n",
              "    }\n",
              "\n",
              "    .colab-df-convert:hover {\n",
              "      background-color: #E2EBFA;\n",
              "      box-shadow: 0px 1px 2px rgba(60, 64, 67, 0.3), 0px 1px 3px 1px rgba(60, 64, 67, 0.15);\n",
              "      fill: #174EA6;\n",
              "    }\n",
              "\n",
              "    .colab-df-buttons div {\n",
              "      margin-bottom: 4px;\n",
              "    }\n",
              "\n",
              "    [theme=dark] .colab-df-convert {\n",
              "      background-color: #3B4455;\n",
              "      fill: #D2E3FC;\n",
              "    }\n",
              "\n",
              "    [theme=dark] .colab-df-convert:hover {\n",
              "      background-color: #434B5C;\n",
              "      box-shadow: 0px 1px 3px 1px rgba(0, 0, 0, 0.15);\n",
              "      filter: drop-shadow(0px 1px 2px rgba(0, 0, 0, 0.3));\n",
              "      fill: #FFFFFF;\n",
              "    }\n",
              "  </style>\n",
              "\n",
              "    <script>\n",
              "      const buttonEl =\n",
              "        document.querySelector('#df-54ba7d58-9ddc-4457-a480-d7349fe58b40 button.colab-df-convert');\n",
              "      buttonEl.style.display =\n",
              "        google.colab.kernel.accessAllowed ? 'block' : 'none';\n",
              "\n",
              "      async function convertToInteractive(key) {\n",
              "        const element = document.querySelector('#df-54ba7d58-9ddc-4457-a480-d7349fe58b40');\n",
              "        const dataTable =\n",
              "          await google.colab.kernel.invokeFunction('convertToInteractive',\n",
              "                                                    [key], {});\n",
              "        if (!dataTable) return;\n",
              "\n",
              "        const docLinkHtml = 'Like what you see? Visit the ' +\n",
              "          '<a target=\"_blank\" href=https://colab.research.google.com/notebooks/data_table.ipynb>data table notebook</a>'\n",
              "          + ' to learn more about interactive tables.';\n",
              "        element.innerHTML = '';\n",
              "        dataTable['output_type'] = 'display_data';\n",
              "        await google.colab.output.renderOutput(dataTable, element);\n",
              "        const docLink = document.createElement('div');\n",
              "        docLink.innerHTML = docLinkHtml;\n",
              "        element.appendChild(docLink);\n",
              "      }\n",
              "    </script>\n",
              "  </div>\n",
              "\n",
              "\n",
              "    <div id=\"df-7a2a3654-96a0-4496-b932-0943f0016bc7\">\n",
              "      <button class=\"colab-df-quickchart\" onclick=\"quickchart('df-7a2a3654-96a0-4496-b932-0943f0016bc7')\"\n",
              "                title=\"Suggest charts\"\n",
              "                style=\"display:none;\">\n",
              "\n",
              "<svg xmlns=\"http://www.w3.org/2000/svg\" height=\"24px\"viewBox=\"0 0 24 24\"\n",
              "     width=\"24px\">\n",
              "    <g>\n",
              "        <path d=\"M19 3H5c-1.1 0-2 .9-2 2v14c0 1.1.9 2 2 2h14c1.1 0 2-.9 2-2V5c0-1.1-.9-2-2-2zM9 17H7v-7h2v7zm4 0h-2V7h2v10zm4 0h-2v-4h2v4z\"/>\n",
              "    </g>\n",
              "</svg>\n",
              "      </button>\n",
              "\n",
              "<style>\n",
              "  .colab-df-quickchart {\n",
              "      --bg-color: #E8F0FE;\n",
              "      --fill-color: #1967D2;\n",
              "      --hover-bg-color: #E2EBFA;\n",
              "      --hover-fill-color: #174EA6;\n",
              "      --disabled-fill-color: #AAA;\n",
              "      --disabled-bg-color: #DDD;\n",
              "  }\n",
              "\n",
              "  [theme=dark] .colab-df-quickchart {\n",
              "      --bg-color: #3B4455;\n",
              "      --fill-color: #D2E3FC;\n",
              "      --hover-bg-color: #434B5C;\n",
              "      --hover-fill-color: #FFFFFF;\n",
              "      --disabled-bg-color: #3B4455;\n",
              "      --disabled-fill-color: #666;\n",
              "  }\n",
              "\n",
              "  .colab-df-quickchart {\n",
              "    background-color: var(--bg-color);\n",
              "    border: none;\n",
              "    border-radius: 50%;\n",
              "    cursor: pointer;\n",
              "    display: none;\n",
              "    fill: var(--fill-color);\n",
              "    height: 32px;\n",
              "    padding: 0;\n",
              "    width: 32px;\n",
              "  }\n",
              "\n",
              "  .colab-df-quickchart:hover {\n",
              "    background-color: var(--hover-bg-color);\n",
              "    box-shadow: 0 1px 2px rgba(60, 64, 67, 0.3), 0 1px 3px 1px rgba(60, 64, 67, 0.15);\n",
              "    fill: var(--button-hover-fill-color);\n",
              "  }\n",
              "\n",
              "  .colab-df-quickchart-complete:disabled,\n",
              "  .colab-df-quickchart-complete:disabled:hover {\n",
              "    background-color: var(--disabled-bg-color);\n",
              "    fill: var(--disabled-fill-color);\n",
              "    box-shadow: none;\n",
              "  }\n",
              "\n",
              "  .colab-df-spinner {\n",
              "    border: 2px solid var(--fill-color);\n",
              "    border-color: transparent;\n",
              "    border-bottom-color: var(--fill-color);\n",
              "    animation:\n",
              "      spin 1s steps(1) infinite;\n",
              "  }\n",
              "\n",
              "  @keyframes spin {\n",
              "    0% {\n",
              "      border-color: transparent;\n",
              "      border-bottom-color: var(--fill-color);\n",
              "      border-left-color: var(--fill-color);\n",
              "    }\n",
              "    20% {\n",
              "      border-color: transparent;\n",
              "      border-left-color: var(--fill-color);\n",
              "      border-top-color: var(--fill-color);\n",
              "    }\n",
              "    30% {\n",
              "      border-color: transparent;\n",
              "      border-left-color: var(--fill-color);\n",
              "      border-top-color: var(--fill-color);\n",
              "      border-right-color: var(--fill-color);\n",
              "    }\n",
              "    40% {\n",
              "      border-color: transparent;\n",
              "      border-right-color: var(--fill-color);\n",
              "      border-top-color: var(--fill-color);\n",
              "    }\n",
              "    60% {\n",
              "      border-color: transparent;\n",
              "      border-right-color: var(--fill-color);\n",
              "    }\n",
              "    80% {\n",
              "      border-color: transparent;\n",
              "      border-right-color: var(--fill-color);\n",
              "      border-bottom-color: var(--fill-color);\n",
              "    }\n",
              "    90% {\n",
              "      border-color: transparent;\n",
              "      border-bottom-color: var(--fill-color);\n",
              "    }\n",
              "  }\n",
              "</style>\n",
              "\n",
              "      <script>\n",
              "        async function quickchart(key) {\n",
              "          const quickchartButtonEl =\n",
              "            document.querySelector('#' + key + ' button');\n",
              "          quickchartButtonEl.disabled = true;  // To prevent multiple clicks.\n",
              "          quickchartButtonEl.classList.add('colab-df-spinner');\n",
              "          try {\n",
              "            const charts = await google.colab.kernel.invokeFunction(\n",
              "                'suggestCharts', [key], {});\n",
              "          } catch (error) {\n",
              "            console.error('Error during call to suggestCharts:', error);\n",
              "          }\n",
              "          quickchartButtonEl.classList.remove('colab-df-spinner');\n",
              "          quickchartButtonEl.classList.add('colab-df-quickchart-complete');\n",
              "        }\n",
              "        (() => {\n",
              "          let quickchartButtonEl =\n",
              "            document.querySelector('#df-7a2a3654-96a0-4496-b932-0943f0016bc7 button');\n",
              "          quickchartButtonEl.style.display =\n",
              "            google.colab.kernel.accessAllowed ? 'block' : 'none';\n",
              "        })();\n",
              "      </script>\n",
              "    </div>\n",
              "\n",
              "    </div>\n",
              "  </div>\n"
            ],
            "application/vnd.google.colaboratory.intrinsic+json": {
              "type": "dataframe",
              "variable_name": "df"
            }
          },
          "metadata": {},
          "execution_count": 3
        }
      ],
      "source": [
        "import pandas as pd\n",
        "\n",
        "df = pd.read_csv('rt_reviews.csv', encoding='latin1')\n",
        "df.head()"
      ]
    },
    {
      "cell_type": "markdown",
      "metadata": {
        "id": "cASPe2FTCP7p"
      },
      "source": [
        "Procedemos a ver la información del dataset relevante y verificar la distribución para la columna 'Freshness' y 'Review'."
      ]
    },
    {
      "cell_type": "code",
      "execution_count": null,
      "metadata": {
        "colab": {
          "base_uri": "https://localhost:8080/",
          "height": 334
        },
        "id": "k52dWbE-Cm1x",
        "outputId": "bb93e855-aeaa-40e4-ea6d-60035038ceff"
      },
      "outputs": [
        {
          "name": "stdout",
          "output_type": "stream",
          "text": [
            "<class 'pandas.core.frame.DataFrame'>\n",
            "RangeIndex: 480000 entries, 0 to 479999\n",
            "Data columns (total 2 columns):\n",
            " #   Column     Non-Null Count   Dtype \n",
            "---  ------     --------------   ----- \n",
            " 0   Freshness  480000 non-null  object\n",
            " 1   Review     480000 non-null  object\n",
            "dtypes: object(2)\n",
            "memory usage: 7.3+ MB\n"
          ]
        },
        {
          "data": {
            "text/plain": [
              "Freshness\n",
              "fresh     240000\n",
              "rotten    240000\n",
              "Name: count, dtype: int64"
            ]
          },
          "execution_count": 4,
          "metadata": {},
          "output_type": "execute_result"
        }
      ],
      "source": [
        "df.info()\n",
        "\n",
        "df['Freshness'].value_counts()"
      ]
    },
    {
      "cell_type": "markdown",
      "metadata": {
        "id": "d2n8kb1UVWhI"
      },
      "source": [
        "Se observa que el conjunto de datos tiene alrededor de 480 mil registros, con las dos etiquetas: \"fresh\" y \"rotten\", las cuales están en la columna llamada \"Freshness\" y la otra columna llamada Review que contiene la descripción de la reseña. El dataset está balanceado en cuanto a la cantidad de ejemplos por clase, sin embargo tomaremos una parte de nrows para trabajar el proyecto de la mejor forma."
      ]
    },
    {
      "cell_type": "code",
      "execution_count": 4,
      "metadata": {
        "id": "4nvAzjBuUfYh"
      },
      "outputs": [],
      "source": [
        "df = pd.read_csv('rt_reviews.csv', encoding='latin1', nrows=15000)"
      ]
    },
    {
      "cell_type": "markdown",
      "metadata": {
        "id": "KYdW_46CUoRs"
      },
      "source": [
        "Ahora bien, continuamos con la sección de descripción e inspeccion de datos."
      ]
    },
    {
      "cell_type": "markdown",
      "metadata": {
        "id": "ghZxmOyEBdrK"
      },
      "source": [
        "## 2. Descripción e inspección de datos mediante gráficos\n",
        "\n",
        "Primeramente, analizaremos cuántas palabras se repiten en este dataset especificamente en las reviews, para ello lo haremos con las 25 que más lo logran hacer mediante un gráfico de barras."
      ]
    },
    {
      "cell_type": "code",
      "execution_count": 7,
      "metadata": {
        "id": "SK-D9r_ki4po"
      },
      "outputs": [],
      "source": [
        "import re\n",
        "import collections\n",
        "import matplotlib.pyplot as plt\n",
        "import seaborn as sns\n",
        "import numpy as np\n",
        "\n",
        "reviews = ' '.join(df['Review'].dropna().astype(str))\n",
        "words = re.findall(r'\\b\\w+\\b', reviews.lower())\n",
        "frequency = collections.Counter(words)\n",
        "top_words = frequency.most_common(25)\n",
        "words, freq = zip(*top_words)"
      ]
    },
    {
      "cell_type": "code",
      "execution_count": null,
      "metadata": {
        "colab": {
          "base_uri": "https://localhost:8080/",
          "height": 451
        },
        "id": "cnco5xnFjTZo",
        "outputId": "72c59e26-6700-486e-bcbf-67ab42022533"
      },
      "outputs": [
        {
          "data": {
            "image/png": "[encoded data removed]",
            "text/plain": [
              "<Figure size 1200x800 with 1 Axes>"
            ]
          },
          "metadata": {},
          "output_type": "display_data"
        }
      ],
      "source": [
        "df_top_words = pd.DataFrame({'Palabra': words, 'Frecuencia': freq})\n",
        "plt.figure(figsize=(12, 8))\n",
        "\n",
        "sns.barplot(x='Frecuencia', y='Palabra', data=df_top_words, orient='h')\n",
        "\n",
        "plt.title('25 palabras más frecuentes en las reseñas')\n",
        "plt.xlabel('Frecuencia')\n",
        "plt.ylabel('Palabra')\n",
        "plt.tight_layout()\n",
        "plt.show()"
      ]
    },
    {
      "cell_type": "markdown",
      "metadata": {
        "id": "LePaWr_Gnuxm"
      },
      "source": [
        "Observamos que muchas de las palabras más comunes son \"palabras vacías\" (stopwords) como \"the\", \"and\", \"a\", \"to\", que son artículos, conjunciones y preposiciones. Estas palabras suelen tener poco valor semántico individualmente para determinar el sentimiento de una reseña, este análisis inicial sugiere la necesidad de preprocesar el texto, lo que podría incluir la eliminación de stopwords, para centrar el análisis en palabras que aporten más significado al sentimiento.\n",
        "\n",
        "Por otra parte, haremos un gráfico circular (pie) para tener una idea visual de la distribución para las etiquetas freshness."
      ]
    },
    {
      "cell_type": "code",
      "execution_count": null,
      "metadata": {
        "colab": {
          "base_uri": "https://localhost:8080/",
          "height": 620
        },
        "id": "5RscHph6a3JM",
        "outputId": "989806b1-39df-4e23-bc47-4485131e22e5"
      },
      "outputs": [
        {
          "data": {
            "image/png": "[encoded data removed]",
            "text/plain": [
              "<Figure size 800x800 with 1 Axes>"
            ]
          },
          "metadata": {},
          "output_type": "display_data"
        }
      ],
      "source": [
        "freshness_counts = df['Freshness'].value_counts()\n",
        "\n",
        "labels = freshness_counts.index\n",
        "sizes = freshness_counts.values\n",
        "colors = ['blue', 'red']\n",
        "\n",
        "plt.figure(figsize=(8, 8))\n",
        "plt.pie(sizes, labels=labels, colors=colors, autopct='%1.1f%%', startangle=90)\n",
        "plt.title('Distribución de etiquetas Freshness')\n",
        "plt.axis('equal')\n",
        "plt.show()"
      ]
    },
    {
      "cell_type": "markdown",
      "metadata": {
        "id": "xBr6meyacHcs"
      },
      "source": [
        "La gráfica ciruclar muestra la distribución de las etiquetas \"Freshness\", separando las reseñas en \"fresh\" (positivas) y \"rotten\" (negativas). Visualmente, se aprecia un porcentaje muy similar de reseñas para ambas categorías, lo que indica que el dataset se encuentra bien balanceado.\n",
        "\n",
        "Este balance es favorable para el entrenamiento de modelos de clasificación, ya que evita problemas asociados al desbalance de clases y permite que los modelos aprendan de manera equitativa sobre las características que definen tanto una reseña positiva como una negativa."
      ]
    },
    {
      "cell_type": "markdown",
      "metadata": {
        "id": "WhnZ8hiIsyjY"
      },
      "source": [
        "Procedemos a realizar un histograma del conteo de simbolos y numeros que se encuentren en las reseñas."
      ]
    },
    {
      "cell_type": "code",
      "execution_count": null,
      "metadata": {
        "colab": {
          "base_uri": "https://localhost:8080/",
          "height": 565
        },
        "id": "pzjBZxF6xQeO",
        "outputId": "ff1146a5-7a81-4b6c-e6e2-e16879561699"
      },
      "outputs": [
        {
          "data": {
            "image/png": "[encoded data removed]",
            "text/plain": [
              "<Figure size 1000x600 with 1 Axes>"
            ]
          },
          "metadata": {},
          "output_type": "display_data"
        }
      ],
      "source": [
        "def count_symbols_and_numbers(text):\n",
        "     if pd.isna(text):\n",
        "         return 0\n",
        "     symbols_and_numbers = re.findall(r'[^a-zA-Z\\s]', str(text))\n",
        "     return len(symbols_and_numbers)\n",
        "\n",
        "df['symbols_numbers_count'] = df['Review'].apply(lambda x: count_symbols_and_numbers(x))\n",
        "\n",
        "plt.figure(figsize=(10, 6))\n",
        "\n",
        "sns.histplot(df['symbols_numbers_count'], bins=50, kde=False)\n",
        "\n",
        "plt.title('Distribución de la cantidad de símbolos/números por reseña (Total)')\n",
        "plt.xlabel('Cantidad de símbolos/números')\n",
        "plt.ylabel('Frecuencia')\n",
        "plt.show()"
      ]
    },
    {
      "cell_type": "markdown",
      "metadata": {
        "id": "83woN9G5rwZD"
      },
      "source": [
        "El histograma muestra una distribución marcadamente sesgada hacia la izquierda, con la mayoría de las reviews conteniendo pocos símbolos y números. La concentración en valores bajos indica que el texto es predominantemente alfabético. Sin embargo, la presencia de reviews con una mayor cantidad de símbolos y números, aunque menos frecuentes, sugiere que el conjunto de datos contiene cierto \"ruido\" en forma de caracteres no alfabéticos, por lo cual se ve necesario aplicar técnicas de limpieza de datos, como la eliminación de símbolos y puntuación, para preparar adecuadamente el texto antes de realizar análisis de sentimiento o entrenar modelos de clasificación."
      ]
    },
    {
      "cell_type": "markdown",
      "metadata": {
        "id": "KeF_DiyKzSkE"
      },
      "source": [
        "Ahora bien, procedemos con la sección de estrategias para la preparación de datos."
      ]
    },
    {
      "cell_type": "markdown",
      "metadata": {
        "id": "OL0fH6xdxYsQ"
      },
      "source": [
        "## 3. Estrategias para la preparación de datos."
      ]
    },
    {
      "cell_type": "markdown",
      "metadata": {
        "id": "VKuqZNNw2XMu"
      },
      "source": [
        "Para esta sección planeamos las siguientes estrategias a seguir en este orden, para poder realizar una buena preparación de datos sin ningún problema:"
      ]
    },
    {
      "cell_type": "markdown",
      "metadata": {
        "id": "qpO9Xj_i5qXg"
      },
      "source": [
        "Primeramente, procedemos a convertir las palabras de las review a minúsculas."
      ]
    },
    {
      "cell_type": "code",
      "execution_count": null,
      "metadata": {
        "id": "u6iL2_q16dcU"
      },
      "outputs": [],
      "source": [
        "df['Review'] = df['Review'].astype(str).str.lower()"
      ]
    },
    {
      "cell_type": "markdown",
      "metadata": {
        "id": "9voyMOUF7FWc"
      },
      "source": [
        "Verificamos la salida para comprobar de que están en minúsculas"
      ]
    },
    {
      "cell_type": "code",
      "execution_count": null,
      "metadata": {
        "colab": {
          "base_uri": "https://localhost:8080/",
          "height": 241
        },
        "id": "p5TVG8Zy7PB7",
        "outputId": "5ae3328c-44f6-41d2-be39-945d3e0106fd"
      },
      "outputs": [
        {
          "data": {
            "text/plain": [
              "0     manakamana doesn't answer any questions, yet ...\n",
              "1     wilfully offensive and powered by a chest-thu...\n",
              "2     it would be difficult to imagine material mor...\n",
              "3     despite the gusto its star brings to the role...\n",
              "4     if there was a good idea at the core of this ...\n",
              "Name: Review, dtype: object"
            ]
          },
          "execution_count": 11,
          "metadata": {},
          "output_type": "execute_result"
        }
      ],
      "source": [
        "df['Review'].head()"
      ]
    },
    {
      "cell_type": "markdown",
      "metadata": {
        "id": "0DZbfALq6Gxl"
      },
      "source": [
        "Recordando lo que hicimos en la sección 2, procedemos a eliminar las palabras de las reviews que no son importantes, las stopwords, puesto que no influirán en los modelos."
      ]
    },
    {
      "cell_type": "code",
      "execution_count": null,
      "metadata": {
        "colab": {
          "base_uri": "https://localhost:8080/"
        },
        "id": "gEQ8twXg9-tK",
        "outputId": "dbcce84d-cd1a-4aa9-a728-38d628506e06"
      },
      "outputs": [
        {
          "name": "stderr",
          "output_type": "stream",
          "text": [
            "[nltk_data] Downloading package stopwords to\n",
            "[nltk_data]     C:\\Users\\Lizarazo\\AppData\\Roaming\\nltk_data...\n",
            "[nltk_data]   Package stopwords is already up-to-date!\n"
          ]
        }
      ],
      "source": [
        "import nltk\n",
        "from nltk.corpus import stopwords\n",
        "\n",
        "nltk.download('stopwords')\n",
        "\n",
        "stop_words = set(stopwords.words('english'))\n",
        "\n",
        "def remove_stopwords(text):\n",
        "  return \" \".join([word for word in str(text).split() if word not in stop_words])\n",
        "\n",
        "df['Review'] = df['Review'].apply(lambda x: remove_stopwords(x))"
      ]
    },
    {
      "cell_type": "code",
      "execution_count": null,
      "metadata": {
        "colab": {
          "base_uri": "https://localhost:8080/",
          "height": 241
        },
        "id": "HTOy7UI2_3LC",
        "outputId": "107fc560-5fe5-4145-a52b-4bcf885e5df9"
      },
      "outputs": [
        {
          "data": {
            "text/plain": [
              "0    manakamana answer questions, yet makes point: ...\n",
              "1    wilfully offensive powered chest-thumping mach...\n",
              "2    would difficult imagine material wrong spade l...\n",
              "3    despite gusto star brings role, hard ride shot...\n",
              "4    good idea core film, buried unsightly pile fla...\n",
              "Name: Review, dtype: object"
            ]
          },
          "execution_count": 13,
          "metadata": {},
          "output_type": "execute_result"
        }
      ],
      "source": [
        "df['Review'].head()"
      ]
    },
    {
      "cell_type": "markdown",
      "metadata": {
        "id": "tO29OHlb_ExL"
      },
      "source": [
        "Usamos la libreria nltk para apoyarnos de la stopwords en inglés,  que crea un conjunto llamado stop_words con estas palabras, luego, definimos una función remove_stopwords que toma un texto como entrada, lo divide en palabras y reconstruye el texto omitiendo aquellas palabras que se encuentran en el conjunto stop_words. Finalmente, esta función aplica a cada entrada de la columna 'Review' del DataFrame df, actualizando la columna con el texto preprocesado, procedemos a verificar."
      ]
    },
    {
      "cell_type": "markdown",
      "metadata": {
        "id": "O2wcMEoMHrnu"
      },
      "source": [
        "Ahora bien, procedemos a eliminar los signos de puntuación y símbolos que se encuentren en las reviews."
      ]
    },
    {
      "cell_type": "code",
      "execution_count": null,
      "metadata": {
        "id": "6h4UlnKTIXCF"
      },
      "outputs": [],
      "source": [
        "import re\n",
        "\n",
        "def remove_symbols_and_punctuation(text):\n",
        "  return re.sub(r'[^a-zA-Z0-9\\s]', '', text)\n",
        "\n",
        "df['Review'] = df['Review'].apply(lambda x: remove_symbols_and_punctuation(x))"
      ]
    },
    {
      "cell_type": "code",
      "execution_count": null,
      "metadata": {
        "colab": {
          "base_uri": "https://localhost:8080/",
          "height": 241
        },
        "id": "Z5u6Mya7InMs",
        "outputId": "430fa872-df1b-41ef-d4ec-1bbba5fcec10"
      },
      "outputs": [
        {
          "data": {
            "text/plain": [
              "0    manakamana answer questions yet makes point ne...\n",
              "1    wilfully offensive powered chestthumping machi...\n",
              "2    would difficult imagine material wrong spade l...\n",
              "3    despite gusto star brings role hard ride shotg...\n",
              "4    good idea core film buried unsightly pile flat...\n",
              "Name: Review, dtype: object"
            ]
          },
          "execution_count": 15,
          "metadata": {},
          "output_type": "execute_result"
        }
      ],
      "source": [
        "df['Review'].head()"
      ]
    },
    {
      "cell_type": "markdown",
      "metadata": {
        "id": "1irlXpxjI4NE"
      },
      "source": [
        "Como se puede observar previamente, definimos una función para remover signos de puntuación y simbolos en la columna de reviews, y verificamos que ha sido satisfactorio."
      ]
    },
    {
      "cell_type": "markdown",
      "metadata": {
        "id": "KbNg5U5xLp8j"
      },
      "source": [
        "Ahora, buscaremos que las palabras logren estar en infinitivo sin ningún tipo de conjugación, nos apoyaremos en la libreria de nltk usando WordNetLemmatizer."
      ]
    },
    {
      "cell_type": "code",
      "execution_count": null,
      "metadata": {
        "colab": {
          "base_uri": "https://localhost:8080/"
        },
        "id": "JQ_dk4deWNqR",
        "outputId": "9d967a9c-1ed0-4711-a83a-8c46e046a2f1"
      },
      "outputs": [
        {
          "name": "stderr",
          "output_type": "stream",
          "text": [
            "[nltk_data] Downloading package wordnet to\n",
            "[nltk_data]     C:\\Users\\Lizarazo\\AppData\\Roaming\\nltk_data...\n",
            "[nltk_data]   Package wordnet is already up-to-date!\n",
            "[nltk_data] Downloading package omw-1.4 to\n",
            "[nltk_data]     C:\\Users\\Lizarazo\\AppData\\Roaming\\nltk_data...\n",
            "[nltk_data]   Package omw-1.4 is already up-to-date!\n",
            "[nltk_data] Downloading package averaged_perceptron_tagger_eng to\n",
            "[nltk_data]     C:\\Users\\Lizarazo\\AppData\\Roaming\\nltk_data...\n",
            "[nltk_data]   Package averaged_perceptron_tagger_eng is already up-to-\n",
            "[nltk_data]       date!\n"
          ]
        }
      ],
      "source": [
        "nltk.download('wordnet')\n",
        "nltk.download('omw-1.4')\n",
        "nltk.download('averaged_perceptron_tagger_eng')\n",
        "import nltk\n",
        "from nltk.stem import WordNetLemmatizer\n",
        "from nltk.corpus import wordnet\n",
        "from nltk.stem import PorterStemmer\n",
        "\n",
        "def get_wordnet_pos(tag):\n",
        "    \"\"\"Mapea el tag de POS de NLTK a los tags de WordNet.\"\"\"\n",
        "    if tag.startswith('J'):\n",
        "        return wordnet.ADJ\n",
        "    elif tag.startswith('V'):\n",
        "        return wordnet.VERB\n",
        "    elif tag.startswith('N'):\n",
        "        return wordnet.NOUN\n",
        "    elif tag.startswith('R'):\n",
        "        return wordnet.ADV\n",
        "    else:\n",
        "        return wordnet.NOUN"
      ]
    },
    {
      "cell_type": "markdown",
      "metadata": {
        "id": "EODZHthTD6pP"
      },
      "source": [
        "Ahora definimos una función para normalizarlas mediante lematización con POS."
      ]
    },
    {
      "cell_type": "code",
      "execution_count": null,
      "metadata": {
        "id": "_dbnBfL_D5-X"
      },
      "outputs": [],
      "source": [
        "def normalize_words_lemmatization_with_pos(text, lemmatizer):\n",
        "    result = []\n",
        "    words_with_pos = nltk.pos_tag(text.split())\n",
        "    for word, tag in words_with_pos:\n",
        "        pos = get_wordnet_pos(tag)\n",
        "        result.append(lemmatizer.lemmatize(word, pos=pos))\n",
        "    return ' '.join(result)\n",
        "\n",
        "wordnet_lemmatizer = WordNetLemmatizer()\n",
        "\n",
        "df['Review'] = df['Review'].apply(lambda x: normalize_words_lemmatization_with_pos(x, wordnet_lemmatizer))"
      ]
    },
    {
      "cell_type": "code",
      "execution_count": null,
      "metadata": {
        "colab": {
          "base_uri": "https://localhost:8080/",
          "height": 241
        },
        "id": "YmAMgymwUs6P",
        "outputId": "b73b510a-763a-4de5-97c1-bde4cb38054e"
      },
      "outputs": [
        {
          "data": {
            "text/plain": [
              "0    manakamana answer question yet make point nepa...\n",
              "1    wilfully offensive power chestthumping machism...\n",
              "2    would difficult imagine material wrong spade l...\n",
              "3    despite gusto star brings role hard ride shotg...\n",
              "4    good idea core film bury unsightly pile flatul...\n",
              "Name: Review, dtype: object"
            ]
          },
          "execution_count": 18,
          "metadata": {},
          "output_type": "execute_result"
        }
      ],
      "source": [
        "df['Review'].head()"
      ]
    },
    {
      "cell_type": "markdown",
      "metadata": {
        "id": "haWy4wz4XMsu"
      },
      "source": [
        "Se aplicó un proceso de lematización utilizando la biblioteca NLTK y el recurso WordNet, cada reseña fue procesada palabra por palabra; primero se determinó la parte del habla (POS) de cada término mediante nltk.pos_tag, luego se mapeó este tag al formato compatible con WordNet utilizando una función auxiliar. Finalmente, el WordNetLemmatizer fue aplicado a cada palabra, pasándole el tag POS correspondiente, para reducirla a su forma base léxicamente correcta, resultando en un texto preprocesado donde las variaciones de palabras se han unificado para facilitar el análisis posterior."
      ]
    },
    {
      "cell_type": "markdown",
      "metadata": {
        "id": "NUtbQgmVYVdV"
      },
      "source": [
        "Ahora bien, verificamos nuevamente haciendo la gráfica de barras para las 25 palabras más usadas luego de todo el proceso de preparación de datos."
      ]
    },
    {
      "cell_type": "code",
      "execution_count": null,
      "metadata": {
        "id": "-BKm8QiNYLAV"
      },
      "outputs": [],
      "source": [
        "reviews = ' '.join(df['Review'].dropna().astype(str))\n",
        "words = re.findall(r'\\b\\w+\\b', reviews.lower())\n",
        "frequency = collections.Counter(words)\n",
        "top_words = frequency.most_common(25)\n",
        "words, freq = zip(*top_words)"
      ]
    },
    {
      "cell_type": "code",
      "execution_count": null,
      "metadata": {
        "colab": {
          "base_uri": "https://localhost:8080/",
          "height": 454
        },
        "id": "KYwud7mZYCcs",
        "outputId": "23a5f9b0-d63e-41f4-d19d-79f7e787e19e"
      },
      "outputs": [
        {
          "data": {
            "image/png": "[encoded data removed]",
            "text/plain": [
              "<Figure size 1200x800 with 1 Axes>"
            ]
          },
          "metadata": {},
          "output_type": "display_data"
        }
      ],
      "source": [
        "df_top_words = pd.DataFrame({'Palabra': words, 'Frecuencia': freq})\n",
        "plt.figure(figsize=(12, 8))\n",
        "\n",
        "sns.barplot(x='Frecuencia', y='Palabra', data=df_top_words, orient='h')\n",
        "\n",
        "plt.title('25 palabras más frecuentes en las reseñas')\n",
        "plt.xlabel('Frecuencia')\n",
        "plt.ylabel('Palabra')\n",
        "plt.tight_layout()\n",
        "plt.show()"
      ]
    },
    {
      "cell_type": "markdown",
      "metadata": {
        "id": "QXexsqs1Qhmp"
      },
      "source": [
        "Analizamos tambien la gráfica correspondiente de símbolos y números, que es un histograma"
      ]
    },
    {
      "cell_type": "code",
      "execution_count": null,
      "metadata": {
        "colab": {
          "base_uri": "https://localhost:8080/",
          "height": 565
        },
        "id": "ctjwTODyQod5",
        "outputId": "15a05a55-d76c-4086-8b9e-2a8bcde3f9f8"
      },
      "outputs": [
        {
          "data": {
            "image/png": "[encoded data removed]",
            "text/plain": [
              "<Figure size 1000x600 with 1 Axes>"
            ]
          },
          "metadata": {},
          "output_type": "display_data"
        }
      ],
      "source": [
        "def count_symbols_and_numbers(text):\n",
        "     if pd.isna(text):\n",
        "         return 0\n",
        "     symbols_and_numbers = re.findall(r'[^a-zA-Z\\s]', str(text))\n",
        "     return len(symbols_and_numbers)\n",
        "\n",
        "df['symbols_numbers_count'] = df['Review'].apply(lambda x: count_symbols_and_numbers(x))\n",
        "\n",
        "plt.figure(figsize=(10, 6))\n",
        "\n",
        "sns.histplot(df['symbols_numbers_count'], bins=50, kde=False)\n",
        "\n",
        "plt.title('Distribución de la cantidad de símbolos/números por reseña (Total)')\n",
        "plt.xlabel('Cantidad de símbolos/números')\n",
        "plt.ylabel('Frecuencia')\n",
        "plt.show()"
      ]
    },
    {
      "cell_type": "markdown",
      "metadata": {
        "id": "mN_PF4t_Yibc"
      },
      "source": [
        " Después del preprocesamiento (conversión a minúsculas, eliminación de stopwords, signos de puntuación, simbolos y lematización), muestra una clara mejora en comparación con las primeras gráfica, revelando términos que son potencialmente más significativos para el análisis de sentimiento, como \"film\", \"movie\", \"like\", \"time\", \"good\", \"story\". Ahora el análisis se centra en palabras que tienen más probabilidades de contribuir a la identificación del sentimiento positivo o negativo en las reviews."
      ]
    },
    {
      "cell_type": "markdown",
      "metadata": {
        "id": "A9x3wMrraDKG"
      },
      "source": [
        "Procedemos ahora a la parte de vectorización de texto de las reviews."
      ]
    },
    {
      "cell_type": "code",
      "execution_count": null,
      "metadata": {
        "id": "Rvkp06SJ3zrP",
        "outputId": "2420791b-e76b-44c2-97c5-e32eef825353"
      },
      "outputs": [
        {
          "name": "stdout",
          "output_type": "stream",
          "text": [
            "Defaulting to user installation because normal site-packages is not writeable\n",
            "Collecting scikit-learn\n",
            "  Downloading scikit_learn-1.6.1-cp313-cp313-win_amd64.whl.metadata (15 kB)\n",
            "Requirement already satisfied: numpy>=1.19.5 in c:\\users\\lizarazo\\appdata\\roaming\\python\\python313\\site-packages (from scikit-learn) (2.2.4)\n",
            "Collecting scipy>=1.6.0 (from scikit-learn)\n",
            "  Downloading scipy-1.15.3-cp313-cp313-win_amd64.whl.metadata (60 kB)\n",
            "Requirement already satisfied: joblib>=1.2.0 in c:\\users\\lizarazo\\appdata\\roaming\\python\\python313\\site-packages (from scikit-learn) (1.5.1)\n",
            "Collecting threadpoolctl>=3.1.0 (from scikit-learn)\n",
            "  Downloading threadpoolctl-3.6.0-py3-none-any.whl.metadata (13 kB)\n",
            "Downloading scikit_learn-1.6.1-cp313-cp313-win_amd64.whl (11.1 MB)\n",
            "   ---------------------------------------- 0.0/11.1 MB ? eta -:--:--\n",
            "   ---------------------------------------  11.0/11.1 MB 64.7 MB/s eta 0:00:01\n",
            "   ---------------------------------------- 11.1/11.1 MB 36.7 MB/s eta 0:00:00\n",
            "Downloading scipy-1.15.3-cp313-cp313-win_amd64.whl (41.0 MB)\n",
            "   ---------------------------------------- 0.0/41.0 MB ? eta -:--:--\n",
            "   ------------------------ --------------- 24.9/41.0 MB 120.1 MB/s eta 0:00:01\n",
            "   ---------------------------------------  40.9/41.0 MB 119.3 MB/s eta 0:00:01\n",
            "   ---------------------------------------  40.9/41.0 MB 119.3 MB/s eta 0:00:01\n",
            "   ---------------------------------------  40.9/41.0 MB 119.3 MB/s eta 0:00:01\n",
            "   ---------------------------------------- 41.0/41.0 MB 48.8 MB/s eta 0:00:00\n",
            "Downloading threadpoolctl-3.6.0-py3-none-any.whl (18 kB)\n",
            "Installing collected packages: threadpoolctl, scipy, scikit-learn\n",
            "Successfully installed scikit-learn-1.6.1 scipy-1.15.3 threadpoolctl-3.6.0\n"
          ]
        },
        {
          "name": "stderr",
          "output_type": "stream",
          "text": [
            "\n",
            "[notice] A new release of pip is available: 24.3.1 -> 25.1.1\n",
            "[notice] To update, run: python.exe -m pip install --upgrade pip\n"
          ]
        }
      ],
      "source": [
        "!pip install scikit-learn"
      ]
    },
    {
      "cell_type": "code",
      "execution_count": null,
      "metadata": {
        "id": "k0zjnfjedlt4"
      },
      "outputs": [],
      "source": [
        "from sklearn.feature_extraction.text import TfidfVectorizer\n",
        "\n",
        "tfidf = TfidfVectorizer(analyzer = 'word')\n",
        "tfidfvectorizer = tfidf.fit_transform(df['Review'])\n",
        "tfidf_tokens = tfidf.get_feature_names_out()\n",
        "df_tfidfvect = pd.DataFrame(data = tfidfvectorizer.toarray(),columns = tfidf_tokens)\n",
        "datasetDef = pd.concat([df['Freshness'], df_tfidfvect], axis=1)\n",
        "datasetDef['Freshness'] = datasetDef['Freshness'].map({'fresh': 1, 'rotten': 0})\n"
      ]
    },
    {
      "cell_type": "markdown",
      "metadata": {
        "id": "FyJSbKCCejhB"
      },
      "source": [
        "Se utiliza TfidfVectorizer de la biblioteca sklearn para transformar el texto preprocesado de las reseñas de películas (df['Review']) en una representación numérica. TfidfVectorizer calcula la frecuencia de los términos (TF) y la frecuencia inversa de los documentos (IDF) para asignar un peso a cada palabra en relación con su importancia en una reseña individual y en todo el conjunto de datos. Se aplica esta vectorización al texto de las reseñas, se extrae los nombres de las palabras (tokens) resultantes, crea un DataFrame (df_tfidfvect) con estos valores numéricos y finalmente concatena este DataFrame con la columna original de \"Freshness\" (df['Freshness']) para crear un conjunto de datos final (datasetDef) listo para ser utilizado en los modelos de clasificación que trabajaremos.Tambien aplicamos el Ordinal Encoding a la columna freshness, el método map de las Series de Pandas permite reemplazar cada valor de la Serie por otro valor basándose en un diccionario o una función. Aquí, mapeamos 'fresh' a 1 y 'rotten' a 0."
      ]
    },
    {
      "cell_type": "code",
      "execution_count": null,
      "metadata": {
        "colab": {
          "base_uri": "https://localhost:8080/",
          "height": 412
        },
        "id": "MDIyZjHEgC-h",
        "outputId": "ee491ff0-e699-4516-9deb-537afc2dfccf"
      },
      "outputs": [
        {
          "data": {
            "text/html": [
              "<div>\n",
              "<style scoped>\n",
              "    .dataframe tbody tr th:only-of-type {\n",
              "        vertical-align: middle;\n",
              "    }\n",
              "\n",
              "    .dataframe tbody tr th {\n",
              "        vertical-align: top;\n",
              "    }\n",
              "\n",
              "    .dataframe thead th {\n",
              "        text-align: right;\n",
              "    }\n",
              "</style>\n",
              "<table border=\"1\" class=\"dataframe\">\n",
              "  <thead>\n",
              "    <tr style=\"text-align: right;\">\n",
              "      <th></th>\n",
              "      <th>Freshness</th>\n",
              "      <th>007</th>\n",
              "      <th>10</th>\n",
              "      <th>100</th>\n",
              "      <th>1000</th>\n",
              "      <th>10000</th>\n",
              "      <th>1001</th>\n",
              "      <th>100year</th>\n",
              "      <th>101</th>\n",
              "      <th>1010</th>\n",
              "      <th>...</th>\n",
              "      <th>zucker</th>\n",
              "      <th>zuckerberg</th>\n",
              "      <th>zuckers</th>\n",
              "      <th>zupan</th>\n",
              "      <th>zvyaginstsev</th>\n",
              "      <th>zvyagintsev</th>\n",
              "      <th>zweig</th>\n",
              "      <th>zwick</th>\n",
              "      <th>zwicks</th>\n",
              "      <th>zwickwe</th>\n",
              "    </tr>\n",
              "  </thead>\n",
              "  <tbody>\n",
              "    <tr>\n",
              "      <th>0</th>\n",
              "      <td>1</td>\n",
              "      <td>0.0</td>\n",
              "      <td>0.0</td>\n",
              "      <td>0.0</td>\n",
              "      <td>0.0</td>\n",
              "      <td>0.0</td>\n",
              "      <td>0.0</td>\n",
              "      <td>0.0</td>\n",
              "      <td>0.0</td>\n",
              "      <td>0.0</td>\n",
              "      <td>...</td>\n",
              "      <td>0.0</td>\n",
              "      <td>0.0</td>\n",
              "      <td>0.0</td>\n",
              "      <td>0.0</td>\n",
              "      <td>0.0</td>\n",
              "      <td>0.0</td>\n",
              "      <td>0.0</td>\n",
              "      <td>0.0</td>\n",
              "      <td>0.0</td>\n",
              "      <td>0.0</td>\n",
              "    </tr>\n",
              "    <tr>\n",
              "      <th>1</th>\n",
              "      <td>1</td>\n",
              "      <td>0.0</td>\n",
              "      <td>0.0</td>\n",
              "      <td>0.0</td>\n",
              "      <td>0.0</td>\n",
              "      <td>0.0</td>\n",
              "      <td>0.0</td>\n",
              "      <td>0.0</td>\n",
              "      <td>0.0</td>\n",
              "      <td>0.0</td>\n",
              "      <td>...</td>\n",
              "      <td>0.0</td>\n",
              "      <td>0.0</td>\n",
              "      <td>0.0</td>\n",
              "      <td>0.0</td>\n",
              "      <td>0.0</td>\n",
              "      <td>0.0</td>\n",
              "      <td>0.0</td>\n",
              "      <td>0.0</td>\n",
              "      <td>0.0</td>\n",
              "      <td>0.0</td>\n",
              "    </tr>\n",
              "    <tr>\n",
              "      <th>2</th>\n",
              "      <td>0</td>\n",
              "      <td>0.0</td>\n",
              "      <td>0.0</td>\n",
              "      <td>0.0</td>\n",
              "      <td>0.0</td>\n",
              "      <td>0.0</td>\n",
              "      <td>0.0</td>\n",
              "      <td>0.0</td>\n",
              "      <td>0.0</td>\n",
              "      <td>0.0</td>\n",
              "      <td>...</td>\n",
              "      <td>0.0</td>\n",
              "      <td>0.0</td>\n",
              "      <td>0.0</td>\n",
              "      <td>0.0</td>\n",
              "      <td>0.0</td>\n",
              "      <td>0.0</td>\n",
              "      <td>0.0</td>\n",
              "      <td>0.0</td>\n",
              "      <td>0.0</td>\n",
              "      <td>0.0</td>\n",
              "    </tr>\n",
              "    <tr>\n",
              "      <th>3</th>\n",
              "      <td>0</td>\n",
              "      <td>0.0</td>\n",
              "      <td>0.0</td>\n",
              "      <td>0.0</td>\n",
              "      <td>0.0</td>\n",
              "      <td>0.0</td>\n",
              "      <td>0.0</td>\n",
              "      <td>0.0</td>\n",
              "      <td>0.0</td>\n",
              "      <td>0.0</td>\n",
              "      <td>...</td>\n",
              "      <td>0.0</td>\n",
              "      <td>0.0</td>\n",
              "      <td>0.0</td>\n",
              "      <td>0.0</td>\n",
              "      <td>0.0</td>\n",
              "      <td>0.0</td>\n",
              "      <td>0.0</td>\n",
              "      <td>0.0</td>\n",
              "      <td>0.0</td>\n",
              "      <td>0.0</td>\n",
              "    </tr>\n",
              "    <tr>\n",
              "      <th>4</th>\n",
              "      <td>0</td>\n",
              "      <td>0.0</td>\n",
              "      <td>0.0</td>\n",
              "      <td>0.0</td>\n",
              "      <td>0.0</td>\n",
              "      <td>0.0</td>\n",
              "      <td>0.0</td>\n",
              "      <td>0.0</td>\n",
              "      <td>0.0</td>\n",
              "      <td>0.0</td>\n",
              "      <td>...</td>\n",
              "      <td>0.0</td>\n",
              "      <td>0.0</td>\n",
              "      <td>0.0</td>\n",
              "      <td>0.0</td>\n",
              "      <td>0.0</td>\n",
              "      <td>0.0</td>\n",
              "      <td>0.0</td>\n",
              "      <td>0.0</td>\n",
              "      <td>0.0</td>\n",
              "      <td>0.0</td>\n",
              "    </tr>\n",
              "    <tr>\n",
              "      <th>5</th>\n",
              "      <td>0</td>\n",
              "      <td>0.0</td>\n",
              "      <td>0.0</td>\n",
              "      <td>0.0</td>\n",
              "      <td>0.0</td>\n",
              "      <td>0.0</td>\n",
              "      <td>0.0</td>\n",
              "      <td>0.0</td>\n",
              "      <td>0.0</td>\n",
              "      <td>0.0</td>\n",
              "      <td>...</td>\n",
              "      <td>0.0</td>\n",
              "      <td>0.0</td>\n",
              "      <td>0.0</td>\n",
              "      <td>0.0</td>\n",
              "      <td>0.0</td>\n",
              "      <td>0.0</td>\n",
              "      <td>0.0</td>\n",
              "      <td>0.0</td>\n",
              "      <td>0.0</td>\n",
              "      <td>0.0</td>\n",
              "    </tr>\n",
              "    <tr>\n",
              "      <th>6</th>\n",
              "      <td>1</td>\n",
              "      <td>0.0</td>\n",
              "      <td>0.0</td>\n",
              "      <td>0.0</td>\n",
              "      <td>0.0</td>\n",
              "      <td>0.0</td>\n",
              "      <td>0.0</td>\n",
              "      <td>0.0</td>\n",
              "      <td>0.0</td>\n",
              "      <td>0.0</td>\n",
              "      <td>...</td>\n",
              "      <td>0.0</td>\n",
              "      <td>0.0</td>\n",
              "      <td>0.0</td>\n",
              "      <td>0.0</td>\n",
              "      <td>0.0</td>\n",
              "      <td>0.0</td>\n",
              "      <td>0.0</td>\n",
              "      <td>0.0</td>\n",
              "      <td>0.0</td>\n",
              "      <td>0.0</td>\n",
              "    </tr>\n",
              "    <tr>\n",
              "      <th>7</th>\n",
              "      <td>0</td>\n",
              "      <td>0.0</td>\n",
              "      <td>0.0</td>\n",
              "      <td>0.0</td>\n",
              "      <td>0.0</td>\n",
              "      <td>0.0</td>\n",
              "      <td>0.0</td>\n",
              "      <td>0.0</td>\n",
              "      <td>0.0</td>\n",
              "      <td>0.0</td>\n",
              "      <td>...</td>\n",
              "      <td>0.0</td>\n",
              "      <td>0.0</td>\n",
              "      <td>0.0</td>\n",
              "      <td>0.0</td>\n",
              "      <td>0.0</td>\n",
              "      <td>0.0</td>\n",
              "      <td>0.0</td>\n",
              "      <td>0.0</td>\n",
              "      <td>0.0</td>\n",
              "      <td>0.0</td>\n",
              "    </tr>\n",
              "    <tr>\n",
              "      <th>8</th>\n",
              "      <td>0</td>\n",
              "      <td>0.0</td>\n",
              "      <td>0.0</td>\n",
              "      <td>0.0</td>\n",
              "      <td>0.0</td>\n",
              "      <td>0.0</td>\n",
              "      <td>0.0</td>\n",
              "      <td>0.0</td>\n",
              "      <td>0.0</td>\n",
              "      <td>0.0</td>\n",
              "      <td>...</td>\n",
              "      <td>0.0</td>\n",
              "      <td>0.0</td>\n",
              "      <td>0.0</td>\n",
              "      <td>0.0</td>\n",
              "      <td>0.0</td>\n",
              "      <td>0.0</td>\n",
              "      <td>0.0</td>\n",
              "      <td>0.0</td>\n",
              "      <td>0.0</td>\n",
              "      <td>0.0</td>\n",
              "    </tr>\n",
              "    <tr>\n",
              "      <th>9</th>\n",
              "      <td>1</td>\n",
              "      <td>0.0</td>\n",
              "      <td>0.0</td>\n",
              "      <td>0.0</td>\n",
              "      <td>0.0</td>\n",
              "      <td>0.0</td>\n",
              "      <td>0.0</td>\n",
              "      <td>0.0</td>\n",
              "      <td>0.0</td>\n",
              "      <td>0.0</td>\n",
              "      <td>...</td>\n",
              "      <td>0.0</td>\n",
              "      <td>0.0</td>\n",
              "      <td>0.0</td>\n",
              "      <td>0.0</td>\n",
              "      <td>0.0</td>\n",
              "      <td>0.0</td>\n",
              "      <td>0.0</td>\n",
              "      <td>0.0</td>\n",
              "      <td>0.0</td>\n",
              "      <td>0.0</td>\n",
              "    </tr>\n",
              "  </tbody>\n",
              "</table>\n",
              "<p>10 rows × 24273 columns</p>\n",
              "</div>"
            ],
            "text/plain": [
              "   Freshness  007   10  100  1000  10000  1001  100year  101  1010  ...  \\\n",
              "0          1  0.0  0.0  0.0   0.0    0.0   0.0      0.0  0.0   0.0  ...   \n",
              "1          1  0.0  0.0  0.0   0.0    0.0   0.0      0.0  0.0   0.0  ...   \n",
              "2          0  0.0  0.0  0.0   0.0    0.0   0.0      0.0  0.0   0.0  ...   \n",
              "3          0  0.0  0.0  0.0   0.0    0.0   0.0      0.0  0.0   0.0  ...   \n",
              "4          0  0.0  0.0  0.0   0.0    0.0   0.0      0.0  0.0   0.0  ...   \n",
              "5          0  0.0  0.0  0.0   0.0    0.0   0.0      0.0  0.0   0.0  ...   \n",
              "6          1  0.0  0.0  0.0   0.0    0.0   0.0      0.0  0.0   0.0  ...   \n",
              "7          0  0.0  0.0  0.0   0.0    0.0   0.0      0.0  0.0   0.0  ...   \n",
              "8          0  0.0  0.0  0.0   0.0    0.0   0.0      0.0  0.0   0.0  ...   \n",
              "9          1  0.0  0.0  0.0   0.0    0.0   0.0      0.0  0.0   0.0  ...   \n",
              "\n",
              "   zucker  zuckerberg  zuckers  zupan  zvyaginstsev  zvyagintsev  zweig  \\\n",
              "0     0.0         0.0      0.0    0.0           0.0          0.0    0.0   \n",
              "1     0.0         0.0      0.0    0.0           0.0          0.0    0.0   \n",
              "2     0.0         0.0      0.0    0.0           0.0          0.0    0.0   \n",
              "3     0.0         0.0      0.0    0.0           0.0          0.0    0.0   \n",
              "4     0.0         0.0      0.0    0.0           0.0          0.0    0.0   \n",
              "5     0.0         0.0      0.0    0.0           0.0          0.0    0.0   \n",
              "6     0.0         0.0      0.0    0.0           0.0          0.0    0.0   \n",
              "7     0.0         0.0      0.0    0.0           0.0          0.0    0.0   \n",
              "8     0.0         0.0      0.0    0.0           0.0          0.0    0.0   \n",
              "9     0.0         0.0      0.0    0.0           0.0          0.0    0.0   \n",
              "\n",
              "   zwick  zwicks  zwickwe  \n",
              "0    0.0     0.0      0.0  \n",
              "1    0.0     0.0      0.0  \n",
              "2    0.0     0.0      0.0  \n",
              "3    0.0     0.0      0.0  \n",
              "4    0.0     0.0      0.0  \n",
              "5    0.0     0.0      0.0  \n",
              "6    0.0     0.0      0.0  \n",
              "7    0.0     0.0      0.0  \n",
              "8    0.0     0.0      0.0  \n",
              "9    0.0     0.0      0.0  \n",
              "\n",
              "[10 rows x 24273 columns]"
            ]
          },
          "execution_count": 23,
          "metadata": {},
          "output_type": "execute_result"
        }
      ],
      "source": [
        "datasetDef.head(10)"
      ]
    },
    {
      "cell_type": "markdown",
      "metadata": {
        "id": "ROklzM95gVl5"
      },
      "source": [
        "Una vez culminado esta parte del preprocesamiento del texto, seguimos con la selección de características mediante RFC."
      ]
    },
    {
      "cell_type": "markdown",
      "metadata": {
        "id": "_P2L8gc-tbR6"
      },
      "source": [
        "### Seleccion de características"
      ]
    },
    {
      "cell_type": "markdown",
      "metadata": {
        "id": "EH1eyEmNwTpN"
      },
      "source": [
        "Ahora bien, procederemos a realizar la seleccion de características para freshness, que es nuestro target a trabajar."
      ]
    },
    {
      "cell_type": "code",
      "execution_count": null,
      "metadata": {
        "id": "6QXbzZWaxb6A"
      },
      "outputs": [],
      "source": [
        "from sklearn.ensemble import RandomForestClassifier\n",
        "from sklearn.feature_selection import SelectFromModel\n",
        "\n",
        "y_data = datasetDef['Freshness']\n",
        "x_data = datasetDef.drop(['Freshness'], axis=1)\n",
        "sel = SelectFromModel(RandomForestClassifier(n_estimators = 100, random_state=42))\n",
        "sel.fit(x_data, y_data)\n",
        "\n",
        "selected_features_mask = sel.get_support()\n",
        "\n",
        "selected_features = x_data.columns[selected_features_mask]\n",
        "\n",
        "x_data_selected = x_data[selected_features]"
      ]
    },
    {
      "cell_type": "code",
      "execution_count": null,
      "metadata": {
        "colab": {
          "base_uri": "https://localhost:8080/"
        },
        "id": "big-F3hMzgAn",
        "outputId": "3ee05665-b15a-46ee-ec4e-d1dda5573911"
      },
      "outputs": [
        {
          "name": "stdout",
          "output_type": "stream",
          "text": [
            "Original number of features: 24272\n",
            "Number of selected features: 3416\n",
            "Selected features:\n",
            "Index(['10', '100', '12', '13', '15', '1960s', '1970s', '20', '2010', '2016',\n",
            "       ...\n",
            "       'york', 'you', 'young', 'youngster', 'youth', 'yule', 'zemeckis',\n",
            "       'zhivago', 'zombie', 'zone'],\n",
            "      dtype='object', length=3416)\n"
          ]
        }
      ],
      "source": [
        "print(f\"Original number of features: {x_data.shape[1]}\")\n",
        "print(f\"Number of selected features: {x_data_selected.shape[1]}\")\n",
        "print(\"Selected features:\")\n",
        "print(selected_features)"
      ]
    },
    {
      "cell_type": "markdown",
      "metadata": {
        "id": "FGl_FbP00x4A"
      },
      "source": [
        "De las 24272 características del dataset, el modelo de selección ha recomendado que se usen 3416, esto lo vemos reflejado previamente en el lenght. Ahora, procedemos a quitar las caracteristicas que no fueron seleccionadas."
      ]
    },
    {
      "cell_type": "code",
      "execution_count": null,
      "metadata": {
        "id": "9VwfNi751rn2"
      },
      "outputs": [],
      "source": [
        "columns_to_drop = list(set(x_data.columns) - set(selected_features))\n",
        "x_data.drop(columns = columns_to_drop, inplace = True)\n",
        "x_data.reset_index(drop=True, inplace=True)"
      ]
    },
    {
      "cell_type": "markdown",
      "metadata": {
        "id": "u-NIf7Ml2Znw"
      },
      "source": [
        "Verificamos los resultados correspondientes."
      ]
    },
    {
      "cell_type": "code",
      "execution_count": null,
      "metadata": {
        "colab": {
          "base_uri": "https://localhost:8080/",
          "height": 412
        },
        "id": "MOh5CWvq2fz2",
        "outputId": "5ee3345a-2a83-4ce5-d475-b6f597e22cdf"
      },
      "outputs": [
        {
          "data": {
            "text/html": [
              "<div>\n",
              "<style scoped>\n",
              "    .dataframe tbody tr th:only-of-type {\n",
              "        vertical-align: middle;\n",
              "    }\n",
              "\n",
              "    .dataframe tbody tr th {\n",
              "        vertical-align: top;\n",
              "    }\n",
              "\n",
              "    .dataframe thead th {\n",
              "        text-align: right;\n",
              "    }\n",
              "</style>\n",
              "<table border=\"1\" class=\"dataframe\">\n",
              "  <thead>\n",
              "    <tr style=\"text-align: right;\">\n",
              "      <th></th>\n",
              "      <th>10</th>\n",
              "      <th>100</th>\n",
              "      <th>12</th>\n",
              "      <th>13</th>\n",
              "      <th>15</th>\n",
              "      <th>1960s</th>\n",
              "      <th>1970s</th>\n",
              "      <th>20</th>\n",
              "      <th>2010</th>\n",
              "      <th>2016</th>\n",
              "      <th>...</th>\n",
              "      <th>york</th>\n",
              "      <th>you</th>\n",
              "      <th>young</th>\n",
              "      <th>youngster</th>\n",
              "      <th>youth</th>\n",
              "      <th>yule</th>\n",
              "      <th>zemeckis</th>\n",
              "      <th>zhivago</th>\n",
              "      <th>zombie</th>\n",
              "      <th>zone</th>\n",
              "    </tr>\n",
              "  </thead>\n",
              "  <tbody>\n",
              "    <tr>\n",
              "      <th>0</th>\n",
              "      <td>0.0</td>\n",
              "      <td>0.0</td>\n",
              "      <td>0.0</td>\n",
              "      <td>0.0</td>\n",
              "      <td>0.0</td>\n",
              "      <td>0.0</td>\n",
              "      <td>0.0</td>\n",
              "      <td>0.0</td>\n",
              "      <td>0.0</td>\n",
              "      <td>0.0</td>\n",
              "      <td>...</td>\n",
              "      <td>0.0</td>\n",
              "      <td>0.0</td>\n",
              "      <td>0.0</td>\n",
              "      <td>0.0</td>\n",
              "      <td>0.0</td>\n",
              "      <td>0.0</td>\n",
              "      <td>0.0</td>\n",
              "      <td>0.0</td>\n",
              "      <td>0.0</td>\n",
              "      <td>0.0</td>\n",
              "    </tr>\n",
              "    <tr>\n",
              "      <th>1</th>\n",
              "      <td>0.0</td>\n",
              "      <td>0.0</td>\n",
              "      <td>0.0</td>\n",
              "      <td>0.0</td>\n",
              "      <td>0.0</td>\n",
              "      <td>0.0</td>\n",
              "      <td>0.0</td>\n",
              "      <td>0.0</td>\n",
              "      <td>0.0</td>\n",
              "      <td>0.0</td>\n",
              "      <td>...</td>\n",
              "      <td>0.0</td>\n",
              "      <td>0.0</td>\n",
              "      <td>0.0</td>\n",
              "      <td>0.0</td>\n",
              "      <td>0.0</td>\n",
              "      <td>0.0</td>\n",
              "      <td>0.0</td>\n",
              "      <td>0.0</td>\n",
              "      <td>0.0</td>\n",
              "      <td>0.0</td>\n",
              "    </tr>\n",
              "    <tr>\n",
              "      <th>2</th>\n",
              "      <td>0.0</td>\n",
              "      <td>0.0</td>\n",
              "      <td>0.0</td>\n",
              "      <td>0.0</td>\n",
              "      <td>0.0</td>\n",
              "      <td>0.0</td>\n",
              "      <td>0.0</td>\n",
              "      <td>0.0</td>\n",
              "      <td>0.0</td>\n",
              "      <td>0.0</td>\n",
              "      <td>...</td>\n",
              "      <td>0.0</td>\n",
              "      <td>0.0</td>\n",
              "      <td>0.0</td>\n",
              "      <td>0.0</td>\n",
              "      <td>0.0</td>\n",
              "      <td>0.0</td>\n",
              "      <td>0.0</td>\n",
              "      <td>0.0</td>\n",
              "      <td>0.0</td>\n",
              "      <td>0.0</td>\n",
              "    </tr>\n",
              "    <tr>\n",
              "      <th>3</th>\n",
              "      <td>0.0</td>\n",
              "      <td>0.0</td>\n",
              "      <td>0.0</td>\n",
              "      <td>0.0</td>\n",
              "      <td>0.0</td>\n",
              "      <td>0.0</td>\n",
              "      <td>0.0</td>\n",
              "      <td>0.0</td>\n",
              "      <td>0.0</td>\n",
              "      <td>0.0</td>\n",
              "      <td>...</td>\n",
              "      <td>0.0</td>\n",
              "      <td>0.0</td>\n",
              "      <td>0.0</td>\n",
              "      <td>0.0</td>\n",
              "      <td>0.0</td>\n",
              "      <td>0.0</td>\n",
              "      <td>0.0</td>\n",
              "      <td>0.0</td>\n",
              "      <td>0.0</td>\n",
              "      <td>0.0</td>\n",
              "    </tr>\n",
              "    <tr>\n",
              "      <th>4</th>\n",
              "      <td>0.0</td>\n",
              "      <td>0.0</td>\n",
              "      <td>0.0</td>\n",
              "      <td>0.0</td>\n",
              "      <td>0.0</td>\n",
              "      <td>0.0</td>\n",
              "      <td>0.0</td>\n",
              "      <td>0.0</td>\n",
              "      <td>0.0</td>\n",
              "      <td>0.0</td>\n",
              "      <td>...</td>\n",
              "      <td>0.0</td>\n",
              "      <td>0.0</td>\n",
              "      <td>0.0</td>\n",
              "      <td>0.0</td>\n",
              "      <td>0.0</td>\n",
              "      <td>0.0</td>\n",
              "      <td>0.0</td>\n",
              "      <td>0.0</td>\n",
              "      <td>0.0</td>\n",
              "      <td>0.0</td>\n",
              "    </tr>\n",
              "    <tr>\n",
              "      <th>5</th>\n",
              "      <td>0.0</td>\n",
              "      <td>0.0</td>\n",
              "      <td>0.0</td>\n",
              "      <td>0.0</td>\n",
              "      <td>0.0</td>\n",
              "      <td>0.0</td>\n",
              "      <td>0.0</td>\n",
              "      <td>0.0</td>\n",
              "      <td>0.0</td>\n",
              "      <td>0.0</td>\n",
              "      <td>...</td>\n",
              "      <td>0.0</td>\n",
              "      <td>0.0</td>\n",
              "      <td>0.0</td>\n",
              "      <td>0.0</td>\n",
              "      <td>0.0</td>\n",
              "      <td>0.0</td>\n",
              "      <td>0.0</td>\n",
              "      <td>0.0</td>\n",
              "      <td>0.0</td>\n",
              "      <td>0.0</td>\n",
              "    </tr>\n",
              "    <tr>\n",
              "      <th>6</th>\n",
              "      <td>0.0</td>\n",
              "      <td>0.0</td>\n",
              "      <td>0.0</td>\n",
              "      <td>0.0</td>\n",
              "      <td>0.0</td>\n",
              "      <td>0.0</td>\n",
              "      <td>0.0</td>\n",
              "      <td>0.0</td>\n",
              "      <td>0.0</td>\n",
              "      <td>0.0</td>\n",
              "      <td>...</td>\n",
              "      <td>0.0</td>\n",
              "      <td>0.0</td>\n",
              "      <td>0.0</td>\n",
              "      <td>0.0</td>\n",
              "      <td>0.0</td>\n",
              "      <td>0.0</td>\n",
              "      <td>0.0</td>\n",
              "      <td>0.0</td>\n",
              "      <td>0.0</td>\n",
              "      <td>0.0</td>\n",
              "    </tr>\n",
              "    <tr>\n",
              "      <th>7</th>\n",
              "      <td>0.0</td>\n",
              "      <td>0.0</td>\n",
              "      <td>0.0</td>\n",
              "      <td>0.0</td>\n",
              "      <td>0.0</td>\n",
              "      <td>0.0</td>\n",
              "      <td>0.0</td>\n",
              "      <td>0.0</td>\n",
              "      <td>0.0</td>\n",
              "      <td>0.0</td>\n",
              "      <td>...</td>\n",
              "      <td>0.0</td>\n",
              "      <td>0.0</td>\n",
              "      <td>0.0</td>\n",
              "      <td>0.0</td>\n",
              "      <td>0.0</td>\n",
              "      <td>0.0</td>\n",
              "      <td>0.0</td>\n",
              "      <td>0.0</td>\n",
              "      <td>0.0</td>\n",
              "      <td>0.0</td>\n",
              "    </tr>\n",
              "    <tr>\n",
              "      <th>8</th>\n",
              "      <td>0.0</td>\n",
              "      <td>0.0</td>\n",
              "      <td>0.0</td>\n",
              "      <td>0.0</td>\n",
              "      <td>0.0</td>\n",
              "      <td>0.0</td>\n",
              "      <td>0.0</td>\n",
              "      <td>0.0</td>\n",
              "      <td>0.0</td>\n",
              "      <td>0.0</td>\n",
              "      <td>...</td>\n",
              "      <td>0.0</td>\n",
              "      <td>0.0</td>\n",
              "      <td>0.0</td>\n",
              "      <td>0.0</td>\n",
              "      <td>0.0</td>\n",
              "      <td>0.0</td>\n",
              "      <td>0.0</td>\n",
              "      <td>0.0</td>\n",
              "      <td>0.0</td>\n",
              "      <td>0.0</td>\n",
              "    </tr>\n",
              "    <tr>\n",
              "      <th>9</th>\n",
              "      <td>0.0</td>\n",
              "      <td>0.0</td>\n",
              "      <td>0.0</td>\n",
              "      <td>0.0</td>\n",
              "      <td>0.0</td>\n",
              "      <td>0.0</td>\n",
              "      <td>0.0</td>\n",
              "      <td>0.0</td>\n",
              "      <td>0.0</td>\n",
              "      <td>0.0</td>\n",
              "      <td>...</td>\n",
              "      <td>0.0</td>\n",
              "      <td>0.0</td>\n",
              "      <td>0.0</td>\n",
              "      <td>0.0</td>\n",
              "      <td>0.0</td>\n",
              "      <td>0.0</td>\n",
              "      <td>0.0</td>\n",
              "      <td>0.0</td>\n",
              "      <td>0.0</td>\n",
              "      <td>0.0</td>\n",
              "    </tr>\n",
              "  </tbody>\n",
              "</table>\n",
              "<p>10 rows × 3416 columns</p>\n",
              "</div>"
            ],
            "text/plain": [
              "    10  100   12   13   15  1960s  1970s   20  2010  2016  ...  york  you  \\\n",
              "0  0.0  0.0  0.0  0.0  0.0    0.0    0.0  0.0   0.0   0.0  ...   0.0  0.0   \n",
              "1  0.0  0.0  0.0  0.0  0.0    0.0    0.0  0.0   0.0   0.0  ...   0.0  0.0   \n",
              "2  0.0  0.0  0.0  0.0  0.0    0.0    0.0  0.0   0.0   0.0  ...   0.0  0.0   \n",
              "3  0.0  0.0  0.0  0.0  0.0    0.0    0.0  0.0   0.0   0.0  ...   0.0  0.0   \n",
              "4  0.0  0.0  0.0  0.0  0.0    0.0    0.0  0.0   0.0   0.0  ...   0.0  0.0   \n",
              "5  0.0  0.0  0.0  0.0  0.0    0.0    0.0  0.0   0.0   0.0  ...   0.0  0.0   \n",
              "6  0.0  0.0  0.0  0.0  0.0    0.0    0.0  0.0   0.0   0.0  ...   0.0  0.0   \n",
              "7  0.0  0.0  0.0  0.0  0.0    0.0    0.0  0.0   0.0   0.0  ...   0.0  0.0   \n",
              "8  0.0  0.0  0.0  0.0  0.0    0.0    0.0  0.0   0.0   0.0  ...   0.0  0.0   \n",
              "9  0.0  0.0  0.0  0.0  0.0    0.0    0.0  0.0   0.0   0.0  ...   0.0  0.0   \n",
              "\n",
              "   young  youngster  youth  yule  zemeckis  zhivago  zombie  zone  \n",
              "0    0.0        0.0    0.0   0.0       0.0      0.0     0.0   0.0  \n",
              "1    0.0        0.0    0.0   0.0       0.0      0.0     0.0   0.0  \n",
              "2    0.0        0.0    0.0   0.0       0.0      0.0     0.0   0.0  \n",
              "3    0.0        0.0    0.0   0.0       0.0      0.0     0.0   0.0  \n",
              "4    0.0        0.0    0.0   0.0       0.0      0.0     0.0   0.0  \n",
              "5    0.0        0.0    0.0   0.0       0.0      0.0     0.0   0.0  \n",
              "6    0.0        0.0    0.0   0.0       0.0      0.0     0.0   0.0  \n",
              "7    0.0        0.0    0.0   0.0       0.0      0.0     0.0   0.0  \n",
              "8    0.0        0.0    0.0   0.0       0.0      0.0     0.0   0.0  \n",
              "9    0.0        0.0    0.0   0.0       0.0      0.0     0.0   0.0  \n",
              "\n",
              "[10 rows x 3416 columns]"
            ]
          },
          "execution_count": 27,
          "metadata": {},
          "output_type": "execute_result"
        }
      ],
      "source": [
        "x_data.head(10)"
      ]
    },
    {
      "cell_type": "markdown",
      "metadata": {
        "id": "vf0UIEO33g0q"
      },
      "source": [
        "Basándonos en los resultados de la selección de características utilizando el modelo RandomForestClassifier, se aprecia un subconjunto significativo de las palabras presentes en las reseñas que son consideradas relevantes por el modelo para predecir el sentimiento (fresh/rotten). La reducción de características ayudará a disminuir la complejidad computacional, potencialmente mitigar el sobreajuste y enfocar el modelo a realizar la tarea de clasificación debidamente, para ello seguimos con la sección de implementación y entrenamiento de modelos."
      ]
    },
    {
      "cell_type": "markdown",
      "metadata": {
        "id": "_ihVIOHMpBdU"
      },
      "source": [
        "## 4. Implementación y entrenamiento de los modelos\n",
        "\n"
      ]
    },
    {
      "cell_type": "markdown",
      "metadata": {
        "id": "vwFrt8stuzWZ"
      },
      "source": [
        "Primeramente haremos una separación de los datos de entrenamiento, con los datos de prueba."
      ]
    },
    {
      "cell_type": "code",
      "execution_count": null,
      "metadata": {
        "id": "Bbfo9d5Y6DBz"
      },
      "outputs": [],
      "source": [
        "from sklearn.model_selection import train_test_split\n",
        "\n",
        "x_train, x_test, y_train, y_test = train_test_split(x_data, y_data, test_size=0.2)"
      ]
    },
    {
      "cell_type": "markdown",
      "metadata": {
        "id": "2UhrNjV97Z-L"
      },
      "source": [
        "Ahora bien procederemos a irlos entrenando por cada modelo usando GridSearchCV, quien encontrará los mejores hiperparámetros basandose en el rendimiento de los datos de entrenamiento y luego evaluarlo en el conjunto de prueba."
      ]
    },
    {
      "cell_type": "markdown",
      "metadata": {
        "id": "lOq6fea7LPpf"
      },
      "source": [
        "### Regresión multivariada"
      ]
    },
    {
      "cell_type": "markdown",
      "metadata": {
        "id": "gY0kXgTeTtN7"
      },
      "source": [
        "#### Prueba 1"
      ]
    },
    {
      "cell_type": "code",
      "execution_count": null,
      "metadata": {
        "id": "q221OpPHOU34"
      },
      "outputs": [],
      "source": [
        "from sklearn.linear_model import LogisticRegression\n",
        "from sklearn.model_selection import train_test_split, GridSearchCV, KFold\n",
        "from sklearn.metrics import classification_report, confusion_matrix\n",
        "\n",
        "parametros = {\n",
        "    'C': [0.0001, 0.001, 0.01],\n",
        "    'penalty': ['l2','l1'],\n",
        "    'solver': ['liblinear', 'saga']\n",
        "}\n",
        "\n",
        "kf = KFold(n_splits=4, shuffle=True, random_state=4)\n",
        "\n",
        "gridscv = GridSearchCV(LogisticRegression(max_iter=1000, random_state=42),\n",
        "                      parametros,\n",
        "                      scoring='accuracy',\n",
        "                      cv=kf,\n",
        "                      refit=True\n",
        "                     )\n",
        "\n",
        "model_result = gridscv.fit(x_train, y_train)"
      ]
    },
    {
      "cell_type": "markdown",
      "metadata": {
        "id": "_6geNJSfUC1i"
      },
      "source": [
        "#### Resultados"
      ]
    },
    {
      "cell_type": "code",
      "execution_count": null,
      "metadata": {
        "colab": {
          "base_uri": "https://localhost:8080/"
        },
        "id": "8XLoZjomUEbT",
        "outputId": "4f82c0d2-8f6c-40b1-e880-8124078fa19b"
      },
      "outputs": [
        {
          "name": "stdout",
          "output_type": "stream",
          "text": [
            "Resultado training (Best Parameters):\n",
            "{'C': 0.01, 'penalty': 'l2', 'solver': 'liblinear'}\n",
            "\n",
            "\n",
            "Accuracy (on Training Data):\n",
            "67.72%\n",
            "\n",
            "\n",
            "Accuracy (on Test Data):\n",
            "69.90%\n",
            "\n",
            "\n",
            "Classification Report (on Test Data):\n",
            "              precision    recall  f1-score   support\n",
            "\n",
            "           0       0.68      0.74      0.71      1478\n",
            "           1       0.72      0.66      0.69      1522\n",
            "\n",
            "    accuracy                           0.70      3000\n",
            "   macro avg       0.70      0.70      0.70      3000\n",
            "weighted avg       0.70      0.70      0.70      3000\n",
            "\n",
            "\n",
            "\n",
            "Confusion Matrix (on Test Data):\n",
            "[[1099  379]\n",
            " [ 524  998]]\n"
          ]
        }
      ],
      "source": [
        "print(\"Resultado training (Best Parameters):\")\n",
        "print(model_result.best_params_)\n",
        "print(\"\\n\")\n",
        "print('Accuracy (on Training Data):')\n",
        "print(f\"{(model_result.best_score_*100):.2f}%\")\n",
        "print(\"\\n\")\n",
        "\n",
        "y_pred = model_result.predict(x_test)\n",
        "\n",
        "print('Accuracy (on Test Data):')\n",
        "print(f\"{(model_result.score(x_test, y_test)*100):.2f}%\")\n",
        "print(\"\\n\")\n",
        "\n",
        "print(\"Classification Report (on Test Data):\")\n",
        "print(classification_report(y_test, y_pred))\n",
        "print(\"\\n\")\n",
        "\n",
        "print(\"Confusion Matrix (on Test Data):\")\n",
        "print(confusion_matrix(y_test, y_pred))"
      ]
    },
    {
      "cell_type": "markdown",
      "metadata": {
        "id": "-x1Gef58WFNq"
      },
      "source": [
        "#### Prueba 2"
      ]
    },
    {
      "cell_type": "code",
      "execution_count": null,
      "metadata": {
        "id": "298PmjBFWp1r"
      },
      "outputs": [],
      "source": [
        "parametros = {\n",
        "    'C': [0.001, 0.01, 1, 2],\n",
        "    'penalty': ['l2','l1'],\n",
        "    'solver': ['liblinear', 'saga']\n",
        "}\n",
        "\n",
        "kf = KFold(n_splits=4, shuffle=True, random_state=4)\n",
        "\n",
        "gridscv = GridSearchCV(LogisticRegression(max_iter=1000, random_state=42),\n",
        "                      parametros,\n",
        "                      scoring='accuracy',\n",
        "                      cv=kf,\n",
        "                      refit=True\n",
        "                     )\n",
        "\n",
        "model_result = gridscv.fit(x_train, y_train)"
      ]
    },
    {
      "cell_type": "markdown",
      "metadata": {
        "id": "0nEorhnzW3Fq"
      },
      "source": [
        "#### Resultados"
      ]
    },
    {
      "cell_type": "code",
      "execution_count": null,
      "metadata": {
        "colab": {
          "base_uri": "https://localhost:8080/"
        },
        "id": "Poqwz2Y0W5AX",
        "outputId": "ebc57b87-4dd3-42ed-d5d8-de2807c0892a"
      },
      "outputs": [
        {
          "name": "stdout",
          "output_type": "stream",
          "text": [
            "Resultado training (Best Parameters):\n",
            "{'C': 2, 'penalty': 'l2', 'solver': 'liblinear'}\n",
            "\n",
            "\n",
            "Accuracy (on Training Data):\n",
            "71.30%\n",
            "\n",
            "\n",
            "Accuracy (on Test Data):\n",
            "72.96%\n",
            "\n",
            "\n",
            "Classification Report (on Test Data):\n",
            "              precision    recall  f1-score   support\n",
            "\n",
            "           0       0.73      0.73      0.73      2270\n",
            "           1       0.73      0.72      0.73      2230\n",
            "\n",
            "    accuracy                           0.73      4500\n",
            "   macro avg       0.73      0.73      0.73      4500\n",
            "weighted avg       0.73      0.73      0.73      4500\n",
            "\n",
            "\n",
            "\n",
            "Confusion Matrix (on Test Data):\n",
            "[[1667  603]\n",
            " [ 614 1616]]\n"
          ]
        }
      ],
      "source": [
        "print(\"Resultado training (Best Parameters):\")\n",
        "print(model_result.best_params_)\n",
        "print(\"\\n\")\n",
        "print('Accuracy (on Training Data):')\n",
        "print(f\"{(model_result.best_score_*100):.2f}%\")\n",
        "print(\"\\n\")\n",
        "\n",
        "y_pred = model_result.predict(x_test)\n",
        "\n",
        "print('Accuracy (on Test Data):')\n",
        "print(f\"{(model_result.score(x_test, y_test)*100):.2f}%\")\n",
        "print(\"\\n\")\n",
        "\n",
        "print(\"Classification Report (on Test Data):\")\n",
        "print(classification_report(y_test, y_pred))\n",
        "print(\"\\n\")\n",
        "\n",
        "print(\"Confusion Matrix (on Test Data):\")\n",
        "print(confusion_matrix(y_test, y_pred))"
      ]
    },
    {
      "cell_type": "markdown",
      "metadata": {
        "id": "yqDL2rSS2r3q"
      },
      "source": [
        "#### Prueba 3"
      ]
    },
    {
      "cell_type": "code",
      "execution_count": null,
      "metadata": {
        "id": "RkgZSjIW2trq"
      },
      "outputs": [],
      "source": [
        "parametros = {\n",
        "    'C': [2, 4, 6, 10],\n",
        "    'penalty': ['l2','l1'],\n",
        "    'solver': ['liblinear', 'saga']\n",
        "}\n",
        "\n",
        "kf = KFold(n_splits=4, shuffle=True, random_state=4)\n",
        "\n",
        "gridscv = GridSearchCV(LogisticRegression(max_iter=1000, random_state=42),\n",
        "                      parametros,\n",
        "                      scoring='accuracy',\n",
        "                      cv=kf,\n",
        "                      refit=True\n",
        "                     )\n",
        "\n",
        "model_result = gridscv.fit(x_train, y_train)"
      ]
    },
    {
      "cell_type": "markdown",
      "metadata": {
        "id": "stZhTGBs3HUE"
      },
      "source": [
        "#### Resultados"
      ]
    },
    {
      "cell_type": "code",
      "execution_count": null,
      "metadata": {
        "colab": {
          "base_uri": "https://localhost:8080/"
        },
        "id": "ocdZD7Q33JpY",
        "outputId": "97ff3015-0ad7-4c4e-c1ff-de6feac2b404"
      },
      "outputs": [
        {
          "name": "stdout",
          "output_type": "stream",
          "text": [
            "Resultado training (Best Parameters):\n",
            "{'C': 2, 'penalty': 'l2', 'solver': 'liblinear'}\n",
            "\n",
            "\n",
            "Accuracy (on Training Data):\n",
            "71.30%\n",
            "\n",
            "\n",
            "Accuracy (on Test Data):\n",
            "72.96%\n",
            "\n",
            "\n",
            "Classification Report (on Test Data):\n",
            "              precision    recall  f1-score   support\n",
            "\n",
            "           0       0.73      0.73      0.73      2270\n",
            "           1       0.73      0.72      0.73      2230\n",
            "\n",
            "    accuracy                           0.73      4500\n",
            "   macro avg       0.73      0.73      0.73      4500\n",
            "weighted avg       0.73      0.73      0.73      4500\n",
            "\n",
            "\n",
            "\n",
            "Confusion Matrix (on Test Data):\n",
            "[[1667  603]\n",
            " [ 614 1616]]\n"
          ]
        }
      ],
      "source": [
        "print(\"Resultado training (Best Parameters):\")\n",
        "print(model_result.best_params_)\n",
        "print(\"\\n\")\n",
        "print('Accuracy (on Training Data):')\n",
        "print(f\"{(model_result.best_score_*100):.2f}%\")\n",
        "print(\"\\n\")\n",
        "\n",
        "y_pred = model_result.predict(x_test)\n",
        "\n",
        "print('Accuracy (on Test Data):')\n",
        "print(f\"{(model_result.score(x_test, y_test)*100):.2f}%\")\n",
        "print(\"\\n\")\n",
        "\n",
        "print(\"Classification Report (on Test Data):\")\n",
        "print(classification_report(y_test, y_pred))\n",
        "print(\"\\n\")\n",
        "\n",
        "print(\"Confusion Matrix (on Test Data):\")\n",
        "print(confusion_matrix(y_test, y_pred))"
      ]
    },
    {
      "cell_type": "markdown",
      "metadata": {
        "id": "zxvfjmOHXYBD"
      },
      "source": [
        "La primera prueba exploró un amplio rango de valores para el parámetro de regularización C [0.0001, 0.001, 0.01], junto con las penalizaciones 'l2' y 'l1' y los solvers 'liblinear' y 'saga', con el objetivo de identificar la región general del espacio de parámetros que ofrecía el mejor desempeño inicial, resultando en {'C': 0.01, 'penalty': 'l2', 'solver': 'liblinear'}. Las pruebas subsiguientes (Prueba 2 con C: [0.001, 0.01, 1, 2], Prueba 3 con C: [2, 4, 6, 10], ambas manteniendo 'l2', 'l1', 'liblinear', 'saga') buscaron refinar esta búsqueda al centrar los valores de C en rangos más estrechos alrededor del óptimo identificado, con la expectativa de encontrar una combinación aún mejor; sin embargo, los resultados consistentes en las ultimas pruebas 2 y 3 y otras más, indican repetidamente {'C': 2, 'penalty': 'l2', 'solver': 'liblinear'} como los mejores parámetros y un accuracy similar, sugieren que el modelo de Regresión Logística, con las características y datos actuales, puede haber alcanzado un rendimiento estable dentro de las opciones exploradas para estos hiperparámetros."
      ]
    },
    {
      "cell_type": "markdown",
      "metadata": {
        "id": "2Xv_hPMc9kjX"
      },
      "source": [
        "### Árboles de decisión"
      ]
    },
    {
      "cell_type": "markdown",
      "metadata": {
        "id": "kbJP6JAobUbe"
      },
      "source": [
        "#### Prueba 1"
      ]
    },
    {
      "cell_type": "code",
      "execution_count": null,
      "metadata": {
        "id": "n4GJCtSU9mja"
      },
      "outputs": [],
      "source": [
        "from sklearn.tree import DecisionTreeClassifier\n",
        "\n",
        "parametros = {\n",
        "    'criterion': ['gini', 'entropy'],\n",
        "    'splitter': ['best', 'random'],\n",
        "    'max_features': ['sqrt', 'log2'],\n",
        "    'max_depth': [3, 5, 10],\n",
        "    'min_samples_split': [2, 5],\n",
        "    'min_samples_leaf': [1, 2]\n",
        "}\n",
        "\n",
        "kf = KFold(n_splits=4, shuffle=True, random_state=4)\n",
        "\n",
        "gridscv = GridSearchCV(DecisionTreeClassifier(), parametros, scoring='accuracy', cv=kf, n_jobs=-1, refit=True)\n",
        "\n",
        "model_result = gridscv.fit(x_train, y_train)"
      ]
    },
    {
      "cell_type": "markdown",
      "metadata": {
        "id": "0dzQSitDbK3I"
      },
      "source": [
        "#### Resultados"
      ]
    },
    {
      "cell_type": "code",
      "execution_count": null,
      "metadata": {
        "colab": {
          "base_uri": "https://localhost:8080/"
        },
        "id": "QfTTx1LbbWcw",
        "outputId": "3073790c-b5fd-4f2e-85f1-b862bd6e7379"
      },
      "outputs": [
        {
          "name": "stdout",
          "output_type": "stream",
          "text": [
            "Resultado training (Best Parameters):\n",
            "{'criterion': 'entropy', 'max_depth': 10, 'max_features': 'sqrt', 'min_samples_leaf': 2, 'min_samples_split': 5, 'splitter': 'best'}\n",
            "\n",
            "\n",
            "Accuracy (on Training Data):\n",
            "52.93%\n",
            "\n",
            "\n",
            "Accuracy (on Test Data):\n",
            "52.04%\n",
            "\n",
            "\n",
            "Classification Report (on Test Data):\n",
            "              precision    recall  f1-score   support\n",
            "\n",
            "           0       0.51      0.97      0.67      2270\n",
            "           1       0.67      0.06      0.11      2230\n",
            "\n",
            "    accuracy                           0.52      4500\n",
            "   macro avg       0.59      0.52      0.39      4500\n",
            "weighted avg       0.59      0.52      0.40      4500\n",
            "\n",
            "\n",
            "\n",
            "Confusion Matrix (on Test Data):\n",
            "[[2202   68]\n",
            " [2090  140]]\n"
          ]
        }
      ],
      "source": [
        "print(\"Resultado training (Best Parameters):\")\n",
        "print(model_result.best_params_)\n",
        "print(\"\\n\")\n",
        "print('Accuracy (on Training Data):')\n",
        "print(f\"{(model_result.best_score_*100):.2f}%\")\n",
        "print(\"\\n\")\n",
        "\n",
        "y_pred = model_result.predict(x_test)\n",
        "\n",
        "print('Accuracy (on Test Data):')\n",
        "print(f\"{(model_result.score(x_test, y_test)*100):.2f}%\")\n",
        "print(\"\\n\")\n",
        "\n",
        "print(\"Classification Report (on Test Data):\")\n",
        "print(classification_report(y_test, y_pred))\n",
        "print(\"\\n\")\n",
        "\n",
        "print(\"Confusion Matrix (on Test Data):\")\n",
        "print(confusion_matrix(y_test, y_pred))"
      ]
    },
    {
      "cell_type": "markdown",
      "metadata": {
        "id": "dMVa7Bsjb0A4"
      },
      "source": [
        "#### Prueba 2"
      ]
    },
    {
      "cell_type": "code",
      "execution_count": null,
      "metadata": {
        "id": "tsnIEVSTb-Gm"
      },
      "outputs": [],
      "source": [
        "parametros = {\n",
        "    'criterion': ['gini', 'entropy'],\n",
        "    'splitter': ['best'],\n",
        "    'max_features': ['sqrt', 'log2'],\n",
        "    'max_depth': [20, 30, 50, None],\n",
        "    'min_samples_split': [10, 20, 30],\n",
        "    'min_samples_leaf': [2, 4, 8]\n",
        "}\n",
        "\n",
        "kf = KFold(n_splits=4, shuffle=True, random_state=4)\n",
        "\n",
        "gridscv = GridSearchCV(DecisionTreeClassifier(), parametros, scoring='accuracy', cv=kf, n_jobs=-1, refit=True)\n",
        "\n",
        "model_result = gridscv.fit(x_train, y_train)"
      ]
    },
    {
      "cell_type": "markdown",
      "metadata": {
        "id": "1YWhH6iic1A-"
      },
      "source": [
        "#### Resultados"
      ]
    },
    {
      "cell_type": "code",
      "execution_count": null,
      "metadata": {
        "colab": {
          "base_uri": "https://localhost:8080/"
        },
        "id": "97y2ZJC_c4R3",
        "outputId": "38c94a28-4489-44d4-8222-7293eabfaa63"
      },
      "outputs": [
        {
          "name": "stdout",
          "output_type": "stream",
          "text": [
            "Resultado training (Best Parameters):\n",
            "{'criterion': 'gini', 'max_depth': None, 'max_features': 'sqrt', 'min_samples_leaf': 4, 'min_samples_split': 30, 'splitter': 'best'}\n",
            "\n",
            "\n",
            "Accuracy (on Training Data):\n",
            "62.54%\n",
            "\n",
            "\n",
            "Accuracy (on Test Data):\n",
            "63.09%\n",
            "\n",
            "\n",
            "Classification Report (on Test Data):\n",
            "              precision    recall  f1-score   support\n",
            "\n",
            "           0       0.63      0.66      0.64      2270\n",
            "           1       0.64      0.60      0.62      2230\n",
            "\n",
            "    accuracy                           0.63      4500\n",
            "   macro avg       0.63      0.63      0.63      4500\n",
            "weighted avg       0.63      0.63      0.63      4500\n",
            "\n",
            "\n",
            "\n",
            "Confusion Matrix (on Test Data):\n",
            "[[1505  765]\n",
            " [ 896 1334]]\n"
          ]
        }
      ],
      "source": [
        "print(\"Resultado training (Best Parameters):\")\n",
        "print(model_result.best_params_)\n",
        "print(\"\\n\")\n",
        "print('Accuracy (on Training Data):')\n",
        "print(f\"{(model_result.best_score_*100):.2f}%\")\n",
        "print(\"\\n\")\n",
        "\n",
        "y_pred = model_result.predict(x_test)\n",
        "\n",
        "print('Accuracy (on Test Data):')\n",
        "print(f\"{(model_result.score(x_test, y_test)*100):.2f}%\")\n",
        "print(\"\\n\")\n",
        "\n",
        "print(\"Classification Report (on Test Data):\")\n",
        "print(classification_report(y_test, y_pred))\n",
        "print(\"\\n\")\n",
        "\n",
        "print(\"Confusion Matrix (on Test Data):\")\n",
        "print(confusion_matrix(y_test, y_pred))"
      ]
    },
    {
      "cell_type": "markdown",
      "metadata": {
        "id": "k7P4KKnZhqyW"
      },
      "source": [
        "#### Prueba 3"
      ]
    },
    {
      "cell_type": "code",
      "execution_count": null,
      "metadata": {
        "id": "UEST3kCuhsRV"
      },
      "outputs": [],
      "source": [
        "parametros = {\n",
        "    'criterion': ['gini', 'entropy'],\n",
        "    'splitter': ['best'],\n",
        "    'max_features': ['sqrt', 'log2'],\n",
        "    'max_depth': [15, 20, 30, None],\n",
        "    'min_samples_split': [5, 10, 20],\n",
        "    'min_samples_leaf': [2, 4, 6]\n",
        "}\n",
        "\n",
        "kf = KFold(n_splits=4, shuffle=True, random_state=4)\n",
        "\n",
        "gridscv = GridSearchCV(DecisionTreeClassifier(), parametros, scoring='accuracy', cv=kf, n_jobs=-1, refit=True)\n",
        "\n",
        "model_result = gridscv.fit(x_train, y_train)"
      ]
    },
    {
      "cell_type": "markdown",
      "metadata": {
        "id": "WF-6Q5IjhunN"
      },
      "source": [
        "#### Resultados"
      ]
    },
    {
      "cell_type": "code",
      "execution_count": null,
      "metadata": {
        "colab": {
          "base_uri": "https://localhost:8080/"
        },
        "id": "SL6aBO8mhwHf",
        "outputId": "b189180a-10f6-478f-e6d5-56f9d02edd42"
      },
      "outputs": [
        {
          "name": "stdout",
          "output_type": "stream",
          "text": [
            "Resultado training (Best Parameters):\n",
            "{'criterion': 'entropy', 'max_depth': None, 'max_features': 'sqrt', 'min_samples_leaf': 4, 'min_samples_split': 5, 'splitter': 'best'}\n",
            "\n",
            "\n",
            "Accuracy (on Training Data):\n",
            "62.12%\n",
            "\n",
            "\n",
            "Accuracy (on Test Data):\n",
            "63.47%\n",
            "\n",
            "\n",
            "Classification Report (on Test Data):\n",
            "              precision    recall  f1-score   support\n",
            "\n",
            "           0       0.64      0.64      0.64      2270\n",
            "           1       0.63      0.63      0.63      2230\n",
            "\n",
            "    accuracy                           0.63      4500\n",
            "   macro avg       0.63      0.63      0.63      4500\n",
            "weighted avg       0.63      0.63      0.63      4500\n",
            "\n",
            "\n",
            "\n",
            "Confusion Matrix (on Test Data):\n",
            "[[1460  810]\n",
            " [ 834 1396]]\n"
          ]
        }
      ],
      "source": [
        "print(\"Resultado training (Best Parameters):\")\n",
        "print(model_result.best_params_)\n",
        "print(\"\\n\")\n",
        "print('Accuracy (on Training Data):')\n",
        "print(f\"{(model_result.best_score_*100):.2f}%\")\n",
        "print(\"\\n\")\n",
        "\n",
        "y_pred = model_result.predict(x_test)\n",
        "\n",
        "print('Accuracy (on Test Data):')\n",
        "print(f\"{(model_result.score(x_test, y_test)*100):.2f}%\")\n",
        "print(\"\\n\")\n",
        "\n",
        "print(\"Classification Report (on Test Data):\")\n",
        "print(classification_report(y_test, y_pred))\n",
        "print(\"\\n\")\n",
        "\n",
        "print(\"Confusion Matrix (on Test Data):\")\n",
        "print(confusion_matrix(y_test, y_pred))"
      ]
    },
    {
      "cell_type": "markdown",
      "metadata": {
        "id": "XWR86c9TDb6Y"
      },
      "source": [
        "La primera prueba exploró un espacio amplio de parámetros incluyendo criterion (gini, entropy), splitter (best, random), max_features (sqrt, log2), max_depth (valores bajos como 3, 5, 10), y rangos iniciales para min_samples_split y min_samples_leaf. Los resultados de esta prueba inicial identificaron los parámetros más prometedores y la región del espacio a investigar con mayor detalle. Basándose en estos hallazgos, la estrategia para las pruebas Subsiguientes (incluyendo la prueba 2 y 3, y otras iteraciones) se centró en refinar la búsqueda."
      ]
    },
    {
      "cell_type": "markdown",
      "metadata": {
        "id": "lYuL2fDw_U_O"
      },
      "source": [
        " Se exploraron rangos más amplios y finos para max_depth (incluyendo valores más altos como 20, 30, 50, y None para permitir árboles más profundos), se ajustaron los rangos para min_samples_split y min_samples_leaf para controlar mejor el tamaño de las hojas y las divisiones, y se mantuvieron los splitter y max_features que mostraron mejor rendimiento inicial. La realización de múltiples pruebas con estos rangos refinados permitió observar una mayor estabilidad en los mejores parámetros identificados por GridSearchCV y en el accuracy de validación cruzada, sugiriendo que se estaba convergiendo hacia una configuración robusta para el árbol de decisión."
      ]
    },
    {
      "cell_type": "markdown",
      "metadata": {
        "id": "zy_fr4YOFEjQ"
      },
      "source": [
        "### Random Forest"
      ]
    },
    {
      "cell_type": "markdown",
      "metadata": {
        "id": "Bp0XTJAV_mIu"
      },
      "source": [
        "#### Prueba 1"
      ]
    },
    {
      "cell_type": "code",
      "execution_count": null,
      "metadata": {
        "id": "mRKmW5qmFI4G"
      },
      "outputs": [],
      "source": [
        "from sklearn.ensemble import RandomForestClassifier\n",
        "\n",
        "parametros = {\n",
        "    'criterion': ['gini', 'entropy'],\n",
        "    'n_estimators': [50, 100],\n",
        "    'max_features': ['sqrt'],\n",
        "    'max_depth': [15, 20],\n",
        "    'min_samples_split': [2, 5],\n",
        "    'min_samples_leaf': [1, 2]\n",
        "}\n",
        "\n",
        "kf = KFold(n_splits=4, shuffle=True, random_state=4)\n",
        "\n",
        "gridscv = GridSearchCV(RandomForestClassifier(random_state=42, n_jobs=-1), parametros, scoring='accuracy', cv=kf, refit=True)\n",
        "\n",
        "model_result = gridscv.fit(x_train, y_train)"
      ]
    },
    {
      "cell_type": "markdown",
      "metadata": {
        "id": "UxiKt5QiAhv4"
      },
      "source": [
        "#### Resultados"
      ]
    },
    {
      "cell_type": "code",
      "execution_count": null,
      "metadata": {
        "colab": {
          "base_uri": "https://localhost:8080/"
        },
        "id": "TtKEhxr6Ak39",
        "outputId": "4f567126-3769-44ba-cfbf-51756d680765"
      },
      "outputs": [
        {
          "name": "stdout",
          "output_type": "stream",
          "text": [
            "Resultado training (Best Parameters):\n",
            "{'criterion': 'entropy', 'max_depth': 20, 'max_features': 'sqrt', 'min_samples_leaf': 1, 'min_samples_split': 5, 'n_estimators': 100}\n",
            "\n",
            "\n",
            "Accuracy (on Training Data):\n",
            "65.39%\n",
            "\n",
            "\n",
            "Accuracy (on Test Data):\n",
            "66.78%\n",
            "\n",
            "\n",
            "Classification Report (on Test Data):\n",
            "              precision    recall  f1-score   support\n",
            "\n",
            "           0       0.71      0.59      0.64      2270\n",
            "           1       0.64      0.75      0.69      2230\n",
            "\n",
            "    accuracy                           0.67      4500\n",
            "   macro avg       0.67      0.67      0.67      4500\n",
            "weighted avg       0.67      0.67      0.67      4500\n",
            "\n",
            "\n",
            "\n",
            "Confusion Matrix (on Test Data):\n",
            "[[1329  941]\n",
            " [ 554 1676]]\n"
          ]
        }
      ],
      "source": [
        "print(\"Resultado training (Best Parameters):\")\n",
        "print(model_result.best_params_)\n",
        "print(\"\\n\")\n",
        "print('Accuracy (on Training Data):')\n",
        "print(f\"{(model_result.best_score_*100):.2f}%\")\n",
        "print(\"\\n\")\n",
        "\n",
        "y_pred = model_result.predict(x_test)\n",
        "\n",
        "print('Accuracy (on Test Data):')\n",
        "print(f\"{(model_result.score(x_test, y_test)*100):.2f}%\")\n",
        "print(\"\\n\")\n",
        "\n",
        "print(\"Classification Report (on Test Data):\")\n",
        "print(classification_report(y_test, y_pred))\n",
        "print(\"\\n\")\n",
        "\n",
        "print(\"Confusion Matrix (on Test Data):\")\n",
        "print(confusion_matrix(y_test, y_pred))"
      ]
    },
    {
      "cell_type": "markdown",
      "metadata": {
        "id": "RnflCVXmUWXG"
      },
      "source": [
        "#### Prueba 2"
      ]
    },
    {
      "cell_type": "code",
      "execution_count": null,
      "metadata": {
        "id": "Bu_qPvwjUX1n"
      },
      "outputs": [],
      "source": [
        "parametros = {\n",
        "    'criterion': ['gini', 'entropy'],\n",
        "    'n_estimators': [150, 200, 250],\n",
        "    'max_features': ['sqrt'],\n",
        "    'max_depth': [30, None],\n",
        "    'min_samples_split': [5, 10, 15],\n",
        "    'min_samples_leaf': [2, 4, 6]\n",
        "}\n",
        "\n",
        "kf = KFold(n_splits=4, shuffle=True, random_state=4)\n",
        "\n",
        "gridscv = GridSearchCV(RandomForestClassifier(random_state=42, n_jobs=-1), parametros, scoring='accuracy', cv=kf, refit=True)\n",
        "\n",
        "model_result = gridscv.fit(x_train, y_train)"
      ]
    },
    {
      "cell_type": "markdown",
      "metadata": {
        "id": "BcgY6hdxUb2A"
      },
      "source": [
        "#### Resultados"
      ]
    },
    {
      "cell_type": "code",
      "execution_count": null,
      "metadata": {
        "colab": {
          "base_uri": "https://localhost:8080/"
        },
        "id": "tW-X9jpcUefm",
        "outputId": "2bc21a18-8b08-4593-dce5-f81a559b5a71"
      },
      "outputs": [
        {
          "name": "stdout",
          "output_type": "stream",
          "text": [
            "Resultado training (Best Parameters):\n",
            "{'criterion': 'entropy', 'max_depth': None, 'max_features': 'sqrt', 'min_samples_leaf': 4, 'min_samples_split': 15, 'n_estimators': 200}\n",
            "\n",
            "\n",
            "Accuracy (on Training Data):\n",
            "68.43%\n",
            "\n",
            "\n",
            "Accuracy (on Test Data):\n",
            "68.60%\n",
            "\n",
            "\n",
            "Classification Report (on Test Data):\n",
            "              precision    recall  f1-score   support\n",
            "\n",
            "           0       0.68      0.69      0.69      2241\n",
            "           1       0.69      0.68      0.69      2259\n",
            "\n",
            "    accuracy                           0.69      4500\n",
            "   macro avg       0.69      0.69      0.69      4500\n",
            "weighted avg       0.69      0.69      0.69      4500\n",
            "\n",
            "\n",
            "\n",
            "Confusion Matrix (on Test Data):\n",
            "[[1540  701]\n",
            " [ 712 1547]]\n"
          ]
        }
      ],
      "source": [
        "print(\"Resultado training (Best Parameters):\")\n",
        "print(model_result.best_params_)\n",
        "print(\"\\n\")\n",
        "print('Accuracy (on Training Data):')\n",
        "print(f\"{(model_result.best_score_*100):.2f}%\")\n",
        "print(\"\\n\")\n",
        "\n",
        "y_pred = model_result.predict(x_test)\n",
        "\n",
        "print('Accuracy (on Test Data):')\n",
        "print(f\"{(model_result.score(x_test, y_test)*100):.2f}%\")\n",
        "print(\"\\n\")\n",
        "\n",
        "print(\"Classification Report (on Test Data):\")\n",
        "print(classification_report(y_test, y_pred))\n",
        "print(\"\\n\")\n",
        "\n",
        "print(\"Confusion Matrix (on Test Data):\")\n",
        "print(confusion_matrix(y_test, y_pred))"
      ]
    },
    {
      "cell_type": "markdown",
      "metadata": {
        "id": "8Rsimsoq16Pv"
      },
      "source": [
        "#### Prueba 3"
      ]
    },
    {
      "cell_type": "code",
      "execution_count": null,
      "metadata": {
        "id": "ZB1nnJho2EHw"
      },
      "outputs": [],
      "source": [
        "parametros = {\n",
        "    'criterion': ['entropy'],\n",
        "    'n_estimators': [150, 200],\n",
        "    'max_features': ['sqrt','log2'],\n",
        "    'max_depth': [30, None],\n",
        "    'min_samples_split': [15, 20],\n",
        "    'min_samples_leaf': [4, 6, 8]\n",
        "}\n",
        "\n",
        "kf = KFold(n_splits=4, shuffle=True, random_state=4)\n",
        "\n",
        "gridscv = GridSearchCV(RandomForestClassifier(random_state=42, n_jobs=-1), parametros, scoring='accuracy', cv=kf, refit=True)\n",
        "\n",
        "model_result = gridscv.fit(x_train, y_train)"
      ]
    },
    {
      "cell_type": "markdown",
      "metadata": {
        "id": "rUTY8JvN2VV9"
      },
      "source": [
        "#### Resultados"
      ]
    },
    {
      "cell_type": "code",
      "execution_count": null,
      "metadata": {
        "colab": {
          "base_uri": "https://localhost:8080/"
        },
        "id": "PJ5-AYnF2zN3",
        "outputId": "e1572d34-92a8-48c1-d8f9-b617953ff46e"
      },
      "outputs": [
        {
          "name": "stdout",
          "output_type": "stream",
          "text": [
            "Resultado training (Best Parameters):\n",
            "{'criterion': 'entropy', 'max_depth': None, 'max_features': 'log2', 'min_samples_leaf': 4, 'min_samples_split': 20, 'n_estimators': 200}\n",
            "\n",
            "\n",
            "Accuracy (on Training Data):\n",
            "70.11%\n",
            "\n",
            "\n",
            "Accuracy (on Test Data):\n",
            "70.96%\n",
            "\n",
            "\n",
            "Classification Report (on Test Data):\n",
            "              precision    recall  f1-score   support\n",
            "\n",
            "           0       0.73      0.68      0.71      2304\n",
            "           1       0.69      0.74      0.71      2196\n",
            "\n",
            "    accuracy                           0.71      4500\n",
            "   macro avg       0.71      0.71      0.71      4500\n",
            "weighted avg       0.71      0.71      0.71      4500\n",
            "\n",
            "\n",
            "\n",
            "Confusion Matrix (on Test Data):\n",
            "[[1572  732]\n",
            " [ 575 1621]]\n"
          ]
        }
      ],
      "source": [
        "print(\"Resultado training (Best Parameters):\")\n",
        "print(model_result.best_params_)\n",
        "print(\"\\n\")\n",
        "print('Accuracy (on Training Data):')\n",
        "print(f\"{(model_result.best_score_*100):.2f}%\")\n",
        "print(\"\\n\")\n",
        "\n",
        "y_pred = model_result.predict(x_test)\n",
        "\n",
        "print('Accuracy (on Test Data):')\n",
        "print(f\"{(model_result.score(x_test, y_test)*100):.2f}%\")\n",
        "print(\"\\n\")\n",
        "\n",
        "print(\"Classification Report (on Test Data):\")\n",
        "print(classification_report(y_test, y_pred))\n",
        "print(\"\\n\")\n",
        "\n",
        "print(\"Confusion Matrix (on Test Data):\")\n",
        "print(confusion_matrix(y_test, y_pred))"
      ]
    },
    {
      "cell_type": "markdown",
      "metadata": {
        "id": "uPPGPUZjNThU"
      },
      "source": [
        "Se comenzó explorando un rango inicial de valores para parámetros clave como criterion (['gini', 'entropy']), n_estimators ([50, 100]), max_features (['sqrt']), max_depth ([15, 20]), min_samples_split ([2, 5]) y min_samples_leaf ([1, 2]) en la Prueba 1. Basándose en los resultados de esta exploración inicial, se identificaron las regiones del espacio de parámetros que mostraron un mejor rendimiento. En las pruebas subsiguientes (Prueba 2, con n_estimators [150, 200, 250], max_depth [30, None], min_samples_split [5, 10, 15], min_samples_leaf [2, 4, 6], y Prueba 3, con criterion ['entropy'], n_estimators [150, 200], max_features ['sqrt','log2'], max_depth [30, None], min_samples_split [15, 20], min_samples_leaf [4, 6, 8]), se refinó la búsqueda al centrar los rangos de los parámetros con respecto a los valores más prometedores, explorando un número mayor de estimadores (n_estimators) y profundidades de árbol (max_depth), así como ajustando los umbrales para min_samples_split y min_samples_leaf y el uso de log2 en las últimas pruebas de la mano del criterion entropy, llegando a un accuracy de 70% repetidas veces y el GridSearchCV eligiendo los mismos parámetros. Esta estrategia permitió convergir hacia una combinación óptima de hiperparámetros que mejoró el rendimiento del modelo en la clasificación de sentimientos."
      ]
    },
    {
      "cell_type": "markdown",
      "metadata": {
        "id": "Fm3HWH1aOBo8"
      },
      "source": [
        "### Redes neuronales perceptrón multicapas"
      ]
    },
    {
      "cell_type": "markdown",
      "metadata": {
        "id": "cRBypSvfYiCA"
      },
      "source": [
        "#### Prueba 1"
      ]
    },
    {
      "cell_type": "code",
      "execution_count": null,
      "metadata": {
        "id": "jWZnupSfYi0x"
      },
      "outputs": [],
      "source": [
        "from sklearn.neural_network import MLPClassifier\n",
        "from sklearn.preprocessing import StandardScaler\n",
        "\n",
        "scaler = StandardScaler()\n",
        "x_train_scaled = scaler.fit_transform(x_train)\n",
        "x_test_scaled = scaler.transform(x_test)\n",
        "\n",
        "parametros = {\n",
        "    'hidden_layer_sizes': [(20,), (15,), (10,)],\n",
        "    'alpha': [0.0001, 0.001],\n",
        "    'max_iter': [150]\n",
        "}\n",
        "\n",
        "kf = KFold(n_splits=4, shuffle=True, random_state=4)\n",
        "\n",
        "gridscv = GridSearchCV(MLPClassifier(random_state=42, solver='adam', early_stopping=True),\n",
        "                       parametros,\n",
        "                       scoring='accuracy',\n",
        "                       cv=kf,\n",
        "                       n_jobs=-1,\n",
        "                       refit=True)\n",
        "\n",
        "model_result = gridscv.fit(x_train_scaled, y_train)"
      ]
    },
    {
      "cell_type": "markdown",
      "metadata": {
        "id": "WGRr2QcrYj3y"
      },
      "source": [
        "#### Resultados"
      ]
    },
    {
      "cell_type": "code",
      "execution_count": null,
      "metadata": {
        "colab": {
          "base_uri": "https://localhost:8080/"
        },
        "id": "YIqsZqkdYnyh",
        "outputId": "8ea97e98-ca19-4a2f-e7a7-2d44ab5c50a3"
      },
      "outputs": [
        {
          "name": "stdout",
          "output_type": "stream",
          "text": [
            "Resultado training (Best Parameters):\n",
            "{'alpha': 0.0001, 'hidden_layer_sizes': (20,), 'max_iter': 150}\n",
            "\n",
            "\n",
            "Accuracy (on Training Data):\n",
            "69.31%\n",
            "\n",
            "\n",
            "Accuracy (on Test Data):\n",
            "69.07%\n",
            "\n",
            "\n",
            "Classification Report (on Test Data):\n",
            "              precision    recall  f1-score   support\n",
            "\n",
            "           0       0.69      0.69      0.69      2275\n",
            "           1       0.69      0.69      0.69      2225\n",
            "\n",
            "    accuracy                           0.69      4500\n",
            "   macro avg       0.69      0.69      0.69      4500\n",
            "weighted avg       0.69      0.69      0.69      4500\n",
            "\n",
            "\n",
            "\n",
            "Confusion Matrix (on Test Data):\n",
            "[[1578  697]\n",
            " [ 695 1530]]\n"
          ]
        }
      ],
      "source": [
        "print(\"Resultado training (Best Parameters):\")\n",
        "print(model_result.best_params_)\n",
        "print(\"\\n\")\n",
        "print('Accuracy (on Training Data):')\n",
        "print(f\"{(model_result.best_score_*100):.2f}%\")\n",
        "print(\"\\n\")\n",
        "\n",
        "y_pred = model_result.predict(x_test_scaled)\n",
        "\n",
        "print('Accuracy (on Test Data):')\n",
        "print(f\"{(model_result.score(x_test_scaled, y_test)*100):.2f}%\")\n",
        "print(\"\\n\")\n",
        "\n",
        "print(\"Classification Report (on Test Data):\")\n",
        "print(classification_report(y_test, y_pred))\n",
        "print(\"\\n\")\n",
        "\n",
        "print(\"Confusion Matrix (on Test Data):\")\n",
        "print(confusion_matrix(y_test, y_pred))"
      ]
    },
    {
      "cell_type": "markdown",
      "metadata": {
        "id": "EaVL3V55Youc"
      },
      "source": [
        "#### Prueba 2"
      ]
    },
    {
      "cell_type": "code",
      "execution_count": null,
      "metadata": {
        "id": "ZbAjZ9PqY9j2"
      },
      "outputs": [],
      "source": [
        "parametros = {\n",
        "    'hidden_layer_sizes': [(100, 50), (120, 60), (80, 40)],\n",
        "    'alpha': [0.0005, 0.001, 0.0015],\n",
        "    'max_iter': [400]\n",
        "}\n",
        "\n",
        "kf = KFold(n_splits=4, shuffle=True, random_state=4)\n",
        "\n",
        "gridscv = GridSearchCV(MLPClassifier(random_state=42, solver='adam', early_stopping=True),\n",
        "                       parametros,\n",
        "                       scoring='accuracy',\n",
        "                       cv=kf,\n",
        "                       n_jobs=-1,\n",
        "                       refit=True)\n",
        "\n",
        "model_result = gridscv.fit(x_train_scaled, y_train)"
      ]
    },
    {
      "cell_type": "markdown",
      "metadata": {
        "id": "5gXSvHLkYrXY"
      },
      "source": [
        "#### Resultados"
      ]
    },
    {
      "cell_type": "code",
      "execution_count": null,
      "metadata": {
        "colab": {
          "base_uri": "https://localhost:8080/"
        },
        "id": "WRfHIfwGZACA",
        "outputId": "b205bcd5-cff5-4441-8689-b006920e99ad"
      },
      "outputs": [
        {
          "name": "stdout",
          "output_type": "stream",
          "text": [
            "Resultado training (Best Parameters):\n",
            "{'alpha': 0.0005, 'hidden_layer_sizes': (100, 50), 'max_iter': 400}\n",
            "\n",
            "\n",
            "Accuracy (on Training Data):\n",
            "70.41%\n",
            "\n",
            "\n",
            "Accuracy (on Test Data):\n",
            "70.53%\n",
            "\n",
            "\n",
            "Classification Report (on Test Data):\n",
            "              precision    recall  f1-score   support\n",
            "\n",
            "           0       0.72      0.69      0.70      2275\n",
            "           1       0.69      0.72      0.71      2225\n",
            "\n",
            "    accuracy                           0.71      4500\n",
            "   macro avg       0.71      0.71      0.71      4500\n",
            "weighted avg       0.71      0.71      0.71      4500\n",
            "\n",
            "\n",
            "\n",
            "Confusion Matrix (on Test Data):\n",
            "[[1561  714]\n",
            " [ 612 1613]]\n"
          ]
        }
      ],
      "source": [
        "print(\"Resultado training (Best Parameters):\")\n",
        "print(model_result.best_params_)\n",
        "print(\"\\n\")\n",
        "print('Accuracy (on Training Data):')\n",
        "print(f\"{(model_result.best_score_*100):.2f}%\")\n",
        "print(\"\\n\")\n",
        "\n",
        "y_pred = model_result.predict(x_test_scaled)\n",
        "\n",
        "print('Accuracy (on Test Data):')\n",
        "print(f\"{(model_result.score(x_test_scaled, y_test)*100):.2f}%\")\n",
        "print(\"\\n\")\n",
        "\n",
        "print(\"Classification Report (on Test Data):\")\n",
        "print(classification_report(y_test, y_pred))\n",
        "print(\"\\n\")\n",
        "\n",
        "print(\"Confusion Matrix (on Test Data):\")\n",
        "print(confusion_matrix(y_test, y_pred))"
      ]
    },
    {
      "cell_type": "markdown",
      "metadata": {
        "id": "IpIG_GWV2g4S"
      },
      "source": [
        "#### Prueba 3"
      ]
    },
    {
      "cell_type": "code",
      "execution_count": null,
      "metadata": {
        "id": "6wbGSX9V2jAq"
      },
      "outputs": [],
      "source": [
        "parametros = {\n",
        "    'hidden_layer_sizes': [(100,), (100, 50), (120, 60), (100, 50, 25)],\n",
        "    'alpha': [0.0003, 0.0005, 0.001],\n",
        "    'max_iter': [500]\n",
        "}\n",
        "\n",
        "\n",
        "kf = KFold(n_splits=4, shuffle=True, random_state=4)\n",
        "\n",
        "gridscv = GridSearchCV(MLPClassifier(random_state=42, solver='adam', early_stopping=True),\n",
        "                       parametros,\n",
        "                       scoring='accuracy',\n",
        "                       cv=kf,\n",
        "                       n_jobs=-1,\n",
        "                       refit=True)\n",
        "\n",
        "model_result = gridscv.fit(x_train_scaled, y_train)"
      ]
    },
    {
      "cell_type": "markdown",
      "metadata": {
        "id": "o_oQT_yR2x3s"
      },
      "source": [
        "#### Resultados"
      ]
    },
    {
      "cell_type": "code",
      "execution_count": null,
      "metadata": {
        "colab": {
          "base_uri": "https://localhost:8080/"
        },
        "id": "vP1Vx9Cx2zkk",
        "outputId": "59362095-cfa7-4982-9ce0-4aeb2a93b4ed"
      },
      "outputs": [
        {
          "name": "stdout",
          "output_type": "stream",
          "text": [
            "Resultado training (Best Parameters):\n",
            "{'alpha': 0.0003, 'hidden_layer_sizes': (100, 50), 'max_iter': 500}\n",
            "\n",
            "\n",
            "Accuracy (on Training Data):\n",
            "70.43%\n",
            "\n",
            "\n",
            "Accuracy (on Test Data):\n",
            "70.53%\n",
            "\n",
            "\n",
            "Classification Report (on Test Data):\n",
            "              precision    recall  f1-score   support\n",
            "\n",
            "           0       0.72      0.68      0.70      2275\n",
            "           1       0.69      0.73      0.71      2225\n",
            "\n",
            "    accuracy                           0.71      4500\n",
            "   macro avg       0.71      0.71      0.71      4500\n",
            "weighted avg       0.71      0.71      0.71      4500\n",
            "\n",
            "\n",
            "\n",
            "Confusion Matrix (on Test Data):\n",
            "[[1555  720]\n",
            " [ 606 1619]]\n"
          ]
        }
      ],
      "source": [
        "print(\"Resultado training (Best Parameters):\")\n",
        "print(model_result.best_params_)\n",
        "print(\"\\n\")\n",
        "print('Accuracy (on Training Data):')\n",
        "print(f\"{(model_result.best_score_*100):.2f}%\")\n",
        "print(\"\\n\")\n",
        "\n",
        "y_pred = model_result.predict(x_test_scaled)\n",
        "\n",
        "print('Accuracy (on Test Data):')\n",
        "print(f\"{(model_result.score(x_test_scaled, y_test)*100):.2f}%\")\n",
        "print(\"\\n\")\n",
        "\n",
        "print(\"Classification Report (on Test Data):\")\n",
        "print(classification_report(y_test, y_pred))\n",
        "print(\"\\n\")\n",
        "\n",
        "print(\"Confusion Matrix (on Test Data):\")\n",
        "print(confusion_matrix(y_test, y_pred))"
      ]
    },
    {
      "cell_type": "markdown",
      "metadata": {
        "id": "9y-3b1q7ZCMQ"
      },
      "source": [
        "La estrategía de parámetros se llevó a cabo mediante un enfoque iterativo utilizando GridSearchCV, centrado en explorar diferentes configuraciones de capas ocultas (hidden_layer_sizes), el parámetro de regularización L2 (alpha) y el número máximo de iteraciones (max_iter). La Prueba 1 exploró una gama inicial de tamaños de capas ocultas simples y dobles [(20,), (15,), (10,)], junto con valores básicos de alpha ([0.0001, 0.001]) y un max_iter de 150, estableciendo un punto de partida. Basándose en los resultados y la necesidad de explorar redes potencialmente más complejas, la Prueba 2 amplió el espacio de búsqueda para hidden_layer_sizes a configuraciones de dos capas con más neuronas [(100, 50), (120, 60), (80, 40)], ajustó el rango de alpha ([0.0005, 0.001, 0.0015]) y aumentó max_iter a 400. Finalmente, la Prueba 3 continuó refinando la búsqueda incluyendo estructuras de capas ocultas de una, dos y tres capas [(100,), (100, 50), (120, 60), (100, 50, 25)], exploró un rango de alpha ligeramente diferente [0.0003, 0.0005, 0.001] y aumentó max_iter a 500. El objetivo principal de esta estrategia iterativa fue identificar la arquitectura y parámetros de regularización que mejor se adaptaran a los datos escalados para optimizar el rendimiento de clasificación, logrando una la mejor solución para el modelo."
      ]
    },
    {
      "cell_type": "markdown",
      "metadata": {
        "id": "vfm2-SCfYxbg"
      },
      "source": [
        "### Redes neuronales profundas"
      ]
    },
    {
      "cell_type": "markdown",
      "metadata": {
        "id": "bcgytDwhs4YB"
      },
      "source": [
        "Procedemos a crear el modelo, asegurarnos que la versión de python sea 3.10 y además que la versión de sklearn sea 1.3.2 y la de scikeras 0.13.0 para la correcta ejecución de redes neuronales profundas con Keras."
      ]
    },
    {
      "cell_type": "code",
      "execution_count": null,
      "metadata": {
        "colab": {
          "base_uri": "https://localhost:8080/"
        },
        "id": "tQuF3yVkze91",
        "outputId": "af0d8963-5b1d-4ebc-efe1-03c79d6bc4a6"
      },
      "outputs": [
        {
          "name": "stdout",
          "output_type": "stream",
          "text": [
            "Scikeras version: 0.13.0\n",
            "Tensorflow version: 2.19.0\n"
          ]
        }
      ],
      "source": [
        "import scikeras\n",
        "import tensorflow as tf\n",
        "\n",
        "print(f\"Scikeras version: {scikeras.__version__}\")\n",
        "print(f\"Tensorflow version: {tf.__version__}\")"
      ]
    },
    {
      "cell_type": "code",
      "execution_count": null,
      "metadata": {
        "id": "3Y50Eh6es66e"
      },
      "outputs": [],
      "source": [
        "from tensorflow.keras.models import Sequential\n",
        "from tensorflow.keras.layers import Dense, Dropout\n",
        "from tensorflow.keras.optimizers import Adam, SGD\n",
        "from scikeras.wrappers import KerasClassifier\n",
        "from tensorflow.keras import regularizers\n",
        "from tensorflow.keras.callbacks import EarlyStopping\n",
        "\n",
        "scaler = StandardScaler()\n",
        "x_train_scaled = scaler.fit_transform(x_train)\n",
        "x_test_scaled = scaler.transform(x_test)\n",
        "\n",
        "def build_model(hidden_layer_sizes=(100,),\n",
        "                alpha=0.0001,\n",
        "                dropout_rate=0.0,\n",
        "                l2_penalty=0.001,\n",
        "                activation='relu',\n",
        "                kernel_initializer='he_normal',\n",
        "                optimizer_name='adam',\n",
        "                learning_rate=0.001,\n",
        "                input_dim=None):\n",
        "    model = Sequential()\n",
        "    model.add(Dense(hidden_layer_sizes[0],\n",
        "                    input_dim=input_dim,\n",
        "                    activation=activation,\n",
        "                    kernel_initializer=kernel_initializer,\n",
        "                    kernel_regularizer=regularizers.l2(l2_penalty)))\n",
        "    if dropout_rate > 0:\n",
        "        model.add(Dropout(dropout_rate))\n",
        "    for units in hidden_layer_sizes[1:]:\n",
        "        model.add(Dense(units,\n",
        "                        activation=activation,\n",
        "                        kernel_initializer=kernel_initializer,\n",
        "                        kernel_regularizer=regularizers.l2(l2_penalty)))\n",
        "        if dropout_rate > 0:\n",
        "            model.add(Dropout(dropout_rate))\n",
        "    model.add(Dense(1, activation='sigmoid'))\n",
        "\n",
        "    if optimizer_name == 'adam':\n",
        "        optimizer = Adam(learning_rate=alpha)\n",
        "    elif optimizer_name == 'sgd':\n",
        "        optimizer = SGD(learning_rate=alpha, momentum=0.9)\n",
        "    else:\n",
        "        raise ValueError(f\"Optimizer '{optimizer_name}' no soportado\")\n",
        "\n",
        "    model.compile(optimizer=optimizer,\n",
        "                  loss='binary_crossentropy',\n",
        "                  metrics=['accuracy'])\n",
        "    return model\n",
        "\n",
        "input_dim = x_train_scaled.shape[1]\n",
        "base_model = KerasClassifier(model=build_model, verbose=0, random_state=42)"
      ]
    },
    {
      "cell_type": "markdown",
      "metadata": {
        "id": "I2G39yaLZN0N"
      },
      "source": [
        "#### Prueba 1"
      ]
    },
    {
      "cell_type": "code",
      "execution_count": null,
      "metadata": {
        "id": "91XdjdtYZUKE"
      },
      "outputs": [],
      "source": [
        "parametros = {\n",
        "    'model__hidden_layer_sizes': [(25,), (20,), (15, 10), (15,)],\n",
        "    'model__alpha': [0.001, 0.01],\n",
        "    'model__dropout_rate': [0.3, 0.4],\n",
        "    'model__optimizer_name': ['adam'],\n",
        "    'model__l2_penalty': [0.001, 0.01],\n",
        "    'model__input_dim': [input_dim],\n",
        "    'epochs': [12],\n",
        "    'batch_size': [32]\n",
        "}\n",
        "\n",
        "kf = KFold(n_splits=4, shuffle=True, random_state=4)\n",
        "\n",
        "gridscv = GridSearchCV(estimator=base_model,\n",
        "                       param_grid=parametros,\n",
        "                       scoring='accuracy',\n",
        "                       cv=kf,\n",
        "                       n_jobs=1,\n",
        "                       refit=True)\n",
        "\n",
        "model_result = gridscv.fit(x_train_scaled, y_train)"
      ]
    },
    {
      "cell_type": "markdown",
      "metadata": {
        "id": "MT0ERiyAZQZ7"
      },
      "source": [
        "#### Resultados"
      ]
    },
    {
      "cell_type": "code",
      "execution_count": null,
      "metadata": {
        "colab": {
          "base_uri": "https://localhost:8080/"
        },
        "id": "K3CWYW-AZV4o",
        "outputId": "8dc26307-3ef1-4c74-cb1c-401cded2aa26"
      },
      "outputs": [
        {
          "name": "stdout",
          "output_type": "stream",
          "text": [
            "Resultado training (Best Parameters):\n",
            "{'batch_size': 32, 'epochs': 12, 'model__alpha': 0.001, 'model__dropout_rate': 0.4, 'model__hidden_layer_sizes': (15, 10), 'model__input_dim': 3416, 'model__l2_penalty': 0.001, 'model__optimizer_name': 'adam'}\n",
            "\n",
            "\n",
            "Accuracy (on Training Data):\n",
            "70.30%\n",
            "\n",
            "\n",
            "Accuracy (on Test Data):\n",
            "71.13%\n",
            "\n",
            "\n",
            "Classification Report (on Test Data):\n",
            "              precision    recall  f1-score   support\n",
            "\n",
            "           0       0.71      0.69      0.70      1469\n",
            "           1       0.71      0.73      0.72      1531\n",
            "\n",
            "    accuracy                           0.71      3000\n",
            "   macro avg       0.71      0.71      0.71      3000\n",
            "weighted avg       0.71      0.71      0.71      3000\n",
            "\n",
            "\n",
            "\n",
            "Confusion Matrix (on Test Data):\n",
            "[[1010  459]\n",
            " [ 407 1124]]\n"
          ]
        }
      ],
      "source": [
        "print(\"Resultado training (Best Parameters):\")\n",
        "print(model_result.best_params_)\n",
        "print(\"\\n\")\n",
        "print('Accuracy (on Training Data):')\n",
        "print(f\"{(model_result.best_score_*100):.2f}%\")\n",
        "print(\"\\n\")\n",
        "\n",
        "y_pred = model_result.predict(x_test_scaled)\n",
        "\n",
        "print('Accuracy (on Test Data):')\n",
        "print(f\"{(model_result.score(x_test_scaled, y_test)*100):.2f}%\")\n",
        "print(\"\\n\")\n",
        "\n",
        "print(\"Classification Report (on Test Data):\")\n",
        "print(classification_report(y_test, y_pred))\n",
        "print(\"\\n\")\n",
        "\n",
        "print(\"Confusion Matrix (on Test Data):\")\n",
        "print(confusion_matrix(y_test, y_pred))"
      ]
    },
    {
      "cell_type": "markdown",
      "metadata": {
        "id": "k4eraX2FZSOg"
      },
      "source": [
        "#### Prueba 2"
      ]
    },
    {
      "cell_type": "code",
      "execution_count": null,
      "metadata": {
        "id": "WlO9xhx5ZM1A"
      },
      "outputs": [],
      "source": [
        "scaler = StandardScaler()\n",
        "x_train_scaled = scaler.fit_transform(x_train)\n",
        "x_test_scaled = scaler.transform(x_test)\n",
        "\n",
        "parametros = {\n",
        "    'model__hidden_layer_sizes': [(20,), (35,), (15, 10, 5), (15,)],\n",
        "    'model__alpha': [0.0001, 0.001],\n",
        "    'model__dropout_rate': [0.2, 0.3],\n",
        "    'model__optimizer_name': ['adam'],\n",
        "    'model__l2_penalty': [0.0001, 0.001],\n",
        "    'model__input_dim': [input_dim],\n",
        "    'epochs': [5, 12],\n",
        "    'batch_size': [28]\n",
        "}\n",
        "\n",
        "kf = KFold(n_splits=4, shuffle=True, random_state=4)\n",
        "\n",
        "gridscv = GridSearchCV(estimator=base_model,\n",
        "                       param_grid=parametros,\n",
        "                       scoring='accuracy',\n",
        "                       cv=kf,\n",
        "                       n_jobs=1,\n",
        "                       refit=True)\n",
        "\n",
        "model_result = gridscv.fit(x_train_scaled, y_train)\n"
      ]
    },
    {
      "cell_type": "markdown",
      "metadata": {
        "id": "piGw2e6uZUp7"
      },
      "source": [
        "#### Resultados"
      ]
    },
    {
      "cell_type": "code",
      "execution_count": null,
      "metadata": {
        "colab": {
          "base_uri": "https://localhost:8080/"
        },
        "id": "3kRHqokPZRvo",
        "outputId": "d2fe08ec-5d02-4bc5-e700-d29db3797668"
      },
      "outputs": [
        {
          "name": "stdout",
          "output_type": "stream",
          "text": [
            "Resultado training (Best Parameters):\n",
            "{'batch_size': 28, 'epochs': 5, 'model__alpha': 0.001, 'model__dropout_rate': 0.3, 'model__hidden_layer_sizes': (15,), 'model__input_dim': 3416, 'model__l2_penalty': 0.001, 'model__optimizer_name': 'adam'}\n",
            "\n",
            "\n",
            "Accuracy (on Training Data):\n",
            "70.10%\n",
            "\n",
            "\n",
            "Accuracy (on Test Data):\n",
            "71.43%\n",
            "\n",
            "\n",
            "Classification Report (on Test Data):\n",
            "              precision    recall  f1-score   support\n",
            "\n",
            "           0       0.72      0.69      0.70      1469\n",
            "           1       0.71      0.74      0.73      1531\n",
            "\n",
            "    accuracy                           0.71      3000\n",
            "   macro avg       0.71      0.71      0.71      3000\n",
            "weighted avg       0.71      0.71      0.71      3000\n",
            "\n",
            "\n",
            "\n",
            "Confusion Matrix (on Test Data):\n",
            "[[1012  457]\n",
            " [ 400 1131]]\n"
          ]
        }
      ],
      "source": [
        "print(\"Resultado training (Best Parameters):\")\n",
        "print(model_result.best_params_)\n",
        "print(\"\\n\")\n",
        "print('Accuracy (on Training Data):')\n",
        "print(f\"{(model_result.best_score_*100):.2f}%\")\n",
        "print(\"\\n\")\n",
        "\n",
        "y_pred = model_result.predict(x_test_scaled)\n",
        "\n",
        "print('Accuracy (on Test Data):')\n",
        "print(f\"{(model_result.score(x_test_scaled, y_test)*100):.2f}%\")\n",
        "print(\"\\n\")\n",
        "\n",
        "print(\"Classification Report (on Test Data):\")\n",
        "print(classification_report(y_test, y_pred))\n",
        "print(\"\\n\")\n",
        "\n",
        "print(\"Confusion Matrix (on Test Data):\")\n",
        "print(confusion_matrix(y_test, y_pred))"
      ]
    },
    {
      "cell_type": "markdown",
      "metadata": {
        "id": "IoG-Tgz-dpvx"
      },
      "source": [
        "#### Prueba 3"
      ]
    },
    {
      "cell_type": "code",
      "execution_count": null,
      "metadata": {
        "id": "0MgOpI5ad0Qj"
      },
      "outputs": [],
      "source": [
        "parametros = {\n",
        "    'model__hidden_layer_sizes': [\n",
        "        (30, 15),\n",
        "        (25, 15),\n",
        "        (20, 10, 5)\n",
        "    ],\n",
        "    'model__alpha': [0.0005, 0.001],\n",
        "    'model__dropout_rate': [0.2, 0.25],\n",
        "    'model__optimizer_name': ['adam'],\n",
        "    'model__l2_penalty': [0.0005, 0.001],\n",
        "    'model__input_dim': [input_dim],\n",
        "    'epochs': [12],\n",
        "    'batch_size': [32]\n",
        "}\n",
        "\n",
        "kf = KFold(n_splits=4, shuffle=True, random_state=4)\n",
        "\n",
        "gridscv = GridSearchCV(estimator=base_model,\n",
        "                       param_grid=parametros,\n",
        "                       scoring='accuracy',\n",
        "                       cv=kf,\n",
        "                       n_jobs=1,\n",
        "                       refit=True)\n",
        "\n",
        "model_result = gridscv.fit(x_train_scaled, y_train)"
      ]
    },
    {
      "cell_type": "markdown",
      "metadata": {
        "id": "sx08PAALd0vt"
      },
      "source": [
        "#### Resultados"
      ]
    },
    {
      "cell_type": "code",
      "execution_count": null,
      "metadata": {
        "colab": {
          "base_uri": "https://localhost:8080/"
        },
        "id": "kVhx0V3qd2UM",
        "outputId": "9c7ef7a5-889e-4b4c-b898-53da5fa4ebf5"
      },
      "outputs": [
        {
          "name": "stdout",
          "output_type": "stream",
          "text": [
            "Resultado training (Best Parameters):\n",
            "{'batch_size': 32, 'epochs': 12, 'model__alpha': 0.0005, 'model__dropout_rate': 0.25, 'model__hidden_layer_sizes': (30, 15), 'model__input_dim': 3416, 'model__l2_penalty': 0.001, 'model__optimizer_name': 'adam'}\n",
            "\n",
            "\n",
            "Accuracy (on Training Data):\n",
            "70.03%\n",
            "\n",
            "\n",
            "Accuracy (on Test Data):\n",
            "71.97%\n",
            "\n",
            "\n",
            "Classification Report (on Test Data):\n",
            "              precision    recall  f1-score   support\n",
            "\n",
            "           0       0.73      0.68      0.70      1469\n",
            "           1       0.71      0.76      0.73      1531\n",
            "\n",
            "    accuracy                           0.72      3000\n",
            "   macro avg       0.72      0.72      0.72      3000\n",
            "weighted avg       0.72      0.72      0.72      3000\n",
            "\n",
            "\n",
            "\n",
            "Confusion Matrix (on Test Data):\n",
            "[[1003  466]\n",
            " [ 375 1156]]\n"
          ]
        }
      ],
      "source": [
        "print(\"Resultado training (Best Parameters):\")\n",
        "print(model_result.best_params_)\n",
        "print(\"\\n\")\n",
        "print('Accuracy (on Training Data):')\n",
        "print(f\"{(model_result.best_score_*100):.2f}%\")\n",
        "print(\"\\n\")\n",
        "\n",
        "y_pred = model_result.predict(x_test_scaled)\n",
        "\n",
        "print('Accuracy (on Test Data):')\n",
        "print(f\"{(model_result.score(x_test_scaled, y_test)*100):.2f}%\")\n",
        "print(\"\\n\")\n",
        "\n",
        "print(\"Classification Report (on Test Data):\")\n",
        "print(classification_report(y_test, y_pred))\n",
        "print(\"\\n\")\n",
        "\n",
        "print(\"Confusion Matrix (on Test Data):\")\n",
        "print(confusion_matrix(y_test, y_pred))"
      ]
    },
    {
      "cell_type": "markdown",
      "metadata": {
        "id": "yoBJI-J0ZlCL"
      },
      "source": [
        "En este modelo seguimos una estrategia basada en ajustes progresivos de hiperparámetros a través de tres pruebas consecutivas. En la prueba 1, se usaron arquitecturas simples de una o dos capas ocultas con tamaños como (25,), (20,) y (15, 10), combinadas con tasas de dropout relativamente altas (0.3 y 0.4) y valores de regularización alpha y l2_penalty moderados (0.001 y 0.01). En la prueba 2, se amplió la variedad de arquitecturas incluyendo una red más profunda (15, 10, 5) y una capa oculta más grande (35,), con un ajuste más fino en los valores de alpha y l2_penalty (bajándolos a 0.0001 y 0.001) y reduciendo el dropout a 0.2 y 0.3; además, se evaluaron dos cantidades de épocas: 5 y 12. Finalmente, en la prueba 3, se fortaleció el enfoque en arquitecturas más profundas como (30, 15) y (20, 10, 5), manteniendo valores bajos de regularización (alpha y l2_penalty entre 0.0005 y 0.001), dropout más conservador (0.2 y 0.25), y se mantuvieron 12 épocas de entrenamiento. Esta secuencia permitió explorar el equilibrio entre la complejidad del modelo y la prevención del sobreajuste para mejorar el rendimiento."
      ]
    },
    {
      "cell_type": "markdown",
      "metadata": {
        "id": "6u-HqtLJbJh4"
      },
      "source": [
        "## 5. Análisis de los resultados finales"
      ]
    },
    {
      "cell_type": "markdown",
      "metadata": {
        "id": "8wYIDeO3bZuI"
      },
      "source": [
        "### Modelo regresión multivariada"
      ]
    },
    {
      "cell_type": "markdown",
      "metadata": {
        "id": "QH4V0xSWb54o"
      },
      "source": [
        "Para el mejor resultado del modelo de regresión multivariada, con los parámetros ajustados, tuvimos las siguientes métricas en la clasificación:"
      ]
    },
    {
      "cell_type": "markdown",
      "metadata": {
        "id": "tV2NPI9w3RpQ"
      },
      "source": [
        "\n",
        "```\n",
        "Accuracy (on Test Data):\n",
        "72.96%\n",
        "\n",
        "Classification Report (on Test Data):\n",
        "              precision    recall  f1-score   support\n",
        "\n",
        "           0       0.73      0.73      0.73      2270\n",
        "           1       0.73      0.72      0.73      2230\n",
        "\n",
        "    accuracy                           0.73      4500\n",
        "   macro avg       0.73      0.73      0.73      4500\n",
        "weighted avg       0.73      0.73      0.73      4500\n",
        "```\n",
        "\n"
      ]
    },
    {
      "cell_type": "markdown",
      "metadata": {
        "id": "0z84-NFr6I_R"
      },
      "source": [
        "\n",
        "\n",
        "```\n",
        "Confusion Matrix (on Test Data):\n",
        "[[1667  603]\n",
        " [ 614 1616]]\n",
        "```\n",
        "\n"
      ]
    },
    {
      "cell_type": "markdown",
      "metadata": {
        "id": "LKJc4StZ6sQh"
      },
      "source": [
        "Graficando la confusión de matriz tenemos lo siguiente:"
      ]
    },
    {
      "cell_type": "code",
      "execution_count": 11,
      "metadata": {
        "colab": {
          "base_uri": "https://localhost:8080/",
          "height": 472
        },
        "id": "dmHNGUiU6rYM",
        "outputId": "159971c4-50e5-4a22-ffdc-6269538dba96"
      },
      "outputs": [
        {
          "output_type": "display_data",
          "data": {
            "text/plain": [
              "<Figure size 640x480 with 2 Axes>"
            ],
            "image/png": "[encoded data removed]"
          },
          "metadata": {}
        }
      ],
      "source": [
        "from sklearn.metrics import confusion_matrix, ConfusionMatrixDisplay\n",
        "import numpy as np\n",
        "\n",
        "cm_reg_mult = [[1667, 603],\n",
        "               [614, 1616]]\n",
        "\n",
        "cm_reg_mult = np.array(cm_reg_mult)\n",
        "\n",
        "labels = ['rotten', 'fresh']\n",
        "\n",
        "disp = ConfusionMatrixDisplay(confusion_matrix=cm_reg_mult, display_labels=labels)\n",
        "\n",
        "disp.plot(cmap=plt.cm.Blues)\n",
        "\n",
        "plt.title('Confusion Matrix - Regresión Multivariada')\n",
        "plt.xlabel('Etiqueta predicha')\n",
        "plt.ylabel('Etiqueta verdadera')\n",
        "\n",
        "plt.show()"
      ]
    },
    {
      "cell_type": "markdown",
      "metadata": {
        "id": "qqhOt3Zt7zL-"
      },
      "source": [
        "Se obtuvo un rendimiento equilibrado en la clasificación de sentimientos en el conjunto de prueba, logrando un accuracy del 72.96%. El Classification Report muestra métricas de precisión, recall y f1-score consistentes y cercanas al 73% para ambas clases ('rotten' y 'fresh'), indicando que el modelo se desempeña de manera similar en la identificación de reseñas positivas y negativas. La matriz de confusión detalla que 1667 reseñas fueron correctamente identificadas como negativas (verdaderos negativos) y 1616 como positivas (verdaderos positivos). Asimismo, se registraron 603 falsos positivos (reseñas negativas predichas como positivas) y 614 falsos negativos (reseñas positivas predichas como negativas). La paridad en las métricas por clase y en la cantidad de errores de clasificación subraya que el modelo no presenta un sesgo significativo hacia ninguna categoría, ofreciendo un desempeño general sólido para la tarea de análisis de sentimiento que hemos venido trabajando."
      ]
    },
    {
      "cell_type": "markdown",
      "metadata": {
        "id": "zAGZXbAUbfAf"
      },
      "source": [
        "### Modelo árbol de decisión"
      ]
    },
    {
      "cell_type": "markdown",
      "metadata": {
        "id": "WO8ftQ6wcC2B"
      },
      "source": [
        "Para el mejor resultado del modelo de árbol de decisión, con los parámetros ajustados, tuvimos las siguientes métricas en la clasificación:"
      ]
    },
    {
      "cell_type": "markdown",
      "metadata": {
        "id": "ADLbI5j54Vgf"
      },
      "source": [
        "\n",
        "\n",
        "```\n",
        "Accuracy (on Test Data):\n",
        "63.47%\n",
        "\n",
        "Classification Report (on Test Data):\n",
        "              precision    recall  f1-score   support\n",
        "\n",
        "           0       0.64      0.64      0.64      2270\n",
        "           1       0.63      0.63      0.63      2230\n",
        "\n",
        "    accuracy                           0.63      4500\n",
        "   macro avg       0.63      0.63      0.63      4500\n",
        "weighted avg       0.63      0.63      0.63      4500\n",
        "\n",
        "```\n",
        "\n"
      ]
    },
    {
      "cell_type": "markdown",
      "metadata": {
        "id": "ziAc9Yb-9cSj"
      },
      "source": [
        "\n",
        "\n",
        "```\n",
        "Confusion Matrix (on Test Data):\n",
        "[[1460  810]\n",
        " [ 834 1396]]\n",
        "```\n",
        "\n"
      ]
    },
    {
      "cell_type": "markdown",
      "metadata": {
        "id": "ycD2FOjU9xP_"
      },
      "source": [
        "Graficando la la matriz de confusión tenemos lo siguiente:"
      ]
    },
    {
      "cell_type": "code",
      "execution_count": null,
      "metadata": {
        "colab": {
          "base_uri": "https://localhost:8080/",
          "height": 472
        },
        "id": "4wCrVGUE91vf",
        "outputId": "2b8902cc-69ff-40b8-b2f8-24e3196f9b1f"
      },
      "outputs": [
        {
          "data": {
            "image/png": "[encoded data removed]",
            "text/plain": [
              "<Figure size 640x480 with 2 Axes>"
            ]
          },
          "metadata": {},
          "output_type": "display_data"
        }
      ],
      "source": [
        "cm_reg_mult = [[1460, 810],\n",
        "               [834, 1396]]\n",
        "\n",
        "cm_reg_mult = np.array(cm_reg_mult)\n",
        "\n",
        "labels = ['rotten', 'fresh']\n",
        "\n",
        "disp = ConfusionMatrixDisplay(confusion_matrix=cm_reg_mult, display_labels=labels)\n",
        "\n",
        "disp.plot(cmap=plt.cm.Blues)\n",
        "\n",
        "plt.title('Confusion Matrix - Arbol de decisión')\n",
        "plt.xlabel('Etiqueta predicha')\n",
        "plt.ylabel('Etiqueta verdadera')\n",
        "\n",
        "plt.show()"
      ]
    },
    {
      "cell_type": "markdown",
      "metadata": {
        "id": "FCCq8Erm_V-n"
      },
      "source": [
        "Sé alcanzó un accuracy en el conjunto de prueba del 63.47%, un rendimiento notablemente inferior al de la Regresión Multivariada. El Classification Report revela métricas de precisión, recall y f1-score para ambas clases ('rotten' y 'fresh') consistentes y cercanas al 63%, lo que sugiere que, aunque se desempeña de manera similar en la clasificación de ambas categorías, su capacidad predictiva general es limitada. La matriz de confusión muestra que se identificaron correctamente 1460 reseñas negativas (verdaderos negativos) y 1396 positivas (verdaderos positivos). Sin embargo, el modelo cometió una cantidad significativa de errores, clasificando incorrectamente 810 reseñas negativas como positivas (falsos positivos) y 834 reseñas positivas como negativas (falsos negativos). La mayor proporción de errores de clasificación en comparación con las predicciones correctas indica que, a pesar de estar balanceado en su desempeño entre clases, el Árbol de Decisión no logra capturar las complejidades de los datos textuales de las reseñas con la misma efectividad que otros modelos, resultando en un rendimiento no tan favorable para la tarea de análisis de sentimiento."
      ]
    },
    {
      "cell_type": "markdown",
      "metadata": {
        "id": "XEnCKSUabqRh"
      },
      "source": [
        "### Modelo random forest"
      ]
    },
    {
      "cell_type": "markdown",
      "metadata": {
        "id": "HpckAnF3cDqK"
      },
      "source": [
        "Para el mejor resultado del modelo de árbol de random forest, con los parámetros ajustados, tuvimos las siguientes métricas en la clasificación:"
      ]
    },
    {
      "cell_type": "markdown",
      "metadata": {
        "id": "XLtK6cthAtW2"
      },
      "source": [
        "\n",
        "\n",
        "```\n",
        "Accuracy (on Test Data):\n",
        "70.96%\n",
        "\n",
        "Classification Report (on Test Data):\n",
        "              precision    recall  f1-score   support\n",
        "\n",
        "           0       0.73      0.68      0.71      2304\n",
        "           1       0.69      0.74      0.71      2196\n",
        "\n",
        "    accuracy                           0.71      4500\n",
        "   macro avg       0.71      0.71      0.71      4500\n",
        "weighted avg       0.71      0.71      0.71      4500\n",
        "\n",
        "```\n",
        "\n"
      ]
    },
    {
      "cell_type": "markdown",
      "metadata": {
        "id": "P3OfnSrqBeyR"
      },
      "source": [
        "\n",
        "\n",
        "```\n",
        "Confusion Matrix (on Test Data):\n",
        "[[1572  732]\n",
        " [ 575 1621]]\n",
        "```\n",
        "\n"
      ]
    },
    {
      "cell_type": "markdown",
      "metadata": {
        "id": "CwyLSTitBpE2"
      },
      "source": [
        "Graficando la confusión de matriz tenemos lo siguiente:"
      ]
    },
    {
      "cell_type": "code",
      "execution_count": null,
      "metadata": {
        "colab": {
          "base_uri": "https://localhost:8080/",
          "height": 472
        },
        "id": "OhhQF47ABsC3",
        "outputId": "9600bdc7-70c9-4979-eff6-8cc34907a74d"
      },
      "outputs": [
        {
          "data": {
            "image/png": "[encoded data removed]",
            "text/plain": [
              "<Figure size 640x480 with 2 Axes>"
            ]
          },
          "metadata": {},
          "output_type": "display_data"
        }
      ],
      "source": [
        "cm_reg_mult = [[1572, 732],\n",
        "               [575, 1621]]\n",
        "\n",
        "cm_reg_mult = np.array(cm_reg_mult)\n",
        "\n",
        "labels = ['rotten', 'fresh']\n",
        "\n",
        "disp = ConfusionMatrixDisplay(confusion_matrix=cm_reg_mult, display_labels=labels)\n",
        "\n",
        "disp.plot(cmap=plt.cm.Blues)\n",
        "\n",
        "plt.title('Confusion Matrix - Random Forest')\n",
        "plt.xlabel('Etiqueta predicha')\n",
        "plt.ylabel('Etiqueta verdadera')\n",
        "\n",
        "plt.show()"
      ]
    },
    {
      "cell_type": "markdown",
      "metadata": {
        "id": "3NddS6EkCIXa"
      },
      "source": [
        "En este se obtuvo un accuracy en el conjunto de prueba del 70.96%. Al analizar el Classification Report, se observa un desempeño equilibrado entre las clases, con precision, recall y f1-score cercanos al 71%. Sin embargo, hay una ligera diferencia: la precisión para la clase ('rotten') es mayor (0.73) que para la clase ('fresh') (0.69), mientras que el recall es mayor para la clase 1 (0.74) que para la clase 0 (0.68). La matriz de confusión muestra 1572 verdaderos negativos y 1621 verdaderos positivos. Se identificaron 732 falsos positivos y 575 falsos negativos. Esta distribución de errores indica que el modelo es ligeramente más propenso a clasificar incorrectamente reseñas negativas como positivas (más falsos positivos) que reseñas positivas como negativas (menos falsos negativos), aunque en general ofrece un rendimiento competitivo y superior al árbol de Decisión para la tarea de análisis de sentimiento."
      ]
    },
    {
      "cell_type": "markdown",
      "metadata": {
        "id": "qe_tD1vnbufQ"
      },
      "source": [
        "### Modelo redes neuronales perceptrón multicapas"
      ]
    },
    {
      "cell_type": "markdown",
      "metadata": {
        "id": "nNaILfzecEiF"
      },
      "source": [
        "Para el mejor resultado del modelo de redes neuronales perceptrón multicapas, con los parámetros ajustados, tuvimos las siguientes métricas en la clasificación:"
      ]
    },
    {
      "cell_type": "markdown",
      "metadata": {
        "id": "W27P1V0xk6U4"
      },
      "source": [
        "\n",
        "\n",
        "```\n",
        "Accuracy (on Test Data):\n",
        "70.53%\n",
        "\n",
        "Classification Report (on Test Data):\n",
        "              precision    recall  f1-score   support\n",
        "\n",
        "           0       0.72      0.68      0.70      2275\n",
        "           1       0.69      0.73      0.71      2225\n",
        "\n",
        "    accuracy                           0.71      4500\n",
        "   macro avg       0.71      0.71      0.71      4500\n",
        "weighted avg       0.71      0.71      0.71      4500\n",
        "\n",
        "```\n",
        "\n"
      ]
    },
    {
      "cell_type": "markdown",
      "metadata": {
        "id": "jAFUbJaule-X"
      },
      "source": [
        "\n",
        "\n",
        "```\n",
        "Confusion Matrix (on Test Data):\n",
        "[[1555  720]\n",
        " [ 606 1619]]\n",
        "```\n",
        "\n"
      ]
    },
    {
      "cell_type": "markdown",
      "metadata": {
        "id": "OnnF-f8fljnH"
      },
      "source": [
        "Graficando la confusión de matriz tenemos lo siguiente:"
      ]
    },
    {
      "cell_type": "code",
      "execution_count": null,
      "metadata": {
        "colab": {
          "base_uri": "https://localhost:8080/",
          "height": 472
        },
        "id": "OpIVS46zlkrM",
        "outputId": "3e4203bc-c25c-498c-9161-64fc8ebde0ac"
      },
      "outputs": [
        {
          "data": {
            "image/png": "[encoded data removed]",
            "text/plain": [
              "<Figure size 640x480 with 2 Axes>"
            ]
          },
          "metadata": {},
          "output_type": "display_data"
        }
      ],
      "source": [
        "cm_reg_mult = [[1555, 720],\n",
        "               [606, 1619]]\n",
        "\n",
        "cm_reg_mult = np.array(cm_reg_mult)\n",
        "\n",
        "labels = ['rotten', 'fresh']\n",
        "\n",
        "disp = ConfusionMatrixDisplay(confusion_matrix=cm_reg_mult, display_labels=labels)\n",
        "\n",
        "disp.plot(cmap=plt.cm.Blues)\n",
        "\n",
        "plt.title('Confusion Matrix - Redes neuronales (MLP)')\n",
        "plt.xlabel('Etiqueta predicha')\n",
        "plt.ylabel('Etiqueta verdadera')\n",
        "\n",
        "plt.show()"
      ]
    },
    {
      "cell_type": "markdown",
      "metadata": {
        "id": "QCH4sl8clkRP"
      },
      "source": [
        "Se alcanzó un accuracy en el conjunto de prueba del 70.53%. Este rendimiento es comparable al obtenido con la Regresión Multivariada y Random Forest. El análisis del Classification Report revela un desempeño equilibrado entre las clases 'rotten' y 'fresh', con métricas de precisión, recall y f1-score que rondan el 71%, aunque con una ligera mayor precisión para la clase 0 y mayor recall para la clase 1. La matriz de confusión confirma este equilibrio, mostrando 1555 verdaderos negativos y 1619 verdaderos positivos, junto con 720 falsos positivos y 606 falsos negativos. A pesar de los errores de clasificación, la distribución de aciertos y errores indica que el modelo MLP, con el preprocesamiento y las arquitecturas exploradas, ofrece un rendimiento competitivo con respecto a los otros modelos."
      ]
    },
    {
      "cell_type": "markdown",
      "metadata": {
        "id": "7XRy5cnlbxpK"
      },
      "source": [
        "### Modelo redes neuronales profundas"
      ]
    },
    {
      "cell_type": "markdown",
      "metadata": {
        "id": "m4p20eUFcFX7"
      },
      "source": [
        "Para el mejor resultado del modelo de redes neuronales profundo, con los parámetros ajustados, tuvimos las siguientes métricas en la clasificación:"
      ]
    },
    {
      "cell_type": "markdown",
      "metadata": {
        "id": "0pgVOLqsmXcJ"
      },
      "source": [
        "\n",
        "\n",
        "```\n",
        "Accuracy (on Test Data):\n",
        "71.97%\n",
        "\n",
        "\n",
        "Classification Report (on Test Data):\n",
        "              precision    recall  f1-score   support\n",
        "\n",
        "           0       0.73      0.68      0.70      1469\n",
        "           1       0.71      0.76      0.73      1531\n",
        "\n",
        "    accuracy                           0.72      3000\n",
        "   macro avg       0.72      0.72      0.72      3000\n",
        "weighted avg       0.72      0.72      0.72      3000\n",
        "\n",
        "```\n",
        "\n"
      ]
    },
    {
      "cell_type": "markdown",
      "metadata": {
        "id": "j7pquqEwmZKx"
      },
      "source": [
        "\n",
        "\n",
        "```\n",
        "Confusion Matrix (on Test Data):\n",
        "[[1003  466]\n",
        " [ 375 1156]]\n",
        "```\n",
        "\n",
        "\n",
        "\n"
      ]
    },
    {
      "cell_type": "markdown",
      "metadata": {
        "id": "SD-r1tMimh7A"
      },
      "source": [
        "Graficando la confusión de matriz tenemos lo siguiente:"
      ]
    },
    {
      "cell_type": "code",
      "execution_count": 12,
      "metadata": {
        "colab": {
          "base_uri": "https://localhost:8080/",
          "height": 472
        },
        "id": "97qCkS9HmrER",
        "outputId": "16fe63dd-5a3c-4be5-b708-6dd413ae02cd"
      },
      "outputs": [
        {
          "output_type": "display_data",
          "data": {
            "text/plain": [
              "<Figure size 640x480 with 2 Axes>"
            ],
            "image/png": "[encoded data removed]"
          },
          "metadata": {}
        }
      ],
      "source": [
        "cm_reg_mult = [[1003, 466],\n",
        "               [375, 1580]]\n",
        "\n",
        "cm_reg_mult = np.array(cm_reg_mult)\n",
        "\n",
        "labels = ['rotten', 'fresh']\n",
        "\n",
        "disp = ConfusionMatrixDisplay(confusion_matrix=cm_reg_mult, display_labels=labels)\n",
        "\n",
        "disp.plot(cmap=plt.cm.Blues)\n",
        "\n",
        "plt.title('Confusion Matrix - Redes neuronales profundas (Keras)')\n",
        "plt.xlabel('Etiqueta predicha')\n",
        "plt.ylabel('Etiqueta verdadera')\n",
        "\n",
        "plt.show()"
      ]
    },
    {
      "cell_type": "markdown",
      "metadata": {
        "id": "rkWeZFPVnAKJ"
      },
      "source": [
        "Se logró un accuracy en el conjunto de prueba del 71.97%, convirtiéndose en el mejor resultado entre las pruebas de redes neuronales profundas (DNN). El classification report muestra un desempeño equilibrado entre las clases, con una precisión ligeramente superior para la clase 0 (73%) y un recall más alto para la clase 1 (76%), lo cual sugiere que el modelo es más eficaz reconociendo correctamente los casos positivos. La matriz de confusión respalda este comportamiento, con 1003 verdaderos negativos y 1156 verdaderos positivos, mientras que los errores se distribuyen en 466 falsos positivos y 375 falsos negativos. Estos resultados indican que el modelo, ajustado con arquitecturas más profundas y parámetros finos como dropout reducido y regularización baja, logró generalizar adecuadamente y superar a versiones anteriores en cuanto a equilibrio y desempeño."
      ]
    },
    {
      "cell_type": "markdown",
      "metadata": {
        "id": "WU1xY9nkj9NU"
      },
      "source": [
        "En el análisis comparativo de los modelos aplicados a la tarea de clasificación de sentimientos, la Regresión Multivariable destacó como el modelo con mejor desempeño, alcanzando un accuracy del 72.96% y métricas equilibradas entre clases, lo que indica una generalización efectiva. Le siguen de cerca Redes Neuronales Profundas con Keras (71.97%) y Random Forest (70.96%), ambos con resultados consistentes y sin sesgos importantes, aunque sin superar al modelo de regresión. El modelo MLP obtuvo un rendimiento ligeramente inferior (70.53%), mientras que el Árbol de Decisión mostró el desempeño más bajo (63.47%), evidenciando mayores dificultades para capturar patrones complejos en los datos textuales. En conjunto, los resultados sugieren que modelos más sofisticados como Random Forest y redes neuronales profundas ofrecen mejoras con respecto a métodos más simples, pero en este caso, la Regresión Multivariable logró el mejor equilibrio entre precisión y simplicidad.\n",
        "\n"
      ]
    },
    {
      "cell_type": "markdown",
      "metadata": {
        "id": "KjNs1XIVsBNZ"
      },
      "source": [
        "Ahora bien, procedemos a la sección de las conclusiones finales del proyecto."
      ]
    },
    {
      "cell_type": "markdown",
      "metadata": {
        "id": "j1DXmaTucRSf"
      },
      "source": [
        "## 6. Conclusiones de los resultados obtenidos"
      ]
    },
    {
      "cell_type": "markdown",
      "metadata": {
        "id": "7ppYUdcycaTY"
      },
      "source": [
        "El presente proyecto tuvo como objetivo desarrollar un modelo de clasificación capaz de predecir si una reseña de película es positiva (\"fresh\") o negativa (\"rotten\"), utilizando el conjunto de datos de Rotten Tomatoes. A lo largo del trabajo, se aplicaron técnicas de preprocesamiento textual como la conversión a minúsculas, eliminación de stopwords, símbolos y puntuación, así como lematización con POS tagging para normalizar el lenguaje natural, vectorización de texto (TF-IDF) y tambien seleccion de características con Random Forest, y con ello, se entrenaron y evaluaron modelos de clasificación logrando métricas de desempeño razonables en términos de precisión, recall y accuracy. Sin embargo, los resultados muestran un margen de mejora importante, en especial en cuanto a la capacidad de generalización en datos no vistos.\n",
        "\n",
        "Por otro lado, para mejorar el trabajo realizado se propone el siguiente esquema:\n",
        "\n",
        "* El uso de embeddings preentrenados, aunque TF-IDF es una técnica sólida, no captura el significado contextual de las palabras. Se podría usar representaciones semánticas más ricas como Word2Vec, GloVe o FastText, o embeddings contextuales como BERT, que entienden la posición y contexto de las palabras en la oración.\n",
        "\n",
        "* Se podría implementar modelos de Deep Learning especializados en texto como LSTM, GRU o transformers, puesto que permitiría modelar dependencias secuenciales y mejorar la comprensión del texto. Esto suele mejorar la generalización, especialmente cuando se trabaja con lenguaje natural.\n",
        "\n",
        "* El uso del dataset completo, trabajamos con una muestra representativa (15.000), pero escalar a todo el conjunto podría permitir que modelos más complejos como redes profundas o transformers aprovechen más información y generalicen mejor, asi que se sugiere tambien el uso de equipos muy buenos computacionalmente para un trabajo más exhaustivo y resultados más prometedores.\n",
        "\n",
        "\n",
        "\n",
        "\n",
        "\n",
        "\n",
        "\n"
      ]
    },
    {
      "cell_type": "markdown",
      "metadata": {
        "id": "SF088VTOcgvg"
      },
      "source": [
        "## 7. Referencias"
      ]
    },
    {
      "cell_type": "markdown",
      "metadata": {
        "id": "ixKZypvOc75h"
      },
      "source": [
        "[1] Pedersen, U. T. (2023, marzo 1). Rotten Tomatoes Reviews. Kaggle. https://www.kaggle.com/datasets/ulrikthygepedersen/rotten-tomatoes-reviews/data\n",
        "\n",
        "\n",
        "\n",
        "[2] Hariharan, A. (2023, abril 30). RT Reviews Classification with LSTM. Kaggle. https://www.kaggle.com/code/hariharanalm/rt-reviews-classification-with-lstm/notebook\n",
        "\n",
        "\n",
        "\n",
        "[3] scikit-learn developers. Supervised learning. scikit-learn. https://scikit-learn.org/stable/supervised_learning.html\n",
        "\n",
        "\n",
        "\n",
        "[4] Built In. (2024, febrero 8). What is TF-IDF? https://builtin.com/articles/tf-idf"
      ]
    }
  ],
  "metadata": {
    "colab": {
      "provenance": []
    },
    "kernelspec": {
      "display_name": "Python (keras310-env)",
      "language": "python",
      "name": "keras310-env"
    },
    "language_info": {
      "codemirror_mode": {
        "name": "ipython",
        "version": 3
      },
      "file_extension": ".py",
      "mimetype": "text/x-python",
      "name": "python",
      "nbconvert_exporter": "python",
      "pygments_lexer": "ipython3",
      "version": "3.10.0"
    }
  },
  "nbformat": 4,
  "nbformat_minor": 0
}