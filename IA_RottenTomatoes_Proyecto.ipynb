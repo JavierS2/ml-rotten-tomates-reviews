{
  "nbformat": 4,
  "nbformat_minor": 0,
  "metadata": {
    "colab": {
      "provenance": [],
      "toc_visible": true
    },
    "kernelspec": {
      "name": "python3",
      "display_name": "Python 3"
    },
    "language_info": {
      "name": "python"
    }
  },
  "cells": [
    {
      "cell_type": "markdown",
      "source": [
        "# Rotten Tomatoes Reviews\n",
        "### Realizado por: Carlos Lizarazo, Carlos Romero, Javier Santodomingo\n",
        "---\n",
        "\n"
      ],
      "metadata": {
        "id": "3AFEgLoDGe80"
      }
    },
    {
      "cell_type": "markdown",
      "source": [
        "## 1. Descripción del problema\n",
        "\n",
        "El conjunto de datos proporcionado contiene reseñas de películas del sitio web Rotten Tomatoes. Cada reseña de texto está etiquetada como positiva o negativa, dependiendo de la opinión expresada por el crítico. Por tanto, el problema que se plantea es un problema de *clasificación supervisada, más específicamente de **análisis de sentimientos (sentiment analysis)*.\n",
        "\n",
        "El objetivo principal es entrenar un modelo de aprendizaje automático que sea capaz de *predecir si una reseña es positiva o negativa* basándose únicamente en el contenido textual de la reseña. Esta es una tarea común en el área de procesamiento del lenguaje natural (NLP, por sus siglas en inglés), ya que ayuda a automatizar la comprensión de opiniones humanas escritas en lenguaje natural.\n",
        "\n",
        "### Descripción de las variables del conjunto de datos\n",
        "\n",
        "Con la documentación disponible en Kaggle trabajamos con el dataset *rt_reviews* [1] y el apoyo de otras documentaciones relacionadas, como *RT Reviews Classification with LSTM de Hariharan* [2]. Para este proyecto, el conjunto de datos incluye las siguientes columnas:\n",
        "\n",
        "- Review: Texto de la reseña realizada por un crítico de cine o tambien un usuario. Es una variable de tipo texto.\n",
        "- Freshness: Etiqueta que indica si la reseña es \"fresh\" or \"rotten\". Es una variable categórica que representa la clase que se debe predecir (variable objetivo o target).\n",
        "\n",
        "Este conjunto de datos puede ser utilizado para explorar diferentes modelos de clasificación como regresión logística, árboles de decisión, random forest, redes neuronales, entre otros más, que se encuentran implementados en la libreria sklearn, se pueden ver estos métodos a detalle en la página oficial sklearn que contiene la documentación [3].\n",
        "\n",
        "El dataset no contiene valores numéricos directamente analizables por modelos de machine learning, por lo que se requerirá aplicar técnicas de preprocesamiento, como la vectorización de texto usando TF-IDF, el cual para este proyecto nos apoyamos de su implementación de un articulo en la página oficial de builtin [4]."
      ],
      "metadata": {
        "id": "Z9AfarMZBlUK"
      }
    },
    {
      "cell_type": "markdown",
      "source": [
        "Primero, cargamos el dataset y mostramos una vista previa. Asegurandonos de que el archivo .csv esté en la misma carpeta del proyecto."
      ],
      "metadata": {
        "id": "A-3oZRBgB9v6"
      }
    },
    {
      "cell_type": "code",
      "source": [
        "import pandas as pd\n",
        "\n",
        "df = pd.read_csv('rt_reviews.csv', encoding='latin1')\n",
        "df.head()"
      ],
      "metadata": {
        "id": "gr3RjIMtBZtr",
        "colab": {
          "base_uri": "https://localhost:8080/",
          "height": 206
        },
        "outputId": "2dd01961-39fa-4dd0-920b-309f0f4614cb"
      },
      "execution_count": 3,
      "outputs": [
        {
          "output_type": "execute_result",
          "data": {
            "text/plain": [
              "  Freshness                                             Review\n",
              "0     fresh   Manakamana doesn't answer any questions, yet ...\n",
              "1     fresh   Wilfully offensive and powered by a chest-thu...\n",
              "2    rotten   It would be difficult to imagine material mor...\n",
              "3    rotten   Despite the gusto its star brings to the role...\n",
              "4    rotten   If there was a good idea at the core of this ..."
            ],
            "text/html": [
              "\n",
              "  <div id=\"df-14a8a901-9252-4fd6-9bcf-631f028922b6\" class=\"colab-df-container\">\n",
              "    <div>\n",
              "<style scoped>\n",
              "    .dataframe tbody tr th:only-of-type {\n",
              "        vertical-align: middle;\n",
              "    }\n",
              "\n",
              "    .dataframe tbody tr th {\n",
              "        vertical-align: top;\n",
              "    }\n",
              "\n",
              "    .dataframe thead th {\n",
              "        text-align: right;\n",
              "    }\n",
              "</style>\n",
              "<table border=\"1\" class=\"dataframe\">\n",
              "  <thead>\n",
              "    <tr style=\"text-align: right;\">\n",
              "      <th></th>\n",
              "      <th>Freshness</th>\n",
              "      <th>Review</th>\n",
              "    </tr>\n",
              "  </thead>\n",
              "  <tbody>\n",
              "    <tr>\n",
              "      <th>0</th>\n",
              "      <td>fresh</td>\n",
              "      <td>Manakamana doesn't answer any questions, yet ...</td>\n",
              "    </tr>\n",
              "    <tr>\n",
              "      <th>1</th>\n",
              "      <td>fresh</td>\n",
              "      <td>Wilfully offensive and powered by a chest-thu...</td>\n",
              "    </tr>\n",
              "    <tr>\n",
              "      <th>2</th>\n",
              "      <td>rotten</td>\n",
              "      <td>It would be difficult to imagine material mor...</td>\n",
              "    </tr>\n",
              "    <tr>\n",
              "      <th>3</th>\n",
              "      <td>rotten</td>\n",
              "      <td>Despite the gusto its star brings to the role...</td>\n",
              "    </tr>\n",
              "    <tr>\n",
              "      <th>4</th>\n",
              "      <td>rotten</td>\n",
              "      <td>If there was a good idea at the core of this ...</td>\n",
              "    </tr>\n",
              "  </tbody>\n",
              "</table>\n",
              "</div>\n",
              "    <div class=\"colab-df-buttons\">\n",
              "\n",
              "  <div class=\"colab-df-container\">\n",
              "    <button class=\"colab-df-convert\" onclick=\"convertToInteractive('df-14a8a901-9252-4fd6-9bcf-631f028922b6')\"\n",
              "            title=\"Convert this dataframe to an interactive table.\"\n",
              "            style=\"display:none;\">\n",
              "\n",
              "  <svg xmlns=\"http://www.w3.org/2000/svg\" height=\"24px\" viewBox=\"0 -960 960 960\">\n",
              "    <path d=\"M120-120v-720h720v720H120Zm60-500h600v-160H180v160Zm220 220h160v-160H400v160Zm0 220h160v-160H400v160ZM180-400h160v-160H180v160Zm440 0h160v-160H620v160ZM180-180h160v-160H180v160Zm440 0h160v-160H620v160Z\"/>\n",
              "  </svg>\n",
              "    </button>\n",
              "\n",
              "  <style>\n",
              "    .colab-df-container {\n",
              "      display:flex;\n",
              "      gap: 12px;\n",
              "    }\n",
              "\n",
              "    .colab-df-convert {\n",
              "      background-color: #E8F0FE;\n",
              "      border: none;\n",
              "      border-radius: 50%;\n",
              "      cursor: pointer;\n",
              "      display: none;\n",
              "      fill: #1967D2;\n",
              "      height: 32px;\n",
              "      padding: 0 0 0 0;\n",
              "      width: 32px;\n",
              "    }\n",
              "\n",
              "    .colab-df-convert:hover {\n",
              "      background-color: #E2EBFA;\n",
              "      box-shadow: 0px 1px 2px rgba(60, 64, 67, 0.3), 0px 1px 3px 1px rgba(60, 64, 67, 0.15);\n",
              "      fill: #174EA6;\n",
              "    }\n",
              "\n",
              "    .colab-df-buttons div {\n",
              "      margin-bottom: 4px;\n",
              "    }\n",
              "\n",
              "    [theme=dark] .colab-df-convert {\n",
              "      background-color: #3B4455;\n",
              "      fill: #D2E3FC;\n",
              "    }\n",
              "\n",
              "    [theme=dark] .colab-df-convert:hover {\n",
              "      background-color: #434B5C;\n",
              "      box-shadow: 0px 1px 3px 1px rgba(0, 0, 0, 0.15);\n",
              "      filter: drop-shadow(0px 1px 2px rgba(0, 0, 0, 0.3));\n",
              "      fill: #FFFFFF;\n",
              "    }\n",
              "  </style>\n",
              "\n",
              "    <script>\n",
              "      const buttonEl =\n",
              "        document.querySelector('#df-14a8a901-9252-4fd6-9bcf-631f028922b6 button.colab-df-convert');\n",
              "      buttonEl.style.display =\n",
              "        google.colab.kernel.accessAllowed ? 'block' : 'none';\n",
              "\n",
              "      async function convertToInteractive(key) {\n",
              "        const element = document.querySelector('#df-14a8a901-9252-4fd6-9bcf-631f028922b6');\n",
              "        const dataTable =\n",
              "          await google.colab.kernel.invokeFunction('convertToInteractive',\n",
              "                                                    [key], {});\n",
              "        if (!dataTable) return;\n",
              "\n",
              "        const docLinkHtml = 'Like what you see? Visit the ' +\n",
              "          '<a target=\"_blank\" href=https://colab.research.google.com/notebooks/data_table.ipynb>data table notebook</a>'\n",
              "          + ' to learn more about interactive tables.';\n",
              "        element.innerHTML = '';\n",
              "        dataTable['output_type'] = 'display_data';\n",
              "        await google.colab.output.renderOutput(dataTable, element);\n",
              "        const docLink = document.createElement('div');\n",
              "        docLink.innerHTML = docLinkHtml;\n",
              "        element.appendChild(docLink);\n",
              "      }\n",
              "    </script>\n",
              "  </div>\n",
              "\n",
              "\n",
              "    <div id=\"df-360db969-4637-4fe4-a756-ce277d0e1259\">\n",
              "      <button class=\"colab-df-quickchart\" onclick=\"quickchart('df-360db969-4637-4fe4-a756-ce277d0e1259')\"\n",
              "                title=\"Suggest charts\"\n",
              "                style=\"display:none;\">\n",
              "\n",
              "<svg xmlns=\"http://www.w3.org/2000/svg\" height=\"24px\"viewBox=\"0 0 24 24\"\n",
              "     width=\"24px\">\n",
              "    <g>\n",
              "        <path d=\"M19 3H5c-1.1 0-2 .9-2 2v14c0 1.1.9 2 2 2h14c1.1 0 2-.9 2-2V5c0-1.1-.9-2-2-2zM9 17H7v-7h2v7zm4 0h-2V7h2v10zm4 0h-2v-4h2v4z\"/>\n",
              "    </g>\n",
              "</svg>\n",
              "      </button>\n",
              "\n",
              "<style>\n",
              "  .colab-df-quickchart {\n",
              "      --bg-color: #E8F0FE;\n",
              "      --fill-color: #1967D2;\n",
              "      --hover-bg-color: #E2EBFA;\n",
              "      --hover-fill-color: #174EA6;\n",
              "      --disabled-fill-color: #AAA;\n",
              "      --disabled-bg-color: #DDD;\n",
              "  }\n",
              "\n",
              "  [theme=dark] .colab-df-quickchart {\n",
              "      --bg-color: #3B4455;\n",
              "      --fill-color: #D2E3FC;\n",
              "      --hover-bg-color: #434B5C;\n",
              "      --hover-fill-color: #FFFFFF;\n",
              "      --disabled-bg-color: #3B4455;\n",
              "      --disabled-fill-color: #666;\n",
              "  }\n",
              "\n",
              "  .colab-df-quickchart {\n",
              "    background-color: var(--bg-color);\n",
              "    border: none;\n",
              "    border-radius: 50%;\n",
              "    cursor: pointer;\n",
              "    display: none;\n",
              "    fill: var(--fill-color);\n",
              "    height: 32px;\n",
              "    padding: 0;\n",
              "    width: 32px;\n",
              "  }\n",
              "\n",
              "  .colab-df-quickchart:hover {\n",
              "    background-color: var(--hover-bg-color);\n",
              "    box-shadow: 0 1px 2px rgba(60, 64, 67, 0.3), 0 1px 3px 1px rgba(60, 64, 67, 0.15);\n",
              "    fill: var(--button-hover-fill-color);\n",
              "  }\n",
              "\n",
              "  .colab-df-quickchart-complete:disabled,\n",
              "  .colab-df-quickchart-complete:disabled:hover {\n",
              "    background-color: var(--disabled-bg-color);\n",
              "    fill: var(--disabled-fill-color);\n",
              "    box-shadow: none;\n",
              "  }\n",
              "\n",
              "  .colab-df-spinner {\n",
              "    border: 2px solid var(--fill-color);\n",
              "    border-color: transparent;\n",
              "    border-bottom-color: var(--fill-color);\n",
              "    animation:\n",
              "      spin 1s steps(1) infinite;\n",
              "  }\n",
              "\n",
              "  @keyframes spin {\n",
              "    0% {\n",
              "      border-color: transparent;\n",
              "      border-bottom-color: var(--fill-color);\n",
              "      border-left-color: var(--fill-color);\n",
              "    }\n",
              "    20% {\n",
              "      border-color: transparent;\n",
              "      border-left-color: var(--fill-color);\n",
              "      border-top-color: var(--fill-color);\n",
              "    }\n",
              "    30% {\n",
              "      border-color: transparent;\n",
              "      border-left-color: var(--fill-color);\n",
              "      border-top-color: var(--fill-color);\n",
              "      border-right-color: var(--fill-color);\n",
              "    }\n",
              "    40% {\n",
              "      border-color: transparent;\n",
              "      border-right-color: var(--fill-color);\n",
              "      border-top-color: var(--fill-color);\n",
              "    }\n",
              "    60% {\n",
              "      border-color: transparent;\n",
              "      border-right-color: var(--fill-color);\n",
              "    }\n",
              "    80% {\n",
              "      border-color: transparent;\n",
              "      border-right-color: var(--fill-color);\n",
              "      border-bottom-color: var(--fill-color);\n",
              "    }\n",
              "    90% {\n",
              "      border-color: transparent;\n",
              "      border-bottom-color: var(--fill-color);\n",
              "    }\n",
              "  }\n",
              "</style>\n",
              "\n",
              "      <script>\n",
              "        async function quickchart(key) {\n",
              "          const quickchartButtonEl =\n",
              "            document.querySelector('#' + key + ' button');\n",
              "          quickchartButtonEl.disabled = true;  // To prevent multiple clicks.\n",
              "          quickchartButtonEl.classList.add('colab-df-spinner');\n",
              "          try {\n",
              "            const charts = await google.colab.kernel.invokeFunction(\n",
              "                'suggestCharts', [key], {});\n",
              "          } catch (error) {\n",
              "            console.error('Error during call to suggestCharts:', error);\n",
              "          }\n",
              "          quickchartButtonEl.classList.remove('colab-df-spinner');\n",
              "          quickchartButtonEl.classList.add('colab-df-quickchart-complete');\n",
              "        }\n",
              "        (() => {\n",
              "          let quickchartButtonEl =\n",
              "            document.querySelector('#df-360db969-4637-4fe4-a756-ce277d0e1259 button');\n",
              "          quickchartButtonEl.style.display =\n",
              "            google.colab.kernel.accessAllowed ? 'block' : 'none';\n",
              "        })();\n",
              "      </script>\n",
              "    </div>\n",
              "\n",
              "    </div>\n",
              "  </div>\n"
            ],
            "application/vnd.google.colaboratory.intrinsic+json": {
              "type": "dataframe",
              "variable_name": "df"
            }
          },
          "metadata": {},
          "execution_count": 3
        }
      ]
    },
    {
      "cell_type": "markdown",
      "source": [
        "Procedemos a ver la información del dataset relevante y verificar la distribución para la columna 'Freshness' y 'Review'."
      ],
      "metadata": {
        "id": "cASPe2FTCP7p"
      }
    },
    {
      "cell_type": "code",
      "source": [
        "df.info()\n",
        "\n",
        "df['Freshness'].value_counts()"
      ],
      "metadata": {
        "id": "k52dWbE-Cm1x",
        "colab": {
          "base_uri": "https://localhost:8080/",
          "height": 334
        },
        "outputId": "bb93e855-aeaa-40e4-ea6d-60035038ceff"
      },
      "execution_count": null,
      "outputs": [
        {
          "output_type": "stream",
          "name": "stdout",
          "text": [
            "<class 'pandas.core.frame.DataFrame'>\n",
            "RangeIndex: 480000 entries, 0 to 479999\n",
            "Data columns (total 2 columns):\n",
            " #   Column     Non-Null Count   Dtype \n",
            "---  ------     --------------   ----- \n",
            " 0   Freshness  480000 non-null  object\n",
            " 1   Review     480000 non-null  object\n",
            "dtypes: object(2)\n",
            "memory usage: 7.3+ MB\n"
          ]
        },
        {
          "output_type": "execute_result",
          "data": {
            "text/plain": [
              "Freshness\n",
              "fresh     240000\n",
              "rotten    240000\n",
              "Name: count, dtype: int64"
            ],
            "text/html": [
              "<div>\n",
              "<style scoped>\n",
              "    .dataframe tbody tr th:only-of-type {\n",
              "        vertical-align: middle;\n",
              "    }\n",
              "\n",
              "    .dataframe tbody tr th {\n",
              "        vertical-align: top;\n",
              "    }\n",
              "\n",
              "    .dataframe thead th {\n",
              "        text-align: right;\n",
              "    }\n",
              "</style>\n",
              "<table border=\"1\" class=\"dataframe\">\n",
              "  <thead>\n",
              "    <tr style=\"text-align: right;\">\n",
              "      <th></th>\n",
              "      <th>count</th>\n",
              "    </tr>\n",
              "    <tr>\n",
              "      <th>Freshness</th>\n",
              "      <th></th>\n",
              "    </tr>\n",
              "  </thead>\n",
              "  <tbody>\n",
              "    <tr>\n",
              "      <th>fresh</th>\n",
              "      <td>240000</td>\n",
              "    </tr>\n",
              "    <tr>\n",
              "      <th>rotten</th>\n",
              "      <td>240000</td>\n",
              "    </tr>\n",
              "  </tbody>\n",
              "</table>\n",
              "</div><br><label><b>dtype:</b> int64</label>"
            ]
          },
          "metadata": {},
          "execution_count": 2
        }
      ]
    },
    {
      "cell_type": "markdown",
      "source": [
        "Se observa que el conjunto de datos tiene alrededor de 480 mil registros, con las dos etiquetas: \"fresh\" y \"rotten\", las cuales están en la columna llamada \"Freshness\" y la otra columna llamada Review que contiene la descripción de la reseña. El dataset está balanceado en cuanto a la cantidad de ejemplos por clase, sin embargo tomaremos una parte de nrows para trabajar el proyecto de la mejor forma."
      ],
      "metadata": {
        "id": "d2n8kb1UVWhI"
      }
    },
    {
      "cell_type": "code",
      "source": [
        "df = pd.read_csv('rt_reviews.csv', encoding='latin1', nrows=15000)"
      ],
      "metadata": {
        "id": "4nvAzjBuUfYh"
      },
      "execution_count": 5,
      "outputs": []
    },
    {
      "cell_type": "markdown",
      "source": [
        "Ahora bien, continuamos con la sección de descripción e inspeccion de datos."
      ],
      "metadata": {
        "id": "KYdW_46CUoRs"
      }
    },
    {
      "cell_type": "markdown",
      "source": [
        "## 2. Descripción e inspección de datos mediante gráficos\n",
        "\n",
        "Primeramente, analizaremos cuántas palabras se repiten en este dataset especificamente en las reviews, para ello lo haremos con las 25 que más lo logran hacer mediante un gráfico de barras."
      ],
      "metadata": {
        "id": "ghZxmOyEBdrK"
      }
    },
    {
      "cell_type": "code",
      "source": [
        "import re\n",
        "import collections\n",
        "import matplotlib.pyplot as plt\n",
        "import seaborn as sns\n",
        "\n",
        "reviews = ' '.join(df['Review'].dropna().astype(str))\n",
        "words = re.findall(r'\\b\\w+\\b', reviews.lower())\n",
        "frequency = collections.Counter(words)\n",
        "top_words = frequency.most_common(25)\n",
        "words, freq = zip(*top_words)"
      ],
      "metadata": {
        "id": "SK-D9r_ki4po"
      },
      "execution_count": 7,
      "outputs": []
    },
    {
      "cell_type": "code",
      "source": [
        "df_top_words = pd.DataFrame({'Palabra': words, 'Frecuencia': freq})\n",
        "plt.figure(figsize=(12, 8))\n",
        "\n",
        "sns.barplot(x='Frecuencia', y='Palabra', data=df_top_words, orient='h')\n",
        "\n",
        "plt.title('25 palabras más frecuentes en las reseñas')\n",
        "plt.xlabel('Frecuencia')\n",
        "plt.ylabel('Palabra')\n",
        "plt.tight_layout()\n",
        "plt.show()"
      ],
      "metadata": {
        "colab": {
          "base_uri": "https://localhost:8080/",
          "height": 451
        },
        "id": "cnco5xnFjTZo",
        "outputId": "72c59e26-6700-486e-bcbf-67ab42022533"
      },
      "execution_count": null,
      "outputs": [
        {
          "output_type": "display_data",
          "data": {
            "text/plain": [
              "<Figure size 1200x800 with 1 Axes>"
            ],
            "image/png": "[encoded data removed]"
          },
          "metadata": {}
        }
      ]
    },
    {
      "cell_type": "markdown",
      "source": [
        "Observamos que muchas de las palabras más comunes son \"palabras vacías\" (stopwords) como \"the\", \"and\", \"a\", \"to\", que son artículos, conjunciones y preposiciones. Estas palabras suelen tener poco valor semántico individualmente para determinar el sentimiento de una reseña, este análisis inicial sugiere la necesidad de preprocesar el texto, lo que podría incluir la eliminación de stopwords, para centrar el análisis en palabras que aporten más significado al sentimiento.\n",
        "\n",
        "Por otra parte, haremos un gráfico circular (pie) para tener una idea visual de la distribución para las etiquetas freshness."
      ],
      "metadata": {
        "id": "LePaWr_Gnuxm"
      }
    },
    {
      "cell_type": "code",
      "source": [
        "freshness_counts = df['Freshness'].value_counts()\n",
        "\n",
        "labels = freshness_counts.index\n",
        "sizes = freshness_counts.values\n",
        "colors = ['blue', 'red']\n",
        "\n",
        "plt.figure(figsize=(8, 8))\n",
        "plt.pie(sizes, labels=labels, colors=colors, autopct='%1.1f%%', startangle=90)\n",
        "plt.title('Distribución de etiquetas Freshness')\n",
        "plt.axis('equal')\n",
        "plt.show()"
      ],
      "metadata": {
        "colab": {
          "base_uri": "https://localhost:8080/",
          "height": 620
        },
        "id": "5RscHph6a3JM",
        "outputId": "989806b1-39df-4e23-bc47-4485131e22e5"
      },
      "execution_count": null,
      "outputs": [
        {
          "output_type": "display_data",
          "data": {
            "text/plain": [
              "<Figure size 800x800 with 1 Axes>"
            ],
            "image/png": "[encoded data removed]"
          },
          "metadata": {}
        }
      ]
    },
    {
      "cell_type": "markdown",
      "source": [
        "La gráfica ciruclar muestra la distribución de las etiquetas \"Freshness\", separando las reseñas en \"fresh\" (positivas) y \"rotten\" (negativas). Visualmente, se aprecia un porcentaje muy similar de reseñas para ambas categorías, lo que indica que el dataset se encuentra bien balanceado.\n",
        "\n",
        "Este balance es favorable para el entrenamiento de modelos de clasificación, ya que evita problemas asociados al desbalance de clases y permite que los modelos aprendan de manera equitativa sobre las características que definen tanto una reseña positiva como una negativa."
      ],
      "metadata": {
        "id": "xBr6meyacHcs"
      }
    },
    {
      "cell_type": "markdown",
      "source": [
        "Procedemos a realizar un histograma del conteo de simbolos y numeros que se encuentren en las reseñas."
      ],
      "metadata": {
        "id": "WhnZ8hiIsyjY"
      }
    },
    {
      "cell_type": "code",
      "source": [
        "def count_symbols_and_numbers(text):\n",
        "     if pd.isna(text):\n",
        "         return 0\n",
        "     symbols_and_numbers = re.findall(r'[^a-zA-Z\\s]', str(text))\n",
        "     return len(symbols_and_numbers)\n",
        "\n",
        "df['symbols_numbers_count'] = df['Review'].apply(lambda x: count_symbols_and_numbers(x))\n",
        "\n",
        "plt.figure(figsize=(10, 6))\n",
        "\n",
        "sns.histplot(df['symbols_numbers_count'], bins=50, kde=False)\n",
        "\n",
        "plt.title('Distribución de la cantidad de símbolos/números por reseña (Total)')\n",
        "plt.xlabel('Cantidad de símbolos/números')\n",
        "plt.ylabel('Frecuencia')\n",
        "plt.show()"
      ],
      "metadata": {
        "colab": {
          "base_uri": "https://localhost:8080/",
          "height": 565
        },
        "id": "pzjBZxF6xQeO",
        "outputId": "ff1146a5-7a81-4b6c-e6e2-e16879561699"
      },
      "execution_count": 9,
      "outputs": [
        {
          "output_type": "display_data",
          "data": {
            "text/plain": [
              "<Figure size 1000x600 with 1 Axes>"
            ],
            "image/png": "[encoded data removed]"
          },
          "metadata": {}
        }
      ]
    },
    {
      "cell_type": "markdown",
      "source": [
        "El histograma muestra una distribución marcadamente sesgada hacia la izquierda, con la mayoría de las reviews conteniendo pocos símbolos y números. La concentración en valores bajos indica que el texto es predominantemente alfabético. Sin embargo, la presencia de reviews con una mayor cantidad de símbolos y números, aunque menos frecuentes, sugiere que el conjunto de datos contiene cierto \"ruido\" en forma de caracteres no alfabéticos, por lo cual se ve necesario aplicar técnicas de limpieza de datos, como la eliminación de símbolos y puntuación, para preparar adecuadamente el texto antes de realizar análisis de sentimiento o entrenar modelos de clasificación."
      ],
      "metadata": {
        "id": "83woN9G5rwZD"
      }
    },
    {
      "cell_type": "markdown",
      "source": [
        "Ahora bien, procedemos con la sección de estrategias para la preparación de datos."
      ],
      "metadata": {
        "id": "KeF_DiyKzSkE"
      }
    },
    {
      "cell_type": "markdown",
      "source": [
        "## 3. Estrategias para la preparación de datos."
      ],
      "metadata": {
        "id": "OL0fH6xdxYsQ"
      }
    },
    {
      "cell_type": "markdown",
      "source": [
        "Para esta sección planeamos las siguientes estrategias a seguir en este orden, para poder realizar una buena preparación de datos sin ningún problema:"
      ],
      "metadata": {
        "id": "VKuqZNNw2XMu"
      }
    },
    {
      "cell_type": "markdown",
      "source": [
        "Primeramente, procedemos a convertir las palabras de las review a minúsculas."
      ],
      "metadata": {
        "id": "qpO9Xj_i5qXg"
      }
    },
    {
      "cell_type": "code",
      "source": [
        "df['Review'] = df['Review'].astype(str).str.lower()"
      ],
      "metadata": {
        "id": "u6iL2_q16dcU"
      },
      "execution_count": 11,
      "outputs": []
    },
    {
      "cell_type": "markdown",
      "source": [
        "Verificamos la salida para comprobar de que están en minúsculas"
      ],
      "metadata": {
        "id": "9voyMOUF7FWc"
      }
    },
    {
      "cell_type": "code",
      "source": [
        "df['Review'].head()"
      ],
      "metadata": {
        "colab": {
          "base_uri": "https://localhost:8080/",
          "height": 241
        },
        "id": "p5TVG8Zy7PB7",
        "outputId": "5ae3328c-44f6-41d2-be39-945d3e0106fd"
      },
      "execution_count": 12,
      "outputs": [
        {
          "output_type": "execute_result",
          "data": {
            "text/plain": [
              "0     manakamana doesn't answer any questions, yet ...\n",
              "1     wilfully offensive and powered by a chest-thu...\n",
              "2     it would be difficult to imagine material mor...\n",
              "3     despite the gusto its star brings to the role...\n",
              "4     if there was a good idea at the core of this ...\n",
              "Name: Review, dtype: object"
            ],
            "text/html": [
              "<div>\n",
              "<style scoped>\n",
              "    .dataframe tbody tr th:only-of-type {\n",
              "        vertical-align: middle;\n",
              "    }\n",
              "\n",
              "    .dataframe tbody tr th {\n",
              "        vertical-align: top;\n",
              "    }\n",
              "\n",
              "    .dataframe thead th {\n",
              "        text-align: right;\n",
              "    }\n",
              "</style>\n",
              "<table border=\"1\" class=\"dataframe\">\n",
              "  <thead>\n",
              "    <tr style=\"text-align: right;\">\n",
              "      <th></th>\n",
              "      <th>Review</th>\n",
              "    </tr>\n",
              "  </thead>\n",
              "  <tbody>\n",
              "    <tr>\n",
              "      <th>0</th>\n",
              "      <td>manakamana doesn't answer any questions, yet ...</td>\n",
              "    </tr>\n",
              "    <tr>\n",
              "      <th>1</th>\n",
              "      <td>wilfully offensive and powered by a chest-thu...</td>\n",
              "    </tr>\n",
              "    <tr>\n",
              "      <th>2</th>\n",
              "      <td>it would be difficult to imagine material mor...</td>\n",
              "    </tr>\n",
              "    <tr>\n",
              "      <th>3</th>\n",
              "      <td>despite the gusto its star brings to the role...</td>\n",
              "    </tr>\n",
              "    <tr>\n",
              "      <th>4</th>\n",
              "      <td>if there was a good idea at the core of this ...</td>\n",
              "    </tr>\n",
              "  </tbody>\n",
              "</table>\n",
              "</div><br><label><b>dtype:</b> object</label>"
            ]
          },
          "metadata": {},
          "execution_count": 12
        }
      ]
    },
    {
      "cell_type": "markdown",
      "source": [
        "Recordando lo que hicimos en la sección 2, procedemos a eliminar las palabras de las reviews que no son importantes, las stopwords, puesto que no influirán en los modelos."
      ],
      "metadata": {
        "id": "0DZbfALq6Gxl"
      }
    },
    {
      "cell_type": "code",
      "source": [
        "import nltk\n",
        "from nltk.corpus import stopwords\n",
        "\n",
        "nltk.download('stopwords')\n",
        "\n",
        "stop_words = set(stopwords.words('english'))\n",
        "\n",
        "def remove_stopwords(text):\n",
        "  return \" \".join([word for word in str(text).split() if word not in stop_words])\n",
        "\n",
        "df['Review'] = df['Review'].apply(lambda x: remove_stopwords(x))"
      ],
      "metadata": {
        "colab": {
          "base_uri": "https://localhost:8080/"
        },
        "id": "gEQ8twXg9-tK",
        "outputId": "dbcce84d-cd1a-4aa9-a728-38d628506e06"
      },
      "execution_count": 13,
      "outputs": [
        {
          "output_type": "stream",
          "name": "stderr",
          "text": [
            "[nltk_data] Downloading package stopwords to /root/nltk_data...\n",
            "[nltk_data]   Unzipping corpora/stopwords.zip.\n"
          ]
        }
      ]
    },
    {
      "cell_type": "code",
      "source": [
        "df['Review'].head()"
      ],
      "metadata": {
        "colab": {
          "base_uri": "https://localhost:8080/",
          "height": 241
        },
        "id": "HTOy7UI2_3LC",
        "outputId": "107fc560-5fe5-4145-a52b-4bcf885e5df9"
      },
      "execution_count": null,
      "outputs": [
        {
          "output_type": "execute_result",
          "data": {
            "text/plain": [
              "0    manakamana answer questions, yet makes point: ...\n",
              "1    wilfully offensive powered chest-thumping mach...\n",
              "2    would difficult imagine material wrong spade l...\n",
              "3    despite gusto star brings role, hard ride shot...\n",
              "4    good idea core film, buried unsightly pile fla...\n",
              "Name: Review, dtype: object"
            ],
            "text/html": [
              "<div>\n",
              "<style scoped>\n",
              "    .dataframe tbody tr th:only-of-type {\n",
              "        vertical-align: middle;\n",
              "    }\n",
              "\n",
              "    .dataframe tbody tr th {\n",
              "        vertical-align: top;\n",
              "    }\n",
              "\n",
              "    .dataframe thead th {\n",
              "        text-align: right;\n",
              "    }\n",
              "</style>\n",
              "<table border=\"1\" class=\"dataframe\">\n",
              "  <thead>\n",
              "    <tr style=\"text-align: right;\">\n",
              "      <th></th>\n",
              "      <th>Review</th>\n",
              "    </tr>\n",
              "  </thead>\n",
              "  <tbody>\n",
              "    <tr>\n",
              "      <th>0</th>\n",
              "      <td>manakamana answer questions, yet makes point: ...</td>\n",
              "    </tr>\n",
              "    <tr>\n",
              "      <th>1</th>\n",
              "      <td>wilfully offensive powered chest-thumping mach...</td>\n",
              "    </tr>\n",
              "    <tr>\n",
              "      <th>2</th>\n",
              "      <td>would difficult imagine material wrong spade l...</td>\n",
              "    </tr>\n",
              "    <tr>\n",
              "      <th>3</th>\n",
              "      <td>despite gusto star brings role, hard ride shot...</td>\n",
              "    </tr>\n",
              "    <tr>\n",
              "      <th>4</th>\n",
              "      <td>good idea core film, buried unsightly pile fla...</td>\n",
              "    </tr>\n",
              "  </tbody>\n",
              "</table>\n",
              "</div><br><label><b>dtype:</b> object</label>"
            ]
          },
          "metadata": {},
          "execution_count": 115
        }
      ]
    },
    {
      "cell_type": "markdown",
      "source": [
        "Usamos la libreria nltk para apoyarnos de la stopwords en inglés,  que crea un conjunto llamado stop_words con estas palabras, luego, definimos una función remove_stopwords que toma un texto como entrada, lo divide en palabras y reconstruye el texto omitiendo aquellas palabras que se encuentran en el conjunto stop_words. Finalmente, esta función aplica a cada entrada de la columna 'Review' del DataFrame df, actualizando la columna con el texto preprocesado, procedemos a verificar."
      ],
      "metadata": {
        "id": "tO29OHlb_ExL"
      }
    },
    {
      "cell_type": "markdown",
      "source": [
        "Ahora bien, procedemos a eliminar los signos de puntuación y símbolos que se encuentren en las reviews."
      ],
      "metadata": {
        "id": "O2wcMEoMHrnu"
      }
    },
    {
      "cell_type": "code",
      "source": [
        "import re\n",
        "\n",
        "def remove_symbols_and_punctuation(text):\n",
        "  return re.sub(r'[^a-zA-Z0-9\\s]', '', text)\n",
        "\n",
        "df['Review'] = df['Review'].apply(lambda x: remove_symbols_and_punctuation(x))"
      ],
      "metadata": {
        "id": "6h4UlnKTIXCF"
      },
      "execution_count": 14,
      "outputs": []
    },
    {
      "cell_type": "code",
      "source": [
        "df['Review'].head()"
      ],
      "metadata": {
        "colab": {
          "base_uri": "https://localhost:8080/",
          "height": 241
        },
        "id": "Z5u6Mya7InMs",
        "outputId": "430fa872-df1b-41ef-d4ec-1bbba5fcec10"
      },
      "execution_count": null,
      "outputs": [
        {
          "output_type": "execute_result",
          "data": {
            "text/plain": [
              "0    manakamana answer questions yet makes point ne...\n",
              "1    wilfully offensive powered chestthumping machi...\n",
              "2    would difficult imagine material wrong spade l...\n",
              "3    despite gusto star brings role hard ride shotg...\n",
              "4    good idea core film buried unsightly pile flat...\n",
              "Name: Review, dtype: object"
            ],
            "text/html": [
              "<div>\n",
              "<style scoped>\n",
              "    .dataframe tbody tr th:only-of-type {\n",
              "        vertical-align: middle;\n",
              "    }\n",
              "\n",
              "    .dataframe tbody tr th {\n",
              "        vertical-align: top;\n",
              "    }\n",
              "\n",
              "    .dataframe thead th {\n",
              "        text-align: right;\n",
              "    }\n",
              "</style>\n",
              "<table border=\"1\" class=\"dataframe\">\n",
              "  <thead>\n",
              "    <tr style=\"text-align: right;\">\n",
              "      <th></th>\n",
              "      <th>Review</th>\n",
              "    </tr>\n",
              "  </thead>\n",
              "  <tbody>\n",
              "    <tr>\n",
              "      <th>0</th>\n",
              "      <td>manakamana answer questions yet makes point ne...</td>\n",
              "    </tr>\n",
              "    <tr>\n",
              "      <th>1</th>\n",
              "      <td>wilfully offensive powered chestthumping machi...</td>\n",
              "    </tr>\n",
              "    <tr>\n",
              "      <th>2</th>\n",
              "      <td>would difficult imagine material wrong spade l...</td>\n",
              "    </tr>\n",
              "    <tr>\n",
              "      <th>3</th>\n",
              "      <td>despite gusto star brings role hard ride shotg...</td>\n",
              "    </tr>\n",
              "    <tr>\n",
              "      <th>4</th>\n",
              "      <td>good idea core film buried unsightly pile flat...</td>\n",
              "    </tr>\n",
              "  </tbody>\n",
              "</table>\n",
              "</div><br><label><b>dtype:</b> object</label>"
            ]
          },
          "metadata": {},
          "execution_count": 117
        }
      ]
    },
    {
      "cell_type": "markdown",
      "source": [
        "Como se puede observar previamente, definimos una función para remover signos de puntuación y simbolos en la columna de reviews, y verificamos que ha sido satisfactorio."
      ],
      "metadata": {
        "id": "1irlXpxjI4NE"
      }
    },
    {
      "cell_type": "markdown",
      "source": [
        "Ahora, buscaremos que las palabras logren estar en infinitivo sin ningún tipo de conjugación, nos apoyaremos en la libreria de nltk usando WordNetLemmatizer."
      ],
      "metadata": {
        "id": "KbNg5U5xLp8j"
      }
    },
    {
      "cell_type": "code",
      "source": [
        "nltk.download('wordnet')\n",
        "nltk.download('omw-1.4')\n",
        "nltk.download('averaged_perceptron_tagger_eng')\n",
        "import nltk\n",
        "from nltk.stem import WordNetLemmatizer\n",
        "from nltk.corpus import wordnet\n",
        "from nltk.stem import PorterStemmer\n",
        "\n",
        "def get_wordnet_pos(tag):\n",
        "    \"\"\"Mapea el tag de POS de NLTK a los tags de WordNet.\"\"\"\n",
        "    if tag.startswith('J'):\n",
        "        return wordnet.ADJ\n",
        "    elif tag.startswith('V'):\n",
        "        return wordnet.VERB\n",
        "    elif tag.startswith('N'):\n",
        "        return wordnet.NOUN\n",
        "    elif tag.startswith('R'):\n",
        "        return wordnet.ADV\n",
        "    else:\n",
        "        return wordnet.NOUN"
      ],
      "metadata": {
        "id": "JQ_dk4deWNqR",
        "colab": {
          "base_uri": "https://localhost:8080/"
        },
        "outputId": "9d967a9c-1ed0-4711-a83a-8c46e046a2f1"
      },
      "execution_count": 15,
      "outputs": [
        {
          "output_type": "stream",
          "name": "stderr",
          "text": [
            "[nltk_data] Downloading package wordnet to /root/nltk_data...\n",
            "[nltk_data] Downloading package omw-1.4 to /root/nltk_data...\n",
            "[nltk_data] Downloading package averaged_perceptron_tagger_eng to\n",
            "[nltk_data]     /root/nltk_data...\n",
            "[nltk_data]   Unzipping taggers/averaged_perceptron_tagger_eng.zip.\n"
          ]
        }
      ]
    },
    {
      "cell_type": "markdown",
      "source": [
        "Ahora definimos una función para normalizarlas mediante lematización con POS."
      ],
      "metadata": {
        "id": "EODZHthTD6pP"
      }
    },
    {
      "cell_type": "code",
      "source": [
        "def normalize_words_lemmatization_with_pos(text, lemmatizer):\n",
        "    result = []\n",
        "    words_with_pos = nltk.pos_tag(text.split())\n",
        "    for word, tag in words_with_pos:\n",
        "        pos = get_wordnet_pos(tag)\n",
        "        result.append(lemmatizer.lemmatize(word, pos=pos))\n",
        "    return ' '.join(result)\n",
        "\n",
        "wordnet_lemmatizer = WordNetLemmatizer()\n",
        "\n",
        "df['Review'] = df['Review'].apply(lambda x: normalize_words_lemmatization_with_pos(x, wordnet_lemmatizer))"
      ],
      "metadata": {
        "id": "_dbnBfL_D5-X"
      },
      "execution_count": 16,
      "outputs": []
    },
    {
      "cell_type": "code",
      "source": [
        "df['Review'].head()"
      ],
      "metadata": {
        "colab": {
          "base_uri": "https://localhost:8080/",
          "height": 241
        },
        "id": "YmAMgymwUs6P",
        "outputId": "b73b510a-763a-4de5-97c1-bde4cb38054e"
      },
      "execution_count": null,
      "outputs": [
        {
          "output_type": "execute_result",
          "data": {
            "text/plain": [
              "0    manakamana answer question yet make point nepa...\n",
              "1    wilfully offensive power chestthumping machism...\n",
              "2    would difficult imagine material wrong spade l...\n",
              "3    despite gusto star brings role hard ride shotg...\n",
              "4    good idea core film bury unsightly pile flatul...\n",
              "Name: Review, dtype: object"
            ],
            "text/html": [
              "<div>\n",
              "<style scoped>\n",
              "    .dataframe tbody tr th:only-of-type {\n",
              "        vertical-align: middle;\n",
              "    }\n",
              "\n",
              "    .dataframe tbody tr th {\n",
              "        vertical-align: top;\n",
              "    }\n",
              "\n",
              "    .dataframe thead th {\n",
              "        text-align: right;\n",
              "    }\n",
              "</style>\n",
              "<table border=\"1\" class=\"dataframe\">\n",
              "  <thead>\n",
              "    <tr style=\"text-align: right;\">\n",
              "      <th></th>\n",
              "      <th>Review</th>\n",
              "    </tr>\n",
              "  </thead>\n",
              "  <tbody>\n",
              "    <tr>\n",
              "      <th>0</th>\n",
              "      <td>manakamana answer question yet make point nepa...</td>\n",
              "    </tr>\n",
              "    <tr>\n",
              "      <th>1</th>\n",
              "      <td>wilfully offensive power chestthumping machism...</td>\n",
              "    </tr>\n",
              "    <tr>\n",
              "      <th>2</th>\n",
              "      <td>would difficult imagine material wrong spade l...</td>\n",
              "    </tr>\n",
              "    <tr>\n",
              "      <th>3</th>\n",
              "      <td>despite gusto star brings role hard ride shotg...</td>\n",
              "    </tr>\n",
              "    <tr>\n",
              "      <th>4</th>\n",
              "      <td>good idea core film bury unsightly pile flatul...</td>\n",
              "    </tr>\n",
              "  </tbody>\n",
              "</table>\n",
              "</div><br><label><b>dtype:</b> object</label>"
            ]
          },
          "metadata": {},
          "execution_count": 120
        }
      ]
    },
    {
      "cell_type": "markdown",
      "source": [
        "Se aplicó un proceso de lematización utilizando la biblioteca NLTK y el recurso WordNet, cada reseña fue procesada palabra por palabra; primero se determinó la parte del habla (POS) de cada término mediante nltk.pos_tag, luego se mapeó este tag al formato compatible con WordNet utilizando una función auxiliar. Finalmente, el WordNetLemmatizer fue aplicado a cada palabra, pasándole el tag POS correspondiente, para reducirla a su forma base léxicamente correcta, resultando en un texto preprocesado donde las variaciones de palabras se han unificado para facilitar el análisis posterior."
      ],
      "metadata": {
        "id": "haWy4wz4XMsu"
      }
    },
    {
      "cell_type": "markdown",
      "source": [
        "Ahora bien, verificamos nuevamente haciendo la gráfica de barras para las 25 palabras más usadas luego de todo el proceso de preparación de datos."
      ],
      "metadata": {
        "id": "NUtbQgmVYVdV"
      }
    },
    {
      "cell_type": "code",
      "source": [
        "reviews = ' '.join(df['Review'].dropna().astype(str))\n",
        "words = re.findall(r'\\b\\w+\\b', reviews.lower())\n",
        "frequency = collections.Counter(words)\n",
        "top_words = frequency.most_common(25)\n",
        "words, freq = zip(*top_words)"
      ],
      "metadata": {
        "id": "-BKm8QiNYLAV"
      },
      "execution_count": 17,
      "outputs": []
    },
    {
      "cell_type": "code",
      "source": [
        "df_top_words = pd.DataFrame({'Palabra': words, 'Frecuencia': freq})\n",
        "plt.figure(figsize=(12, 8))\n",
        "\n",
        "sns.barplot(x='Frecuencia', y='Palabra', data=df_top_words, orient='h')\n",
        "\n",
        "plt.title('25 palabras más frecuentes en las reseñas')\n",
        "plt.xlabel('Frecuencia')\n",
        "plt.ylabel('Palabra')\n",
        "plt.tight_layout()\n",
        "plt.show()"
      ],
      "metadata": {
        "colab": {
          "base_uri": "https://localhost:8080/",
          "height": 454
        },
        "id": "KYwud7mZYCcs",
        "outputId": "23a5f9b0-d63e-41f4-d19d-79f7e787e19e"
      },
      "execution_count": null,
      "outputs": [
        {
          "output_type": "display_data",
          "data": {
            "text/plain": [
              "<Figure size 1200x800 with 1 Axes>"
            ],
            "image/png": "[encoded data removed]"
          },
          "metadata": {}
        }
      ]
    },
    {
      "cell_type": "markdown",
      "source": [
        "Analizamos tambien la gráfica correspondiente de símbolos y números, que es un histograma"
      ],
      "metadata": {
        "id": "QXexsqs1Qhmp"
      }
    },
    {
      "cell_type": "code",
      "source": [
        "def count_symbols_and_numbers(text):\n",
        "     if pd.isna(text):\n",
        "         return 0\n",
        "     symbols_and_numbers = re.findall(r'[^a-zA-Z\\s]', str(text))\n",
        "     return len(symbols_and_numbers)\n",
        "\n",
        "df['symbols_numbers_count'] = df['Review'].apply(lambda x: count_symbols_and_numbers(x))\n",
        "\n",
        "plt.figure(figsize=(10, 6))\n",
        "\n",
        "sns.histplot(df['symbols_numbers_count'], bins=50, kde=False)\n",
        "\n",
        "plt.title('Distribución de la cantidad de símbolos/números por reseña (Total)')\n",
        "plt.xlabel('Cantidad de símbolos/números')\n",
        "plt.ylabel('Frecuencia')\n",
        "plt.show()"
      ],
      "metadata": {
        "colab": {
          "base_uri": "https://localhost:8080/",
          "height": 565
        },
        "id": "ctjwTODyQod5",
        "outputId": "15a05a55-d76c-4086-8b9e-2a8bcde3f9f8"
      },
      "execution_count": 18,
      "outputs": [
        {
          "output_type": "display_data",
          "data": {
            "text/plain": [
              "<Figure size 1000x600 with 1 Axes>"
            ],
            "image/png": "[encoded data removed]"
          },
          "metadata": {}
        }
      ]
    },
    {
      "cell_type": "markdown",
      "source": [
        " Después del preprocesamiento (conversión a minúsculas, eliminación de stopwords, signos de puntuación, simbolos y lematización), muestra una clara mejora en comparación con las primeras gráfica, revelando términos que son potencialmente más significativos para el análisis de sentimiento, como \"film\", \"movie\", \"like\", \"time\", \"good\", \"story\". Ahora el análisis se centra en palabras que tienen más probabilidades de contribuir a la identificación del sentimiento positivo o negativo en las reviews."
      ],
      "metadata": {
        "id": "mN_PF4t_Yibc"
      }
    },
    {
      "cell_type": "markdown",
      "source": [
        "Procedemos ahora a la parte de vectorización de texto de las reviews."
      ],
      "metadata": {
        "id": "A9x3wMrraDKG"
      }
    },
    {
      "cell_type": "code",
      "source": [
        "from sklearn.feature_extraction.text import TfidfVectorizer\n",
        "\n",
        "tfidf = TfidfVectorizer(analyzer = 'word')\n",
        "tfidfvectorizer = tfidf.fit_transform(df['Review'])\n",
        "tfidf_tokens = tfidf.get_feature_names_out()\n",
        "df_tfidfvect = pd.DataFrame(data = tfidfvectorizer.toarray(),columns = tfidf_tokens)\n",
        "datasetDef = pd.concat([df['Freshness'], df_tfidfvect], axis=1)\n",
        "datasetDef['Freshness'] = datasetDef['Freshness'].map({'fresh': 1, 'rotten': 0})\n"
      ],
      "metadata": {
        "id": "k0zjnfjedlt4"
      },
      "execution_count": null,
      "outputs": []
    },
    {
      "cell_type": "markdown",
      "source": [
        "Se utiliza TfidfVectorizer de la biblioteca sklearn para transformar el texto preprocesado de las reseñas de películas (df['Review']) en una representación numérica. TfidfVectorizer calcula la frecuencia de los términos (TF) y la frecuencia inversa de los documentos (IDF) para asignar un peso a cada palabra en relación con su importancia en una reseña individual y en todo el conjunto de datos. Se aplica esta vectorización al texto de las reseñas, se extrae los nombres de las palabras (tokens) resultantes, crea un DataFrame (df_tfidfvect) con estos valores numéricos y finalmente concatena este DataFrame con la columna original de \"Freshness\" (df['Freshness']) para crear un conjunto de datos final (datasetDef) listo para ser utilizado en los modelos de clasificación que trabajaremos.Tambien aplicamos el Ordinal Encoding a la columna freshness, el método map de las Series de Pandas permite reemplazar cada valor de la Serie por otro valor basándose en un diccionario o una función. Aquí, mapeamos 'fresh' a 1 y 'rotten' a 0."
      ],
      "metadata": {
        "id": "FyJSbKCCejhB"
      }
    },
    {
      "cell_type": "code",
      "source": [
        "datasetDef.head(10)"
      ],
      "metadata": {
        "colab": {
          "base_uri": "https://localhost:8080/",
          "height": 412
        },
        "id": "MDIyZjHEgC-h",
        "outputId": "ee491ff0-e699-4516-9deb-537afc2dfccf"
      },
      "execution_count": null,
      "outputs": [
        {
          "output_type": "execute_result",
          "data": {
            "text/plain": [
              "   Freshness  007   10  100  1000  10000  1001  100year  101  1010  ...  \\\n",
              "0          1  0.0  0.0  0.0   0.0    0.0   0.0      0.0  0.0   0.0  ...   \n",
              "1          1  0.0  0.0  0.0   0.0    0.0   0.0      0.0  0.0   0.0  ...   \n",
              "2          0  0.0  0.0  0.0   0.0    0.0   0.0      0.0  0.0   0.0  ...   \n",
              "3          0  0.0  0.0  0.0   0.0    0.0   0.0      0.0  0.0   0.0  ...   \n",
              "4          0  0.0  0.0  0.0   0.0    0.0   0.0      0.0  0.0   0.0  ...   \n",
              "5          0  0.0  0.0  0.0   0.0    0.0   0.0      0.0  0.0   0.0  ...   \n",
              "6          1  0.0  0.0  0.0   0.0    0.0   0.0      0.0  0.0   0.0  ...   \n",
              "7          0  0.0  0.0  0.0   0.0    0.0   0.0      0.0  0.0   0.0  ...   \n",
              "8          0  0.0  0.0  0.0   0.0    0.0   0.0      0.0  0.0   0.0  ...   \n",
              "9          1  0.0  0.0  0.0   0.0    0.0   0.0      0.0  0.0   0.0  ...   \n",
              "\n",
              "   zucker  zuckerberg  zuckers  zupan  zvyaginstsev  zvyagintsev  zweig  \\\n",
              "0     0.0         0.0      0.0    0.0           0.0          0.0    0.0   \n",
              "1     0.0         0.0      0.0    0.0           0.0          0.0    0.0   \n",
              "2     0.0         0.0      0.0    0.0           0.0          0.0    0.0   \n",
              "3     0.0         0.0      0.0    0.0           0.0          0.0    0.0   \n",
              "4     0.0         0.0      0.0    0.0           0.0          0.0    0.0   \n",
              "5     0.0         0.0      0.0    0.0           0.0          0.0    0.0   \n",
              "6     0.0         0.0      0.0    0.0           0.0          0.0    0.0   \n",
              "7     0.0         0.0      0.0    0.0           0.0          0.0    0.0   \n",
              "8     0.0         0.0      0.0    0.0           0.0          0.0    0.0   \n",
              "9     0.0         0.0      0.0    0.0           0.0          0.0    0.0   \n",
              "\n",
              "   zwick  zwicks  zwickwe  \n",
              "0    0.0     0.0      0.0  \n",
              "1    0.0     0.0      0.0  \n",
              "2    0.0     0.0      0.0  \n",
              "3    0.0     0.0      0.0  \n",
              "4    0.0     0.0      0.0  \n",
              "5    0.0     0.0      0.0  \n",
              "6    0.0     0.0      0.0  \n",
              "7    0.0     0.0      0.0  \n",
              "8    0.0     0.0      0.0  \n",
              "9    0.0     0.0      0.0  \n",
              "\n",
              "[10 rows x 24273 columns]"
            ],
            "text/html": [
              "\n",
              "  <div id=\"df-4f6ca1d9-dbe1-4755-b02a-6ddb4f6c170b\" class=\"colab-df-container\">\n",
              "    <div>\n",
              "<style scoped>\n",
              "    .dataframe tbody tr th:only-of-type {\n",
              "        vertical-align: middle;\n",
              "    }\n",
              "\n",
              "    .dataframe tbody tr th {\n",
              "        vertical-align: top;\n",
              "    }\n",
              "\n",
              "    .dataframe thead th {\n",
              "        text-align: right;\n",
              "    }\n",
              "</style>\n",
              "<table border=\"1\" class=\"dataframe\">\n",
              "  <thead>\n",
              "    <tr style=\"text-align: right;\">\n",
              "      <th></th>\n",
              "      <th>Freshness</th>\n",
              "      <th>007</th>\n",
              "      <th>10</th>\n",
              "      <th>100</th>\n",
              "      <th>1000</th>\n",
              "      <th>10000</th>\n",
              "      <th>1001</th>\n",
              "      <th>100year</th>\n",
              "      <th>101</th>\n",
              "      <th>1010</th>\n",
              "      <th>...</th>\n",
              "      <th>zucker</th>\n",
              "      <th>zuckerberg</th>\n",
              "      <th>zuckers</th>\n",
              "      <th>zupan</th>\n",
              "      <th>zvyaginstsev</th>\n",
              "      <th>zvyagintsev</th>\n",
              "      <th>zweig</th>\n",
              "      <th>zwick</th>\n",
              "      <th>zwicks</th>\n",
              "      <th>zwickwe</th>\n",
              "    </tr>\n",
              "  </thead>\n",
              "  <tbody>\n",
              "    <tr>\n",
              "      <th>0</th>\n",
              "      <td>1</td>\n",
              "      <td>0.0</td>\n",
              "      <td>0.0</td>\n",
              "      <td>0.0</td>\n",
              "      <td>0.0</td>\n",
              "      <td>0.0</td>\n",
              "      <td>0.0</td>\n",
              "      <td>0.0</td>\n",
              "      <td>0.0</td>\n",
              "      <td>0.0</td>\n",
              "      <td>...</td>\n",
              "      <td>0.0</td>\n",
              "      <td>0.0</td>\n",
              "      <td>0.0</td>\n",
              "      <td>0.0</td>\n",
              "      <td>0.0</td>\n",
              "      <td>0.0</td>\n",
              "      <td>0.0</td>\n",
              "      <td>0.0</td>\n",
              "      <td>0.0</td>\n",
              "      <td>0.0</td>\n",
              "    </tr>\n",
              "    <tr>\n",
              "      <th>1</th>\n",
              "      <td>1</td>\n",
              "      <td>0.0</td>\n",
              "      <td>0.0</td>\n",
              "      <td>0.0</td>\n",
              "      <td>0.0</td>\n",
              "      <td>0.0</td>\n",
              "      <td>0.0</td>\n",
              "      <td>0.0</td>\n",
              "      <td>0.0</td>\n",
              "      <td>0.0</td>\n",
              "      <td>...</td>\n",
              "      <td>0.0</td>\n",
              "      <td>0.0</td>\n",
              "      <td>0.0</td>\n",
              "      <td>0.0</td>\n",
              "      <td>0.0</td>\n",
              "      <td>0.0</td>\n",
              "      <td>0.0</td>\n",
              "      <td>0.0</td>\n",
              "      <td>0.0</td>\n",
              "      <td>0.0</td>\n",
              "    </tr>\n",
              "    <tr>\n",
              "      <th>2</th>\n",
              "      <td>0</td>\n",
              "      <td>0.0</td>\n",
              "      <td>0.0</td>\n",
              "      <td>0.0</td>\n",
              "      <td>0.0</td>\n",
              "      <td>0.0</td>\n",
              "      <td>0.0</td>\n",
              "      <td>0.0</td>\n",
              "      <td>0.0</td>\n",
              "      <td>0.0</td>\n",
              "      <td>...</td>\n",
              "      <td>0.0</td>\n",
              "      <td>0.0</td>\n",
              "      <td>0.0</td>\n",
              "      <td>0.0</td>\n",
              "      <td>0.0</td>\n",
              "      <td>0.0</td>\n",
              "      <td>0.0</td>\n",
              "      <td>0.0</td>\n",
              "      <td>0.0</td>\n",
              "      <td>0.0</td>\n",
              "    </tr>\n",
              "    <tr>\n",
              "      <th>3</th>\n",
              "      <td>0</td>\n",
              "      <td>0.0</td>\n",
              "      <td>0.0</td>\n",
              "      <td>0.0</td>\n",
              "      <td>0.0</td>\n",
              "      <td>0.0</td>\n",
              "      <td>0.0</td>\n",
              "      <td>0.0</td>\n",
              "      <td>0.0</td>\n",
              "      <td>0.0</td>\n",
              "      <td>...</td>\n",
              "      <td>0.0</td>\n",
              "      <td>0.0</td>\n",
              "      <td>0.0</td>\n",
              "      <td>0.0</td>\n",
              "      <td>0.0</td>\n",
              "      <td>0.0</td>\n",
              "      <td>0.0</td>\n",
              "      <td>0.0</td>\n",
              "      <td>0.0</td>\n",
              "      <td>0.0</td>\n",
              "    </tr>\n",
              "    <tr>\n",
              "      <th>4</th>\n",
              "      <td>0</td>\n",
              "      <td>0.0</td>\n",
              "      <td>0.0</td>\n",
              "      <td>0.0</td>\n",
              "      <td>0.0</td>\n",
              "      <td>0.0</td>\n",
              "      <td>0.0</td>\n",
              "      <td>0.0</td>\n",
              "      <td>0.0</td>\n",
              "      <td>0.0</td>\n",
              "      <td>...</td>\n",
              "      <td>0.0</td>\n",
              "      <td>0.0</td>\n",
              "      <td>0.0</td>\n",
              "      <td>0.0</td>\n",
              "      <td>0.0</td>\n",
              "      <td>0.0</td>\n",
              "      <td>0.0</td>\n",
              "      <td>0.0</td>\n",
              "      <td>0.0</td>\n",
              "      <td>0.0</td>\n",
              "    </tr>\n",
              "    <tr>\n",
              "      <th>5</th>\n",
              "      <td>0</td>\n",
              "      <td>0.0</td>\n",
              "      <td>0.0</td>\n",
              "      <td>0.0</td>\n",
              "      <td>0.0</td>\n",
              "      <td>0.0</td>\n",
              "      <td>0.0</td>\n",
              "      <td>0.0</td>\n",
              "      <td>0.0</td>\n",
              "      <td>0.0</td>\n",
              "      <td>...</td>\n",
              "      <td>0.0</td>\n",
              "      <td>0.0</td>\n",
              "      <td>0.0</td>\n",
              "      <td>0.0</td>\n",
              "      <td>0.0</td>\n",
              "      <td>0.0</td>\n",
              "      <td>0.0</td>\n",
              "      <td>0.0</td>\n",
              "      <td>0.0</td>\n",
              "      <td>0.0</td>\n",
              "    </tr>\n",
              "    <tr>\n",
              "      <th>6</th>\n",
              "      <td>1</td>\n",
              "      <td>0.0</td>\n",
              "      <td>0.0</td>\n",
              "      <td>0.0</td>\n",
              "      <td>0.0</td>\n",
              "      <td>0.0</td>\n",
              "      <td>0.0</td>\n",
              "      <td>0.0</td>\n",
              "      <td>0.0</td>\n",
              "      <td>0.0</td>\n",
              "      <td>...</td>\n",
              "      <td>0.0</td>\n",
              "      <td>0.0</td>\n",
              "      <td>0.0</td>\n",
              "      <td>0.0</td>\n",
              "      <td>0.0</td>\n",
              "      <td>0.0</td>\n",
              "      <td>0.0</td>\n",
              "      <td>0.0</td>\n",
              "      <td>0.0</td>\n",
              "      <td>0.0</td>\n",
              "    </tr>\n",
              "    <tr>\n",
              "      <th>7</th>\n",
              "      <td>0</td>\n",
              "      <td>0.0</td>\n",
              "      <td>0.0</td>\n",
              "      <td>0.0</td>\n",
              "      <td>0.0</td>\n",
              "      <td>0.0</td>\n",
              "      <td>0.0</td>\n",
              "      <td>0.0</td>\n",
              "      <td>0.0</td>\n",
              "      <td>0.0</td>\n",
              "      <td>...</td>\n",
              "      <td>0.0</td>\n",
              "      <td>0.0</td>\n",
              "      <td>0.0</td>\n",
              "      <td>0.0</td>\n",
              "      <td>0.0</td>\n",
              "      <td>0.0</td>\n",
              "      <td>0.0</td>\n",
              "      <td>0.0</td>\n",
              "      <td>0.0</td>\n",
              "      <td>0.0</td>\n",
              "    </tr>\n",
              "    <tr>\n",
              "      <th>8</th>\n",
              "      <td>0</td>\n",
              "      <td>0.0</td>\n",
              "      <td>0.0</td>\n",
              "      <td>0.0</td>\n",
              "      <td>0.0</td>\n",
              "      <td>0.0</td>\n",
              "      <td>0.0</td>\n",
              "      <td>0.0</td>\n",
              "      <td>0.0</td>\n",
              "      <td>0.0</td>\n",
              "      <td>...</td>\n",
              "      <td>0.0</td>\n",
              "      <td>0.0</td>\n",
              "      <td>0.0</td>\n",
              "      <td>0.0</td>\n",
              "      <td>0.0</td>\n",
              "      <td>0.0</td>\n",
              "      <td>0.0</td>\n",
              "      <td>0.0</td>\n",
              "      <td>0.0</td>\n",
              "      <td>0.0</td>\n",
              "    </tr>\n",
              "    <tr>\n",
              "      <th>9</th>\n",
              "      <td>1</td>\n",
              "      <td>0.0</td>\n",
              "      <td>0.0</td>\n",
              "      <td>0.0</td>\n",
              "      <td>0.0</td>\n",
              "      <td>0.0</td>\n",
              "      <td>0.0</td>\n",
              "      <td>0.0</td>\n",
              "      <td>0.0</td>\n",
              "      <td>0.0</td>\n",
              "      <td>...</td>\n",
              "      <td>0.0</td>\n",
              "      <td>0.0</td>\n",
              "      <td>0.0</td>\n",
              "      <td>0.0</td>\n",
              "      <td>0.0</td>\n",
              "      <td>0.0</td>\n",
              "      <td>0.0</td>\n",
              "      <td>0.0</td>\n",
              "      <td>0.0</td>\n",
              "      <td>0.0</td>\n",
              "    </tr>\n",
              "  </tbody>\n",
              "</table>\n",
              "<p>10 rows × 24273 columns</p>\n",
              "</div>\n",
              "    <div class=\"colab-df-buttons\">\n",
              "\n",
              "  <div class=\"colab-df-container\">\n",
              "    <button class=\"colab-df-convert\" onclick=\"convertToInteractive('df-4f6ca1d9-dbe1-4755-b02a-6ddb4f6c170b')\"\n",
              "            title=\"Convert this dataframe to an interactive table.\"\n",
              "            style=\"display:none;\">\n",
              "\n",
              "  <svg xmlns=\"http://www.w3.org/2000/svg\" height=\"24px\" viewBox=\"0 -960 960 960\">\n",
              "    <path d=\"M120-120v-720h720v720H120Zm60-500h600v-160H180v160Zm220 220h160v-160H400v160Zm0 220h160v-160H400v160ZM180-400h160v-160H180v160Zm440 0h160v-160H620v160ZM180-180h160v-160H180v160Zm440 0h160v-160H620v160Z\"/>\n",
              "  </svg>\n",
              "    </button>\n",
              "\n",
              "  <style>\n",
              "    .colab-df-container {\n",
              "      display:flex;\n",
              "      gap: 12px;\n",
              "    }\n",
              "\n",
              "    .colab-df-convert {\n",
              "      background-color: #E8F0FE;\n",
              "      border: none;\n",
              "      border-radius: 50%;\n",
              "      cursor: pointer;\n",
              "      display: none;\n",
              "      fill: #1967D2;\n",
              "      height: 32px;\n",
              "      padding: 0 0 0 0;\n",
              "      width: 32px;\n",
              "    }\n",
              "\n",
              "    .colab-df-convert:hover {\n",
              "      background-color: #E2EBFA;\n",
              "      box-shadow: 0px 1px 2px rgba(60, 64, 67, 0.3), 0px 1px 3px 1px rgba(60, 64, 67, 0.15);\n",
              "      fill: #174EA6;\n",
              "    }\n",
              "\n",
              "    .colab-df-buttons div {\n",
              "      margin-bottom: 4px;\n",
              "    }\n",
              "\n",
              "    [theme=dark] .colab-df-convert {\n",
              "      background-color: #3B4455;\n",
              "      fill: #D2E3FC;\n",
              "    }\n",
              "\n",
              "    [theme=dark] .colab-df-convert:hover {\n",
              "      background-color: #434B5C;\n",
              "      box-shadow: 0px 1px 3px 1px rgba(0, 0, 0, 0.15);\n",
              "      filter: drop-shadow(0px 1px 2px rgba(0, 0, 0, 0.3));\n",
              "      fill: #FFFFFF;\n",
              "    }\n",
              "  </style>\n",
              "\n",
              "    <script>\n",
              "      const buttonEl =\n",
              "        document.querySelector('#df-4f6ca1d9-dbe1-4755-b02a-6ddb4f6c170b button.colab-df-convert');\n",
              "      buttonEl.style.display =\n",
              "        google.colab.kernel.accessAllowed ? 'block' : 'none';\n",
              "\n",
              "      async function convertToInteractive(key) {\n",
              "        const element = document.querySelector('#df-4f6ca1d9-dbe1-4755-b02a-6ddb4f6c170b');\n",
              "        const dataTable =\n",
              "          await google.colab.kernel.invokeFunction('convertToInteractive',\n",
              "                                                    [key], {});\n",
              "        if (!dataTable) return;\n",
              "\n",
              "        const docLinkHtml = 'Like what you see? Visit the ' +\n",
              "          '<a target=\"_blank\" href=https://colab.research.google.com/notebooks/data_table.ipynb>data table notebook</a>'\n",
              "          + ' to learn more about interactive tables.';\n",
              "        element.innerHTML = '';\n",
              "        dataTable['output_type'] = 'display_data';\n",
              "        await google.colab.output.renderOutput(dataTable, element);\n",
              "        const docLink = document.createElement('div');\n",
              "        docLink.innerHTML = docLinkHtml;\n",
              "        element.appendChild(docLink);\n",
              "      }\n",
              "    </script>\n",
              "  </div>\n",
              "\n",
              "\n",
              "    <div id=\"df-93245037-5b70-4010-93d5-8dd4ee2f68c5\">\n",
              "      <button class=\"colab-df-quickchart\" onclick=\"quickchart('df-93245037-5b70-4010-93d5-8dd4ee2f68c5')\"\n",
              "                title=\"Suggest charts\"\n",
              "                style=\"display:none;\">\n",
              "\n",
              "<svg xmlns=\"http://www.w3.org/2000/svg\" height=\"24px\"viewBox=\"0 0 24 24\"\n",
              "     width=\"24px\">\n",
              "    <g>\n",
              "        <path d=\"M19 3H5c-1.1 0-2 .9-2 2v14c0 1.1.9 2 2 2h14c1.1 0 2-.9 2-2V5c0-1.1-.9-2-2-2zM9 17H7v-7h2v7zm4 0h-2V7h2v10zm4 0h-2v-4h2v4z\"/>\n",
              "    </g>\n",
              "</svg>\n",
              "      </button>\n",
              "\n",
              "<style>\n",
              "  .colab-df-quickchart {\n",
              "      --bg-color: #E8F0FE;\n",
              "      --fill-color: #1967D2;\n",
              "      --hover-bg-color: #E2EBFA;\n",
              "      --hover-fill-color: #174EA6;\n",
              "      --disabled-fill-color: #AAA;\n",
              "      --disabled-bg-color: #DDD;\n",
              "  }\n",
              "\n",
              "  [theme=dark] .colab-df-quickchart {\n",
              "      --bg-color: #3B4455;\n",
              "      --fill-color: #D2E3FC;\n",
              "      --hover-bg-color: #434B5C;\n",
              "      --hover-fill-color: #FFFFFF;\n",
              "      --disabled-bg-color: #3B4455;\n",
              "      --disabled-fill-color: #666;\n",
              "  }\n",
              "\n",
              "  .colab-df-quickchart {\n",
              "    background-color: var(--bg-color);\n",
              "    border: none;\n",
              "    border-radius: 50%;\n",
              "    cursor: pointer;\n",
              "    display: none;\n",
              "    fill: var(--fill-color);\n",
              "    height: 32px;\n",
              "    padding: 0;\n",
              "    width: 32px;\n",
              "  }\n",
              "\n",
              "  .colab-df-quickchart:hover {\n",
              "    background-color: var(--hover-bg-color);\n",
              "    box-shadow: 0 1px 2px rgba(60, 64, 67, 0.3), 0 1px 3px 1px rgba(60, 64, 67, 0.15);\n",
              "    fill: var(--button-hover-fill-color);\n",
              "  }\n",
              "\n",
              "  .colab-df-quickchart-complete:disabled,\n",
              "  .colab-df-quickchart-complete:disabled:hover {\n",
              "    background-color: var(--disabled-bg-color);\n",
              "    fill: var(--disabled-fill-color);\n",
              "    box-shadow: none;\n",
              "  }\n",
              "\n",
              "  .colab-df-spinner {\n",
              "    border: 2px solid var(--fill-color);\n",
              "    border-color: transparent;\n",
              "    border-bottom-color: var(--fill-color);\n",
              "    animation:\n",
              "      spin 1s steps(1) infinite;\n",
              "  }\n",
              "\n",
              "  @keyframes spin {\n",
              "    0% {\n",
              "      border-color: transparent;\n",
              "      border-bottom-color: var(--fill-color);\n",
              "      border-left-color: var(--fill-color);\n",
              "    }\n",
              "    20% {\n",
              "      border-color: transparent;\n",
              "      border-left-color: var(--fill-color);\n",
              "      border-top-color: var(--fill-color);\n",
              "    }\n",
              "    30% {\n",
              "      border-color: transparent;\n",
              "      border-left-color: var(--fill-color);\n",
              "      border-top-color: var(--fill-color);\n",
              "      border-right-color: var(--fill-color);\n",
              "    }\n",
              "    40% {\n",
              "      border-color: transparent;\n",
              "      border-right-color: var(--fill-color);\n",
              "      border-top-color: var(--fill-color);\n",
              "    }\n",
              "    60% {\n",
              "      border-color: transparent;\n",
              "      border-right-color: var(--fill-color);\n",
              "    }\n",
              "    80% {\n",
              "      border-color: transparent;\n",
              "      border-right-color: var(--fill-color);\n",
              "      border-bottom-color: var(--fill-color);\n",
              "    }\n",
              "    90% {\n",
              "      border-color: transparent;\n",
              "      border-bottom-color: var(--fill-color);\n",
              "    }\n",
              "  }\n",
              "</style>\n",
              "\n",
              "      <script>\n",
              "        async function quickchart(key) {\n",
              "          const quickchartButtonEl =\n",
              "            document.querySelector('#' + key + ' button');\n",
              "          quickchartButtonEl.disabled = true;  // To prevent multiple clicks.\n",
              "          quickchartButtonEl.classList.add('colab-df-spinner');\n",
              "          try {\n",
              "            const charts = await google.colab.kernel.invokeFunction(\n",
              "                'suggestCharts', [key], {});\n",
              "          } catch (error) {\n",
              "            console.error('Error during call to suggestCharts:', error);\n",
              "          }\n",
              "          quickchartButtonEl.classList.remove('colab-df-spinner');\n",
              "          quickchartButtonEl.classList.add('colab-df-quickchart-complete');\n",
              "        }\n",
              "        (() => {\n",
              "          let quickchartButtonEl =\n",
              "            document.querySelector('#df-93245037-5b70-4010-93d5-8dd4ee2f68c5 button');\n",
              "          quickchartButtonEl.style.display =\n",
              "            google.colab.kernel.accessAllowed ? 'block' : 'none';\n",
              "        })();\n",
              "      </script>\n",
              "    </div>\n",
              "\n",
              "    </div>\n",
              "  </div>\n"
            ],
            "application/vnd.google.colaboratory.intrinsic+json": {
              "type": "dataframe",
              "variable_name": "datasetDef"
            }
          },
          "metadata": {},
          "execution_count": 126
        }
      ]
    },
    {
      "cell_type": "markdown",
      "source": [
        "Una vez culminado esta parte del preprocesamiento del texto, seguimos con la selección de características mediante RFC."
      ],
      "metadata": {
        "id": "ROklzM95gVl5"
      }
    },
    {
      "cell_type": "markdown",
      "source": [
        "### Seleccion de características"
      ],
      "metadata": {
        "id": "_P2L8gc-tbR6"
      }
    },
    {
      "cell_type": "markdown",
      "source": [
        "Ahora bien, procederemos a realizar la seleccion de características para freshness, que es nuestro target a trabajar."
      ],
      "metadata": {
        "id": "EH1eyEmNwTpN"
      }
    },
    {
      "cell_type": "code",
      "source": [
        "from sklearn.ensemble import RandomForestClassifier\n",
        "from sklearn.feature_selection import SelectFromModel\n",
        "\n",
        "y_data = datasetDef['Freshness']\n",
        "x_data = datasetDef.drop(['Freshness'], axis=1)\n",
        "sel = SelectFromModel(RandomForestClassifier(n_estimators = 100, random_state=42))\n",
        "sel.fit(x_data, y_data)\n",
        "\n",
        "selected_features_mask = sel.get_support()\n",
        "\n",
        "selected_features = x_data.columns[selected_features_mask]\n",
        "\n",
        "x_data_selected = x_data[selected_features]"
      ],
      "metadata": {
        "id": "6QXbzZWaxb6A"
      },
      "execution_count": null,
      "outputs": []
    },
    {
      "cell_type": "code",
      "source": [
        "print(f\"Original number of features: {x_data.shape[1]}\")\n",
        "print(f\"Number of selected features: {x_data_selected.shape[1]}\")\n",
        "print(\"Selected features:\")\n",
        "print(selected_features)"
      ],
      "metadata": {
        "colab": {
          "base_uri": "https://localhost:8080/"
        },
        "id": "big-F3hMzgAn",
        "outputId": "3ee05665-b15a-46ee-ec4e-d1dda5573911"
      },
      "execution_count": null,
      "outputs": [
        {
          "output_type": "stream",
          "name": "stdout",
          "text": [
            "Original number of features: 24272\n",
            "Number of selected features: 3416\n",
            "Selected features:\n",
            "Index(['10', '100', '12', '13', '15', '1960s', '1970s', '20', '2010', '2016',\n",
            "       ...\n",
            "       'york', 'you', 'young', 'youngster', 'youth', 'yule', 'zemeckis',\n",
            "       'zhivago', 'zombie', 'zone'],\n",
            "      dtype='object', length=3416)\n"
          ]
        }
      ]
    },
    {
      "cell_type": "markdown",
      "source": [
        "De las 24272 características del dataset, el modelo de selección ha recomendado que se usen 3416, esto lo vemos reflejado previamente en el lenght. Ahora, procedemos a quitar las caracteristicas que no fueron seleccionadas."
      ],
      "metadata": {
        "id": "FGl_FbP00x4A"
      }
    },
    {
      "cell_type": "code",
      "source": [
        "columns_to_drop = list(set(x_data.columns) - set(selected_features))\n",
        "x_data.drop(columns = columns_to_drop, inplace = True)\n",
        "x_data.reset_index(drop=True, inplace=True)"
      ],
      "metadata": {
        "id": "9VwfNi751rn2"
      },
      "execution_count": null,
      "outputs": []
    },
    {
      "cell_type": "markdown",
      "source": [
        "Verificamos los resultados correspondientes."
      ],
      "metadata": {
        "id": "u-NIf7Ml2Znw"
      }
    },
    {
      "cell_type": "code",
      "source": [
        "x_data.head(10)"
      ],
      "metadata": {
        "colab": {
          "base_uri": "https://localhost:8080/",
          "height": 412
        },
        "id": "MOh5CWvq2fz2",
        "outputId": "5ee3345a-2a83-4ce5-d475-b6f597e22cdf"
      },
      "execution_count": null,
      "outputs": [
        {
          "output_type": "execute_result",
          "data": {
            "text/plain": [
              "    10  100   12   13   15  1960s  1970s   20  2010  2016  ...  york  you  \\\n",
              "0  0.0  0.0  0.0  0.0  0.0    0.0    0.0  0.0   0.0   0.0  ...   0.0  0.0   \n",
              "1  0.0  0.0  0.0  0.0  0.0    0.0    0.0  0.0   0.0   0.0  ...   0.0  0.0   \n",
              "2  0.0  0.0  0.0  0.0  0.0    0.0    0.0  0.0   0.0   0.0  ...   0.0  0.0   \n",
              "3  0.0  0.0  0.0  0.0  0.0    0.0    0.0  0.0   0.0   0.0  ...   0.0  0.0   \n",
              "4  0.0  0.0  0.0  0.0  0.0    0.0    0.0  0.0   0.0   0.0  ...   0.0  0.0   \n",
              "5  0.0  0.0  0.0  0.0  0.0    0.0    0.0  0.0   0.0   0.0  ...   0.0  0.0   \n",
              "6  0.0  0.0  0.0  0.0  0.0    0.0    0.0  0.0   0.0   0.0  ...   0.0  0.0   \n",
              "7  0.0  0.0  0.0  0.0  0.0    0.0    0.0  0.0   0.0   0.0  ...   0.0  0.0   \n",
              "8  0.0  0.0  0.0  0.0  0.0    0.0    0.0  0.0   0.0   0.0  ...   0.0  0.0   \n",
              "9  0.0  0.0  0.0  0.0  0.0    0.0    0.0  0.0   0.0   0.0  ...   0.0  0.0   \n",
              "\n",
              "   young  youngster  youth  yule  zemeckis  zhivago  zombie  zone  \n",
              "0    0.0        0.0    0.0   0.0       0.0      0.0     0.0   0.0  \n",
              "1    0.0        0.0    0.0   0.0       0.0      0.0     0.0   0.0  \n",
              "2    0.0        0.0    0.0   0.0       0.0      0.0     0.0   0.0  \n",
              "3    0.0        0.0    0.0   0.0       0.0      0.0     0.0   0.0  \n",
              "4    0.0        0.0    0.0   0.0       0.0      0.0     0.0   0.0  \n",
              "5    0.0        0.0    0.0   0.0       0.0      0.0     0.0   0.0  \n",
              "6    0.0        0.0    0.0   0.0       0.0      0.0     0.0   0.0  \n",
              "7    0.0        0.0    0.0   0.0       0.0      0.0     0.0   0.0  \n",
              "8    0.0        0.0    0.0   0.0       0.0      0.0     0.0   0.0  \n",
              "9    0.0        0.0    0.0   0.0       0.0      0.0     0.0   0.0  \n",
              "\n",
              "[10 rows x 3416 columns]"
            ],
            "text/html": [
              "\n",
              "  <div id=\"df-e333b174-114f-4da8-821d-b6420e03689e\" class=\"colab-df-container\">\n",
              "    <div>\n",
              "<style scoped>\n",
              "    .dataframe tbody tr th:only-of-type {\n",
              "        vertical-align: middle;\n",
              "    }\n",
              "\n",
              "    .dataframe tbody tr th {\n",
              "        vertical-align: top;\n",
              "    }\n",
              "\n",
              "    .dataframe thead th {\n",
              "        text-align: right;\n",
              "    }\n",
              "</style>\n",
              "<table border=\"1\" class=\"dataframe\">\n",
              "  <thead>\n",
              "    <tr style=\"text-align: right;\">\n",
              "      <th></th>\n",
              "      <th>10</th>\n",
              "      <th>100</th>\n",
              "      <th>12</th>\n",
              "      <th>13</th>\n",
              "      <th>15</th>\n",
              "      <th>1960s</th>\n",
              "      <th>1970s</th>\n",
              "      <th>20</th>\n",
              "      <th>2010</th>\n",
              "      <th>2016</th>\n",
              "      <th>...</th>\n",
              "      <th>york</th>\n",
              "      <th>you</th>\n",
              "      <th>young</th>\n",
              "      <th>youngster</th>\n",
              "      <th>youth</th>\n",
              "      <th>yule</th>\n",
              "      <th>zemeckis</th>\n",
              "      <th>zhivago</th>\n",
              "      <th>zombie</th>\n",
              "      <th>zone</th>\n",
              "    </tr>\n",
              "  </thead>\n",
              "  <tbody>\n",
              "    <tr>\n",
              "      <th>0</th>\n",
              "      <td>0.0</td>\n",
              "      <td>0.0</td>\n",
              "      <td>0.0</td>\n",
              "      <td>0.0</td>\n",
              "      <td>0.0</td>\n",
              "      <td>0.0</td>\n",
              "      <td>0.0</td>\n",
              "      <td>0.0</td>\n",
              "      <td>0.0</td>\n",
              "      <td>0.0</td>\n",
              "      <td>...</td>\n",
              "      <td>0.0</td>\n",
              "      <td>0.0</td>\n",
              "      <td>0.0</td>\n",
              "      <td>0.0</td>\n",
              "      <td>0.0</td>\n",
              "      <td>0.0</td>\n",
              "      <td>0.0</td>\n",
              "      <td>0.0</td>\n",
              "      <td>0.0</td>\n",
              "      <td>0.0</td>\n",
              "    </tr>\n",
              "    <tr>\n",
              "      <th>1</th>\n",
              "      <td>0.0</td>\n",
              "      <td>0.0</td>\n",
              "      <td>0.0</td>\n",
              "      <td>0.0</td>\n",
              "      <td>0.0</td>\n",
              "      <td>0.0</td>\n",
              "      <td>0.0</td>\n",
              "      <td>0.0</td>\n",
              "      <td>0.0</td>\n",
              "      <td>0.0</td>\n",
              "      <td>...</td>\n",
              "      <td>0.0</td>\n",
              "      <td>0.0</td>\n",
              "      <td>0.0</td>\n",
              "      <td>0.0</td>\n",
              "      <td>0.0</td>\n",
              "      <td>0.0</td>\n",
              "      <td>0.0</td>\n",
              "      <td>0.0</td>\n",
              "      <td>0.0</td>\n",
              "      <td>0.0</td>\n",
              "    </tr>\n",
              "    <tr>\n",
              "      <th>2</th>\n",
              "      <td>0.0</td>\n",
              "      <td>0.0</td>\n",
              "      <td>0.0</td>\n",
              "      <td>0.0</td>\n",
              "      <td>0.0</td>\n",
              "      <td>0.0</td>\n",
              "      <td>0.0</td>\n",
              "      <td>0.0</td>\n",
              "      <td>0.0</td>\n",
              "      <td>0.0</td>\n",
              "      <td>...</td>\n",
              "      <td>0.0</td>\n",
              "      <td>0.0</td>\n",
              "      <td>0.0</td>\n",
              "      <td>0.0</td>\n",
              "      <td>0.0</td>\n",
              "      <td>0.0</td>\n",
              "      <td>0.0</td>\n",
              "      <td>0.0</td>\n",
              "      <td>0.0</td>\n",
              "      <td>0.0</td>\n",
              "    </tr>\n",
              "    <tr>\n",
              "      <th>3</th>\n",
              "      <td>0.0</td>\n",
              "      <td>0.0</td>\n",
              "      <td>0.0</td>\n",
              "      <td>0.0</td>\n",
              "      <td>0.0</td>\n",
              "      <td>0.0</td>\n",
              "      <td>0.0</td>\n",
              "      <td>0.0</td>\n",
              "      <td>0.0</td>\n",
              "      <td>0.0</td>\n",
              "      <td>...</td>\n",
              "      <td>0.0</td>\n",
              "      <td>0.0</td>\n",
              "      <td>0.0</td>\n",
              "      <td>0.0</td>\n",
              "      <td>0.0</td>\n",
              "      <td>0.0</td>\n",
              "      <td>0.0</td>\n",
              "      <td>0.0</td>\n",
              "      <td>0.0</td>\n",
              "      <td>0.0</td>\n",
              "    </tr>\n",
              "    <tr>\n",
              "      <th>4</th>\n",
              "      <td>0.0</td>\n",
              "      <td>0.0</td>\n",
              "      <td>0.0</td>\n",
              "      <td>0.0</td>\n",
              "      <td>0.0</td>\n",
              "      <td>0.0</td>\n",
              "      <td>0.0</td>\n",
              "      <td>0.0</td>\n",
              "      <td>0.0</td>\n",
              "      <td>0.0</td>\n",
              "      <td>...</td>\n",
              "      <td>0.0</td>\n",
              "      <td>0.0</td>\n",
              "      <td>0.0</td>\n",
              "      <td>0.0</td>\n",
              "      <td>0.0</td>\n",
              "      <td>0.0</td>\n",
              "      <td>0.0</td>\n",
              "      <td>0.0</td>\n",
              "      <td>0.0</td>\n",
              "      <td>0.0</td>\n",
              "    </tr>\n",
              "    <tr>\n",
              "      <th>5</th>\n",
              "      <td>0.0</td>\n",
              "      <td>0.0</td>\n",
              "      <td>0.0</td>\n",
              "      <td>0.0</td>\n",
              "      <td>0.0</td>\n",
              "      <td>0.0</td>\n",
              "      <td>0.0</td>\n",
              "      <td>0.0</td>\n",
              "      <td>0.0</td>\n",
              "      <td>0.0</td>\n",
              "      <td>...</td>\n",
              "      <td>0.0</td>\n",
              "      <td>0.0</td>\n",
              "      <td>0.0</td>\n",
              "      <td>0.0</td>\n",
              "      <td>0.0</td>\n",
              "      <td>0.0</td>\n",
              "      <td>0.0</td>\n",
              "      <td>0.0</td>\n",
              "      <td>0.0</td>\n",
              "      <td>0.0</td>\n",
              "    </tr>\n",
              "    <tr>\n",
              "      <th>6</th>\n",
              "      <td>0.0</td>\n",
              "      <td>0.0</td>\n",
              "      <td>0.0</td>\n",
              "      <td>0.0</td>\n",
              "      <td>0.0</td>\n",
              "      <td>0.0</td>\n",
              "      <td>0.0</td>\n",
              "      <td>0.0</td>\n",
              "      <td>0.0</td>\n",
              "      <td>0.0</td>\n",
              "      <td>...</td>\n",
              "      <td>0.0</td>\n",
              "      <td>0.0</td>\n",
              "      <td>0.0</td>\n",
              "      <td>0.0</td>\n",
              "      <td>0.0</td>\n",
              "      <td>0.0</td>\n",
              "      <td>0.0</td>\n",
              "      <td>0.0</td>\n",
              "      <td>0.0</td>\n",
              "      <td>0.0</td>\n",
              "    </tr>\n",
              "    <tr>\n",
              "      <th>7</th>\n",
              "      <td>0.0</td>\n",
              "      <td>0.0</td>\n",
              "      <td>0.0</td>\n",
              "      <td>0.0</td>\n",
              "      <td>0.0</td>\n",
              "      <td>0.0</td>\n",
              "      <td>0.0</td>\n",
              "      <td>0.0</td>\n",
              "      <td>0.0</td>\n",
              "      <td>0.0</td>\n",
              "      <td>...</td>\n",
              "      <td>0.0</td>\n",
              "      <td>0.0</td>\n",
              "      <td>0.0</td>\n",
              "      <td>0.0</td>\n",
              "      <td>0.0</td>\n",
              "      <td>0.0</td>\n",
              "      <td>0.0</td>\n",
              "      <td>0.0</td>\n",
              "      <td>0.0</td>\n",
              "      <td>0.0</td>\n",
              "    </tr>\n",
              "    <tr>\n",
              "      <th>8</th>\n",
              "      <td>0.0</td>\n",
              "      <td>0.0</td>\n",
              "      <td>0.0</td>\n",
              "      <td>0.0</td>\n",
              "      <td>0.0</td>\n",
              "      <td>0.0</td>\n",
              "      <td>0.0</td>\n",
              "      <td>0.0</td>\n",
              "      <td>0.0</td>\n",
              "      <td>0.0</td>\n",
              "      <td>...</td>\n",
              "      <td>0.0</td>\n",
              "      <td>0.0</td>\n",
              "      <td>0.0</td>\n",
              "      <td>0.0</td>\n",
              "      <td>0.0</td>\n",
              "      <td>0.0</td>\n",
              "      <td>0.0</td>\n",
              "      <td>0.0</td>\n",
              "      <td>0.0</td>\n",
              "      <td>0.0</td>\n",
              "    </tr>\n",
              "    <tr>\n",
              "      <th>9</th>\n",
              "      <td>0.0</td>\n",
              "      <td>0.0</td>\n",
              "      <td>0.0</td>\n",
              "      <td>0.0</td>\n",
              "      <td>0.0</td>\n",
              "      <td>0.0</td>\n",
              "      <td>0.0</td>\n",
              "      <td>0.0</td>\n",
              "      <td>0.0</td>\n",
              "      <td>0.0</td>\n",
              "      <td>...</td>\n",
              "      <td>0.0</td>\n",
              "      <td>0.0</td>\n",
              "      <td>0.0</td>\n",
              "      <td>0.0</td>\n",
              "      <td>0.0</td>\n",
              "      <td>0.0</td>\n",
              "      <td>0.0</td>\n",
              "      <td>0.0</td>\n",
              "      <td>0.0</td>\n",
              "      <td>0.0</td>\n",
              "    </tr>\n",
              "  </tbody>\n",
              "</table>\n",
              "<p>10 rows × 3416 columns</p>\n",
              "</div>\n",
              "    <div class=\"colab-df-buttons\">\n",
              "\n",
              "  <div class=\"colab-df-container\">\n",
              "    <button class=\"colab-df-convert\" onclick=\"convertToInteractive('df-e333b174-114f-4da8-821d-b6420e03689e')\"\n",
              "            title=\"Convert this dataframe to an interactive table.\"\n",
              "            style=\"display:none;\">\n",
              "\n",
              "  <svg xmlns=\"http://www.w3.org/2000/svg\" height=\"24px\" viewBox=\"0 -960 960 960\">\n",
              "    <path d=\"M120-120v-720h720v720H120Zm60-500h600v-160H180v160Zm220 220h160v-160H400v160Zm0 220h160v-160H400v160ZM180-400h160v-160H180v160Zm440 0h160v-160H620v160ZM180-180h160v-160H180v160Zm440 0h160v-160H620v160Z\"/>\n",
              "  </svg>\n",
              "    </button>\n",
              "\n",
              "  <style>\n",
              "    .colab-df-container {\n",
              "      display:flex;\n",
              "      gap: 12px;\n",
              "    }\n",
              "\n",
              "    .colab-df-convert {\n",
              "      background-color: #E8F0FE;\n",
              "      border: none;\n",
              "      border-radius: 50%;\n",
              "      cursor: pointer;\n",
              "      display: none;\n",
              "      fill: #1967D2;\n",
              "      height: 32px;\n",
              "      padding: 0 0 0 0;\n",
              "      width: 32px;\n",
              "    }\n",
              "\n",
              "    .colab-df-convert:hover {\n",
              "      background-color: #E2EBFA;\n",
              "      box-shadow: 0px 1px 2px rgba(60, 64, 67, 0.3), 0px 1px 3px 1px rgba(60, 64, 67, 0.15);\n",
              "      fill: #174EA6;\n",
              "    }\n",
              "\n",
              "    .colab-df-buttons div {\n",
              "      margin-bottom: 4px;\n",
              "    }\n",
              "\n",
              "    [theme=dark] .colab-df-convert {\n",
              "      background-color: #3B4455;\n",
              "      fill: #D2E3FC;\n",
              "    }\n",
              "\n",
              "    [theme=dark] .colab-df-convert:hover {\n",
              "      background-color: #434B5C;\n",
              "      box-shadow: 0px 1px 3px 1px rgba(0, 0, 0, 0.15);\n",
              "      filter: drop-shadow(0px 1px 2px rgba(0, 0, 0, 0.3));\n",
              "      fill: #FFFFFF;\n",
              "    }\n",
              "  </style>\n",
              "\n",
              "    <script>\n",
              "      const buttonEl =\n",
              "        document.querySelector('#df-e333b174-114f-4da8-821d-b6420e03689e button.colab-df-convert');\n",
              "      buttonEl.style.display =\n",
              "        google.colab.kernel.accessAllowed ? 'block' : 'none';\n",
              "\n",
              "      async function convertToInteractive(key) {\n",
              "        const element = document.querySelector('#df-e333b174-114f-4da8-821d-b6420e03689e');\n",
              "        const dataTable =\n",
              "          await google.colab.kernel.invokeFunction('convertToInteractive',\n",
              "                                                    [key], {});\n",
              "        if (!dataTable) return;\n",
              "\n",
              "        const docLinkHtml = 'Like what you see? Visit the ' +\n",
              "          '<a target=\"_blank\" href=https://colab.research.google.com/notebooks/data_table.ipynb>data table notebook</a>'\n",
              "          + ' to learn more about interactive tables.';\n",
              "        element.innerHTML = '';\n",
              "        dataTable['output_type'] = 'display_data';\n",
              "        await google.colab.output.renderOutput(dataTable, element);\n",
              "        const docLink = document.createElement('div');\n",
              "        docLink.innerHTML = docLinkHtml;\n",
              "        element.appendChild(docLink);\n",
              "      }\n",
              "    </script>\n",
              "  </div>\n",
              "\n",
              "\n",
              "    <div id=\"df-b3f89821-7218-4482-a073-c2368be181e9\">\n",
              "      <button class=\"colab-df-quickchart\" onclick=\"quickchart('df-b3f89821-7218-4482-a073-c2368be181e9')\"\n",
              "                title=\"Suggest charts\"\n",
              "                style=\"display:none;\">\n",
              "\n",
              "<svg xmlns=\"http://www.w3.org/2000/svg\" height=\"24px\"viewBox=\"0 0 24 24\"\n",
              "     width=\"24px\">\n",
              "    <g>\n",
              "        <path d=\"M19 3H5c-1.1 0-2 .9-2 2v14c0 1.1.9 2 2 2h14c1.1 0 2-.9 2-2V5c0-1.1-.9-2-2-2zM9 17H7v-7h2v7zm4 0h-2V7h2v10zm4 0h-2v-4h2v4z\"/>\n",
              "    </g>\n",
              "</svg>\n",
              "      </button>\n",
              "\n",
              "<style>\n",
              "  .colab-df-quickchart {\n",
              "      --bg-color: #E8F0FE;\n",
              "      --fill-color: #1967D2;\n",
              "      --hover-bg-color: #E2EBFA;\n",
              "      --hover-fill-color: #174EA6;\n",
              "      --disabled-fill-color: #AAA;\n",
              "      --disabled-bg-color: #DDD;\n",
              "  }\n",
              "\n",
              "  [theme=dark] .colab-df-quickchart {\n",
              "      --bg-color: #3B4455;\n",
              "      --fill-color: #D2E3FC;\n",
              "      --hover-bg-color: #434B5C;\n",
              "      --hover-fill-color: #FFFFFF;\n",
              "      --disabled-bg-color: #3B4455;\n",
              "      --disabled-fill-color: #666;\n",
              "  }\n",
              "\n",
              "  .colab-df-quickchart {\n",
              "    background-color: var(--bg-color);\n",
              "    border: none;\n",
              "    border-radius: 50%;\n",
              "    cursor: pointer;\n",
              "    display: none;\n",
              "    fill: var(--fill-color);\n",
              "    height: 32px;\n",
              "    padding: 0;\n",
              "    width: 32px;\n",
              "  }\n",
              "\n",
              "  .colab-df-quickchart:hover {\n",
              "    background-color: var(--hover-bg-color);\n",
              "    box-shadow: 0 1px 2px rgba(60, 64, 67, 0.3), 0 1px 3px 1px rgba(60, 64, 67, 0.15);\n",
              "    fill: var(--button-hover-fill-color);\n",
              "  }\n",
              "\n",
              "  .colab-df-quickchart-complete:disabled,\n",
              "  .colab-df-quickchart-complete:disabled:hover {\n",
              "    background-color: var(--disabled-bg-color);\n",
              "    fill: var(--disabled-fill-color);\n",
              "    box-shadow: none;\n",
              "  }\n",
              "\n",
              "  .colab-df-spinner {\n",
              "    border: 2px solid var(--fill-color);\n",
              "    border-color: transparent;\n",
              "    border-bottom-color: var(--fill-color);\n",
              "    animation:\n",
              "      spin 1s steps(1) infinite;\n",
              "  }\n",
              "\n",
              "  @keyframes spin {\n",
              "    0% {\n",
              "      border-color: transparent;\n",
              "      border-bottom-color: var(--fill-color);\n",
              "      border-left-color: var(--fill-color);\n",
              "    }\n",
              "    20% {\n",
              "      border-color: transparent;\n",
              "      border-left-color: var(--fill-color);\n",
              "      border-top-color: var(--fill-color);\n",
              "    }\n",
              "    30% {\n",
              "      border-color: transparent;\n",
              "      border-left-color: var(--fill-color);\n",
              "      border-top-color: var(--fill-color);\n",
              "      border-right-color: var(--fill-color);\n",
              "    }\n",
              "    40% {\n",
              "      border-color: transparent;\n",
              "      border-right-color: var(--fill-color);\n",
              "      border-top-color: var(--fill-color);\n",
              "    }\n",
              "    60% {\n",
              "      border-color: transparent;\n",
              "      border-right-color: var(--fill-color);\n",
              "    }\n",
              "    80% {\n",
              "      border-color: transparent;\n",
              "      border-right-color: var(--fill-color);\n",
              "      border-bottom-color: var(--fill-color);\n",
              "    }\n",
              "    90% {\n",
              "      border-color: transparent;\n",
              "      border-bottom-color: var(--fill-color);\n",
              "    }\n",
              "  }\n",
              "</style>\n",
              "\n",
              "      <script>\n",
              "        async function quickchart(key) {\n",
              "          const quickchartButtonEl =\n",
              "            document.querySelector('#' + key + ' button');\n",
              "          quickchartButtonEl.disabled = true;  // To prevent multiple clicks.\n",
              "          quickchartButtonEl.classList.add('colab-df-spinner');\n",
              "          try {\n",
              "            const charts = await google.colab.kernel.invokeFunction(\n",
              "                'suggestCharts', [key], {});\n",
              "          } catch (error) {\n",
              "            console.error('Error during call to suggestCharts:', error);\n",
              "          }\n",
              "          quickchartButtonEl.classList.remove('colab-df-spinner');\n",
              "          quickchartButtonEl.classList.add('colab-df-quickchart-complete');\n",
              "        }\n",
              "        (() => {\n",
              "          let quickchartButtonEl =\n",
              "            document.querySelector('#df-b3f89821-7218-4482-a073-c2368be181e9 button');\n",
              "          quickchartButtonEl.style.display =\n",
              "            google.colab.kernel.accessAllowed ? 'block' : 'none';\n",
              "        })();\n",
              "      </script>\n",
              "    </div>\n",
              "\n",
              "    </div>\n",
              "  </div>\n"
            ],
            "application/vnd.google.colaboratory.intrinsic+json": {
              "type": "dataframe",
              "variable_name": "x_data"
            }
          },
          "metadata": {},
          "execution_count": 130
        }
      ]
    },
    {
      "cell_type": "markdown",
      "source": [
        "Basándonos en los resultados de la selección de características utilizando el modelo RandomForestClassifier, se aprecia un subconjunto significativo de las palabras presentes en las reseñas que son consideradas relevantes por el modelo para predecir el sentimiento (fresh/rotten). La reducción de características ayudará a disminuir la complejidad computacional, potencialmente mitigar el sobreajuste y enfocar el modelo a realizar la tarea de clasificación debidamente, para ello seguimos con la sección de implementación y entrenamiento de modelos."
      ],
      "metadata": {
        "id": "vf0UIEO33g0q"
      }
    },
    {
      "cell_type": "markdown",
      "source": [
        "## 4. Implementación y entrenamiento de los modelos\n",
        "\n"
      ],
      "metadata": {
        "id": "_ihVIOHMpBdU"
      }
    },
    {
      "cell_type": "markdown",
      "source": [
        "Primeramente haremos una separación de los datos de entrenamiento, con los datos de prueba."
      ],
      "metadata": {
        "id": "vwFrt8stuzWZ"
      }
    },
    {
      "cell_type": "code",
      "source": [
        "from sklearn.model_selection import train_test_split\n",
        "\n",
        "x_train, x_test, y_train, y_test = train_test_split(x_data, y_data, test_size=0.3)"
      ],
      "metadata": {
        "id": "Bbfo9d5Y6DBz"
      },
      "execution_count": null,
      "outputs": []
    },
    {
      "cell_type": "markdown",
      "source": [
        "Ahora bien procederemos a irlos entrenando por cada modelo usando GridSearchCV, quien encontrará los mejores hiperparámetros basandose en el rendimiento de los datos de entrenamiento y luego evaluarlo en el conjunto de prueba."
      ],
      "metadata": {
        "id": "2UhrNjV97Z-L"
      }
    },
    {
      "cell_type": "markdown",
      "source": [
        "### Regresión multivariada"
      ],
      "metadata": {
        "id": "lOq6fea7LPpf"
      }
    },
    {
      "cell_type": "markdown",
      "source": [
        "#### Prueba 1"
      ],
      "metadata": {
        "id": "gY0kXgTeTtN7"
      }
    },
    {
      "cell_type": "code",
      "source": [
        "from sklearn.linear_model import LogisticRegression\n",
        "from sklearn.model_selection import train_test_split, GridSearchCV, KFold\n",
        "from sklearn.metrics import classification_report, confusion_matrix\n",
        "\n",
        "parametros = {\n",
        "    'C': [0.0001, 0.001, 0.01],\n",
        "    'penalty': ['l2','l1'],\n",
        "    'solver': ['liblinear', 'saga']\n",
        "}\n",
        "\n",
        "kf = KFold(n_splits=4, shuffle=True, random_state=4)\n",
        "\n",
        "gridscv = GridSearchCV(LogisticRegression(max_iter=1000, random_state=42),\n",
        "                      parametros,\n",
        "                      scoring='accuracy',\n",
        "                      cv=kf,\n",
        "                      refit=True\n",
        "                     )\n",
        "\n",
        "model_result = gridscv.fit(x_train, y_train)"
      ],
      "metadata": {
        "id": "q221OpPHOU34"
      },
      "execution_count": null,
      "outputs": []
    },
    {
      "cell_type": "markdown",
      "source": [
        "#### Resultados"
      ],
      "metadata": {
        "id": "_6geNJSfUC1i"
      }
    },
    {
      "cell_type": "code",
      "source": [
        "print(\"Resultado training (Best Parameters):\")\n",
        "print(model_result.best_params_)\n",
        "print(\"\\n\")\n",
        "print('Accuracy (on Training Data):')\n",
        "print(f\"{(model_result.best_score_*100):.2f}%\")\n",
        "print(\"\\n\")\n",
        "\n",
        "y_pred = model_result.predict(x_test)\n",
        "\n",
        "print('Accuracy (on Test Data):')\n",
        "print(f\"{(model_result.score(x_test, y_test)*100):.2f}%\")\n",
        "print(\"\\n\")\n",
        "\n",
        "print(\"Classification Report (on Test Data):\")\n",
        "print(classification_report(y_test, y_pred))\n",
        "print(\"\\n\")\n",
        "\n",
        "print(\"Confusion Matrix (on Test Data):\")\n",
        "print(confusion_matrix(y_test, y_pred))"
      ],
      "metadata": {
        "colab": {
          "base_uri": "https://localhost:8080/"
        },
        "id": "8XLoZjomUEbT",
        "outputId": "4f82c0d2-8f6c-40b1-e880-8124078fa19b"
      },
      "execution_count": null,
      "outputs": [
        {
          "output_type": "stream",
          "name": "stdout",
          "text": [
            "Resultado training (Best Parameters):\n",
            "{'C': 1, 'penalty': 'l2', 'solver': 'liblinear'}\n",
            "\n",
            "\n",
            "Accuracy (on Training Data):\n",
            "71.18%\n",
            "\n",
            "\n",
            "Accuracy (on Test Data):\n",
            "72.76%\n",
            "\n",
            "\n",
            "Classification Report (on Test Data):\n",
            "              precision    recall  f1-score   support\n",
            "\n",
            "           0       0.73      0.73      0.73      2270\n",
            "           1       0.72      0.73      0.73      2230\n",
            "\n",
            "    accuracy                           0.73      4500\n",
            "   macro avg       0.73      0.73      0.73      4500\n",
            "weighted avg       0.73      0.73      0.73      4500\n",
            "\n",
            "\n",
            "\n",
            "Confusion Matrix (on Test Data):\n",
            "[[1656  614]\n",
            " [ 612 1618]]\n"
          ]
        }
      ]
    },
    {
      "cell_type": "markdown",
      "source": [
        "#### Prueba 2"
      ],
      "metadata": {
        "id": "-x1Gef58WFNq"
      }
    },
    {
      "cell_type": "code",
      "source": [
        "parametros = {\n",
        "    'C': [0.001, 0.01, 1, 2],\n",
        "    'penalty': ['l2','l1'],\n",
        "    'solver': ['liblinear', 'saga']\n",
        "}\n",
        "\n",
        "kf = KFold(n_splits=4, shuffle=True, random_state=4)\n",
        "\n",
        "gridscv = GridSearchCV(LogisticRegression(max_iter=1000, random_state=42),\n",
        "                      parametros,\n",
        "                      scoring='accuracy',\n",
        "                      cv=kf,\n",
        "                      refit=True\n",
        "                     )\n",
        "\n",
        "model_result = gridscv.fit(x_train, y_train)"
      ],
      "metadata": {
        "id": "298PmjBFWp1r"
      },
      "execution_count": null,
      "outputs": []
    },
    {
      "cell_type": "markdown",
      "source": [
        "#### Resultados"
      ],
      "metadata": {
        "id": "0nEorhnzW3Fq"
      }
    },
    {
      "cell_type": "code",
      "source": [
        "print(\"Resultado training (Best Parameters):\")\n",
        "print(model_result.best_params_)\n",
        "print(\"\\n\")\n",
        "print('Accuracy (on Training Data):')\n",
        "print(f\"{(model_result.best_score_*100):.2f}%\")\n",
        "print(\"\\n\")\n",
        "\n",
        "y_pred = model_result.predict(x_test)\n",
        "\n",
        "print('Accuracy (on Test Data):')\n",
        "print(f\"{(model_result.score(x_test, y_test)*100):.2f}%\")\n",
        "print(\"\\n\")\n",
        "\n",
        "print(\"Classification Report (on Test Data):\")\n",
        "print(classification_report(y_test, y_pred))\n",
        "print(\"\\n\")\n",
        "\n",
        "print(\"Confusion Matrix (on Test Data):\")\n",
        "print(confusion_matrix(y_test, y_pred))"
      ],
      "metadata": {
        "colab": {
          "base_uri": "https://localhost:8080/"
        },
        "id": "Poqwz2Y0W5AX",
        "outputId": "ebc57b87-4dd3-42ed-d5d8-de2807c0892a"
      },
      "execution_count": null,
      "outputs": [
        {
          "output_type": "stream",
          "name": "stdout",
          "text": [
            "Resultado training (Best Parameters):\n",
            "{'C': 2, 'penalty': 'l2', 'solver': 'liblinear'}\n",
            "\n",
            "\n",
            "Accuracy (on Training Data):\n",
            "71.30%\n",
            "\n",
            "\n",
            "Accuracy (on Test Data):\n",
            "72.96%\n",
            "\n",
            "\n",
            "Classification Report (on Test Data):\n",
            "              precision    recall  f1-score   support\n",
            "\n",
            "           0       0.73      0.73      0.73      2270\n",
            "           1       0.73      0.72      0.73      2230\n",
            "\n",
            "    accuracy                           0.73      4500\n",
            "   macro avg       0.73      0.73      0.73      4500\n",
            "weighted avg       0.73      0.73      0.73      4500\n",
            "\n",
            "\n",
            "\n",
            "Confusion Matrix (on Test Data):\n",
            "[[1667  603]\n",
            " [ 614 1616]]\n"
          ]
        }
      ]
    },
    {
      "cell_type": "markdown",
      "source": [
        "#### Prueba 3"
      ],
      "metadata": {
        "id": "yqDL2rSS2r3q"
      }
    },
    {
      "cell_type": "code",
      "source": [
        "parametros = {\n",
        "    'C': [2, 4, 6, 10],\n",
        "    'penalty': ['l2','l1'],\n",
        "    'solver': ['liblinear', 'saga']\n",
        "}\n",
        "\n",
        "kf = KFold(n_splits=4, shuffle=True, random_state=4)\n",
        "\n",
        "gridscv = GridSearchCV(LogisticRegression(max_iter=1000, random_state=42),\n",
        "                      parametros,\n",
        "                      scoring='accuracy',\n",
        "                      cv=kf,\n",
        "                      refit=True\n",
        "                     )\n",
        "\n",
        "model_result = gridscv.fit(x_train, y_train)"
      ],
      "metadata": {
        "id": "RkgZSjIW2trq"
      },
      "execution_count": null,
      "outputs": []
    },
    {
      "cell_type": "markdown",
      "source": [
        "#### Resultados"
      ],
      "metadata": {
        "id": "stZhTGBs3HUE"
      }
    },
    {
      "cell_type": "code",
      "source": [
        "print(\"Resultado training (Best Parameters):\")\n",
        "print(model_result.best_params_)\n",
        "print(\"\\n\")\n",
        "print('Accuracy (on Training Data):')\n",
        "print(f\"{(model_result.best_score_*100):.2f}%\")\n",
        "print(\"\\n\")\n",
        "\n",
        "y_pred = model_result.predict(x_test)\n",
        "\n",
        "print('Accuracy (on Test Data):')\n",
        "print(f\"{(model_result.score(x_test, y_test)*100):.2f}%\")\n",
        "print(\"\\n\")\n",
        "\n",
        "print(\"Classification Report (on Test Data):\")\n",
        "print(classification_report(y_test, y_pred))\n",
        "print(\"\\n\")\n",
        "\n",
        "print(\"Confusion Matrix (on Test Data):\")\n",
        "print(confusion_matrix(y_test, y_pred))"
      ],
      "metadata": {
        "colab": {
          "base_uri": "https://localhost:8080/"
        },
        "id": "ocdZD7Q33JpY",
        "outputId": "97ff3015-0ad7-4c4e-c1ff-de6feac2b404"
      },
      "execution_count": null,
      "outputs": [
        {
          "output_type": "stream",
          "name": "stdout",
          "text": [
            "Resultado training (Best Parameters):\n",
            "{'C': 2, 'penalty': 'l2', 'solver': 'liblinear'}\n",
            "\n",
            "\n",
            "Accuracy (on Training Data):\n",
            "71.30%\n",
            "\n",
            "\n",
            "Accuracy (on Test Data):\n",
            "72.96%\n",
            "\n",
            "\n",
            "Classification Report (on Test Data):\n",
            "              precision    recall  f1-score   support\n",
            "\n",
            "           0       0.73      0.73      0.73      2270\n",
            "           1       0.73      0.72      0.73      2230\n",
            "\n",
            "    accuracy                           0.73      4500\n",
            "   macro avg       0.73      0.73      0.73      4500\n",
            "weighted avg       0.73      0.73      0.73      4500\n",
            "\n",
            "\n",
            "\n",
            "Confusion Matrix (on Test Data):\n",
            "[[1667  603]\n",
            " [ 614 1616]]\n"
          ]
        }
      ]
    },
    {
      "cell_type": "markdown",
      "source": [
        "La primera prueba exploró un amplio rango de valores para el parámetro de regularización C [0.0001, 0.001, 0.01], junto con las penalizaciones 'l2' y 'l1' y los solvers 'liblinear' y 'saga', con el objetivo de identificar la región general del espacio de parámetros que ofrecía el mejor desempeño inicial, resultando en {'C': 2, 'penalty': 'l2', 'solver': 'liblinear'}. Las pruebas subsiguientes (Prueba 2 con C: [0.001, 0.01, 1, 2], Prueba 3 con C: [2, 4, 6, 10], ambas manteniendo 'l2', 'l1', 'liblinear', 'saga') buscaron refinar esta búsqueda al centrar los valores de C en rangos más estrechos alrededor del óptimo identificado, con la expectativa de encontrar una combinación aún mejor; sin embargo, los resultados consistentes en las ultimas pruebas 2 y 3 y otras más, indican repetidamente {'C': 2, 'penalty': 'l2', 'solver': 'liblinear'} como los mejores parámetros y un accuracy similar, sugieren que el modelo de Regresión Logística, con las características y datos actuales, puede haber alcanzado un rendimiento estable dentro de las opciones exploradas para estos hiperparámetros."
      ],
      "metadata": {
        "id": "zxvfjmOHXYBD"
      }
    },
    {
      "cell_type": "markdown",
      "source": [
        "### Árboles de decisión"
      ],
      "metadata": {
        "id": "2Xv_hPMc9kjX"
      }
    },
    {
      "cell_type": "markdown",
      "source": [
        "#### Prueba 1"
      ],
      "metadata": {
        "id": "kbJP6JAobUbe"
      }
    },
    {
      "cell_type": "code",
      "source": [
        "from sklearn.tree import DecisionTreeClassifier\n",
        "\n",
        "parametros = {\n",
        "    'criterion': ['gini', 'entropy'],\n",
        "    'splitter': ['best', 'random'],\n",
        "    'max_features': ['sqrt', 'log2'],\n",
        "    'max_depth': [3, 5, 10],\n",
        "    'min_samples_split': [2, 5],\n",
        "    'min_samples_leaf': [1, 2]\n",
        "}\n",
        "\n",
        "kf = KFold(n_splits=4, shuffle=True, random_state=4)\n",
        "\n",
        "gridscv = GridSearchCV(DecisionTreeClassifier(), parametros, scoring='accuracy', cv=kf, n_jobs=-1, refit=True)\n",
        "\n",
        "model_result = gridscv.fit(x_train, y_train)"
      ],
      "metadata": {
        "id": "n4GJCtSU9mja"
      },
      "execution_count": null,
      "outputs": []
    },
    {
      "cell_type": "markdown",
      "source": [
        "#### Resultados"
      ],
      "metadata": {
        "id": "0dzQSitDbK3I"
      }
    },
    {
      "cell_type": "code",
      "source": [
        "print(\"Resultado training (Best Parameters):\")\n",
        "print(model_result.best_params_)\n",
        "print(\"\\n\")\n",
        "print('Accuracy (on Training Data):')\n",
        "print(f\"{(model_result.best_score_*100):.2f}%\")\n",
        "print(\"\\n\")\n",
        "\n",
        "y_pred = model_result.predict(x_test)\n",
        "\n",
        "print('Accuracy (on Test Data):')\n",
        "print(f\"{(model_result.score(x_test, y_test)*100):.2f}%\")\n",
        "print(\"\\n\")\n",
        "\n",
        "print(\"Classification Report (on Test Data):\")\n",
        "print(classification_report(y_test, y_pred))\n",
        "print(\"\\n\")\n",
        "\n",
        "print(\"Confusion Matrix (on Test Data):\")\n",
        "print(confusion_matrix(y_test, y_pred))"
      ],
      "metadata": {
        "colab": {
          "base_uri": "https://localhost:8080/"
        },
        "id": "QfTTx1LbbWcw",
        "outputId": "3073790c-b5fd-4f2e-85f1-b862bd6e7379"
      },
      "execution_count": null,
      "outputs": [
        {
          "output_type": "stream",
          "name": "stdout",
          "text": [
            "Resultado training (Best Parameters):\n",
            "{'criterion': 'entropy', 'max_depth': 10, 'max_features': 'sqrt', 'min_samples_leaf': 2, 'min_samples_split': 5, 'splitter': 'best'}\n",
            "\n",
            "\n",
            "Accuracy (on Training Data):\n",
            "52.93%\n",
            "\n",
            "\n",
            "Accuracy (on Test Data):\n",
            "52.04%\n",
            "\n",
            "\n",
            "Classification Report (on Test Data):\n",
            "              precision    recall  f1-score   support\n",
            "\n",
            "           0       0.51      0.97      0.67      2270\n",
            "           1       0.67      0.06      0.11      2230\n",
            "\n",
            "    accuracy                           0.52      4500\n",
            "   macro avg       0.59      0.52      0.39      4500\n",
            "weighted avg       0.59      0.52      0.40      4500\n",
            "\n",
            "\n",
            "\n",
            "Confusion Matrix (on Test Data):\n",
            "[[2202   68]\n",
            " [2090  140]]\n"
          ]
        }
      ]
    },
    {
      "cell_type": "markdown",
      "source": [
        "#### Prueba 2"
      ],
      "metadata": {
        "id": "dMVa7Bsjb0A4"
      }
    },
    {
      "cell_type": "code",
      "source": [
        "parametros = {\n",
        "    'criterion': ['gini', 'entropy'],\n",
        "    'splitter': ['best'],\n",
        "    'max_features': ['sqrt', 'log2'],\n",
        "    'max_depth': [20, 30, 50, None],\n",
        "    'min_samples_split': [10, 20, 30],\n",
        "    'min_samples_leaf': [2, 4, 8]\n",
        "}\n",
        "\n",
        "kf = KFold(n_splits=4, shuffle=True, random_state=4)\n",
        "\n",
        "gridscv = GridSearchCV(DecisionTreeClassifier(), parametros, scoring='accuracy', cv=kf, n_jobs=-1, refit=True)\n",
        "\n",
        "model_result = gridscv.fit(x_train, y_train)"
      ],
      "metadata": {
        "id": "tsnIEVSTb-Gm"
      },
      "execution_count": null,
      "outputs": []
    },
    {
      "cell_type": "markdown",
      "source": [
        "#### Resultados"
      ],
      "metadata": {
        "id": "1YWhH6iic1A-"
      }
    },
    {
      "cell_type": "code",
      "source": [
        "print(\"Resultado training (Best Parameters):\")\n",
        "print(model_result.best_params_)\n",
        "print(\"\\n\")\n",
        "print('Accuracy (on Training Data):')\n",
        "print(f\"{(model_result.best_score_*100):.2f}%\")\n",
        "print(\"\\n\")\n",
        "\n",
        "y_pred = model_result.predict(x_test)\n",
        "\n",
        "print('Accuracy (on Test Data):')\n",
        "print(f\"{(model_result.score(x_test, y_test)*100):.2f}%\")\n",
        "print(\"\\n\")\n",
        "\n",
        "print(\"Classification Report (on Test Data):\")\n",
        "print(classification_report(y_test, y_pred))\n",
        "print(\"\\n\")\n",
        "\n",
        "print(\"Confusion Matrix (on Test Data):\")\n",
        "print(confusion_matrix(y_test, y_pred))"
      ],
      "metadata": {
        "colab": {
          "base_uri": "https://localhost:8080/"
        },
        "id": "97y2ZJC_c4R3",
        "outputId": "38c94a28-4489-44d4-8222-7293eabfaa63"
      },
      "execution_count": null,
      "outputs": [
        {
          "output_type": "stream",
          "name": "stdout",
          "text": [
            "Resultado training (Best Parameters):\n",
            "{'criterion': 'gini', 'max_depth': None, 'max_features': 'sqrt', 'min_samples_leaf': 4, 'min_samples_split': 30, 'splitter': 'best'}\n",
            "\n",
            "\n",
            "Accuracy (on Training Data):\n",
            "62.54%\n",
            "\n",
            "\n",
            "Accuracy (on Test Data):\n",
            "63.09%\n",
            "\n",
            "\n",
            "Classification Report (on Test Data):\n",
            "              precision    recall  f1-score   support\n",
            "\n",
            "           0       0.63      0.66      0.64      2270\n",
            "           1       0.64      0.60      0.62      2230\n",
            "\n",
            "    accuracy                           0.63      4500\n",
            "   macro avg       0.63      0.63      0.63      4500\n",
            "weighted avg       0.63      0.63      0.63      4500\n",
            "\n",
            "\n",
            "\n",
            "Confusion Matrix (on Test Data):\n",
            "[[1505  765]\n",
            " [ 896 1334]]\n"
          ]
        }
      ]
    },
    {
      "cell_type": "markdown",
      "source": [
        "#### Prueba 3"
      ],
      "metadata": {
        "id": "k7P4KKnZhqyW"
      }
    },
    {
      "cell_type": "code",
      "source": [
        "parametros = {\n",
        "    'criterion': ['gini', 'entropy'],\n",
        "    'splitter': ['best'],\n",
        "    'max_features': ['sqrt', 'log2'],\n",
        "    'max_depth': [15, 20, 30, None],\n",
        "    'min_samples_split': [5, 10, 20],\n",
        "    'min_samples_leaf': [2, 4, 6]\n",
        "}\n",
        "\n",
        "kf = KFold(n_splits=4, shuffle=True, random_state=4)\n",
        "\n",
        "gridscv = GridSearchCV(DecisionTreeClassifier(), parametros, scoring='accuracy', cv=kf, n_jobs=-1, refit=True)\n",
        "\n",
        "model_result = gridscv.fit(x_train, y_train)"
      ],
      "metadata": {
        "id": "UEST3kCuhsRV"
      },
      "execution_count": null,
      "outputs": []
    },
    {
      "cell_type": "markdown",
      "source": [
        "#### Resultados"
      ],
      "metadata": {
        "id": "WF-6Q5IjhunN"
      }
    },
    {
      "cell_type": "code",
      "source": [
        "print(\"Resultado training (Best Parameters):\")\n",
        "print(model_result.best_params_)\n",
        "print(\"\\n\")\n",
        "print('Accuracy (on Training Data):')\n",
        "print(f\"{(model_result.best_score_*100):.2f}%\")\n",
        "print(\"\\n\")\n",
        "\n",
        "y_pred = model_result.predict(x_test)\n",
        "\n",
        "print('Accuracy (on Test Data):')\n",
        "print(f\"{(model_result.score(x_test, y_test)*100):.2f}%\")\n",
        "print(\"\\n\")\n",
        "\n",
        "print(\"Classification Report (on Test Data):\")\n",
        "print(classification_report(y_test, y_pred))\n",
        "print(\"\\n\")\n",
        "\n",
        "print(\"Confusion Matrix (on Test Data):\")\n",
        "print(confusion_matrix(y_test, y_pred))"
      ],
      "metadata": {
        "colab": {
          "base_uri": "https://localhost:8080/"
        },
        "id": "SL6aBO8mhwHf",
        "outputId": "b189180a-10f6-478f-e6d5-56f9d02edd42"
      },
      "execution_count": null,
      "outputs": [
        {
          "output_type": "stream",
          "name": "stdout",
          "text": [
            "Resultado training (Best Parameters):\n",
            "{'criterion': 'entropy', 'max_depth': None, 'max_features': 'sqrt', 'min_samples_leaf': 4, 'min_samples_split': 5, 'splitter': 'best'}\n",
            "\n",
            "\n",
            "Accuracy (on Training Data):\n",
            "62.12%\n",
            "\n",
            "\n",
            "Accuracy (on Test Data):\n",
            "63.47%\n",
            "\n",
            "\n",
            "Classification Report (on Test Data):\n",
            "              precision    recall  f1-score   support\n",
            "\n",
            "           0       0.64      0.64      0.64      2270\n",
            "           1       0.63      0.63      0.63      2230\n",
            "\n",
            "    accuracy                           0.63      4500\n",
            "   macro avg       0.63      0.63      0.63      4500\n",
            "weighted avg       0.63      0.63      0.63      4500\n",
            "\n",
            "\n",
            "\n",
            "Confusion Matrix (on Test Data):\n",
            "[[1460  810]\n",
            " [ 834 1396]]\n"
          ]
        }
      ]
    },
    {
      "cell_type": "markdown",
      "source": [
        "La primera prueba exploró un espacio amplio de parámetros incluyendo criterion (gini, entropy), splitter (best, random), max_features (sqrt, log2), max_depth (valores bajos como 3, 5, 10), y rangos iniciales para min_samples_split y min_samples_leaf. Los resultados de esta prueba inicial identificaron los parámetros más prometedores y la región del espacio a investigar con mayor detalle. Basándose en estos hallazgos, la estrategia para las pruebas Subsiguientes (incluyendo la prueba 2 y 3, y otras iteraciones) se centró en refinar la búsqueda."
      ],
      "metadata": {
        "id": "XWR86c9TDb6Y"
      }
    },
    {
      "cell_type": "markdown",
      "source": [
        " Se exploraron rangos más amplios y finos para max_depth (incluyendo valores más altos como 20, 30, 50, y None para permitir árboles más profundos), se ajustaron los rangos para min_samples_split y min_samples_leaf para controlar mejor el tamaño de las hojas y las divisiones, y se mantuvieron los splitter y max_features que mostraron mejor rendimiento inicial. La realización de múltiples pruebas con estos rangos refinados permitió observar una mayor estabilidad en los mejores parámetros identificados por GridSearchCV y en el accuracy de validación cruzada, sugiriendo que se estaba convergiendo hacia una configuración robusta para el árbol de decisión."
      ],
      "metadata": {
        "id": "lYuL2fDw_U_O"
      }
    },
    {
      "cell_type": "markdown",
      "source": [
        "### Random Forest"
      ],
      "metadata": {
        "id": "zy_fr4YOFEjQ"
      }
    },
    {
      "cell_type": "markdown",
      "source": [
        "#### Prueba 1"
      ],
      "metadata": {
        "id": "Bp0XTJAV_mIu"
      }
    },
    {
      "cell_type": "code",
      "source": [
        "from sklearn.ensemble import RandomForestClassifier\n",
        "\n",
        "parametros = {\n",
        "    'criterion': ['gini', 'entropy'],\n",
        "    'n_estimators': [50, 100],\n",
        "    'max_features': ['sqrt'],\n",
        "    'max_depth': [15, 20],\n",
        "    'min_samples_split': [2, 5],\n",
        "    'min_samples_leaf': [1, 2]\n",
        "}\n",
        "\n",
        "kf = KFold(n_splits=4, shuffle=True, random_state=4)\n",
        "\n",
        "gridscv = GridSearchCV(RandomForestClassifier(random_state=42, n_jobs=-1), parametros, scoring='accuracy', cv=kf, refit=True)\n",
        "\n",
        "model_result = gridscv.fit(x_train, y_train)"
      ],
      "metadata": {
        "id": "mRKmW5qmFI4G"
      },
      "execution_count": null,
      "outputs": []
    },
    {
      "cell_type": "markdown",
      "source": [
        "#### Resultados"
      ],
      "metadata": {
        "id": "UxiKt5QiAhv4"
      }
    },
    {
      "cell_type": "code",
      "source": [
        "print(\"Resultado training (Best Parameters):\")\n",
        "print(model_result.best_params_)\n",
        "print(\"\\n\")\n",
        "print('Accuracy (on Training Data):')\n",
        "print(f\"{(model_result.best_score_*100):.2f}%\")\n",
        "print(\"\\n\")\n",
        "\n",
        "y_pred = model_result.predict(x_test)\n",
        "\n",
        "print('Accuracy (on Test Data):')\n",
        "print(f\"{(model_result.score(x_test, y_test)*100):.2f}%\")\n",
        "print(\"\\n\")\n",
        "\n",
        "print(\"Classification Report (on Test Data):\")\n",
        "print(classification_report(y_test, y_pred))\n",
        "print(\"\\n\")\n",
        "\n",
        "print(\"Confusion Matrix (on Test Data):\")\n",
        "print(confusion_matrix(y_test, y_pred))"
      ],
      "metadata": {
        "colab": {
          "base_uri": "https://localhost:8080/"
        },
        "id": "TtKEhxr6Ak39",
        "outputId": "4f567126-3769-44ba-cfbf-51756d680765"
      },
      "execution_count": null,
      "outputs": [
        {
          "output_type": "stream",
          "name": "stdout",
          "text": [
            "Resultado training (Best Parameters):\n",
            "{'criterion': 'entropy', 'max_depth': 20, 'max_features': 'sqrt', 'min_samples_leaf': 1, 'min_samples_split': 5, 'n_estimators': 100}\n",
            "\n",
            "\n",
            "Accuracy (on Training Data):\n",
            "65.39%\n",
            "\n",
            "\n",
            "Accuracy (on Test Data):\n",
            "66.78%\n",
            "\n",
            "\n",
            "Classification Report (on Test Data):\n",
            "              precision    recall  f1-score   support\n",
            "\n",
            "           0       0.71      0.59      0.64      2270\n",
            "           1       0.64      0.75      0.69      2230\n",
            "\n",
            "    accuracy                           0.67      4500\n",
            "   macro avg       0.67      0.67      0.67      4500\n",
            "weighted avg       0.67      0.67      0.67      4500\n",
            "\n",
            "\n",
            "\n",
            "Confusion Matrix (on Test Data):\n",
            "[[1329  941]\n",
            " [ 554 1676]]\n"
          ]
        }
      ]
    },
    {
      "cell_type": "markdown",
      "source": [
        "#### Prueba 2"
      ],
      "metadata": {
        "id": "RnflCVXmUWXG"
      }
    },
    {
      "cell_type": "code",
      "source": [
        "parametros = {\n",
        "    'criterion': ['gini', 'entropy'],\n",
        "    'n_estimators': [150, 200, 250],\n",
        "    'max_features': ['sqrt'],\n",
        "    'max_depth': [30, None],\n",
        "    'min_samples_split': [5, 10, 15],\n",
        "    'min_samples_leaf': [2, 4, 6]\n",
        "}\n",
        "\n",
        "kf = KFold(n_splits=4, shuffle=True, random_state=4)\n",
        "\n",
        "gridscv = GridSearchCV(RandomForestClassifier(random_state=42, n_jobs=-1), parametros, scoring='accuracy', cv=kf, refit=True)\n",
        "\n",
        "model_result = gridscv.fit(x_train, y_train)"
      ],
      "metadata": {
        "id": "Bu_qPvwjUX1n"
      },
      "execution_count": null,
      "outputs": []
    },
    {
      "cell_type": "markdown",
      "source": [
        "#### Resultados"
      ],
      "metadata": {
        "id": "BcgY6hdxUb2A"
      }
    },
    {
      "cell_type": "code",
      "source": [
        "print(\"Resultado training (Best Parameters):\")\n",
        "print(model_result.best_params_)\n",
        "print(\"\\n\")\n",
        "print('Accuracy (on Training Data):')\n",
        "print(f\"{(model_result.best_score_*100):.2f}%\")\n",
        "print(\"\\n\")\n",
        "\n",
        "y_pred = model_result.predict(x_test)\n",
        "\n",
        "print('Accuracy (on Test Data):')\n",
        "print(f\"{(model_result.score(x_test, y_test)*100):.2f}%\")\n",
        "print(\"\\n\")\n",
        "\n",
        "print(\"Classification Report (on Test Data):\")\n",
        "print(classification_report(y_test, y_pred))\n",
        "print(\"\\n\")\n",
        "\n",
        "print(\"Confusion Matrix (on Test Data):\")\n",
        "print(confusion_matrix(y_test, y_pred))"
      ],
      "metadata": {
        "colab": {
          "base_uri": "https://localhost:8080/"
        },
        "id": "tW-X9jpcUefm",
        "outputId": "2bc21a18-8b08-4593-dce5-f81a559b5a71"
      },
      "execution_count": null,
      "outputs": [
        {
          "output_type": "stream",
          "name": "stdout",
          "text": [
            "Resultado training (Best Parameters):\n",
            "{'criterion': 'entropy', 'max_depth': None, 'max_features': 'sqrt', 'min_samples_leaf': 4, 'min_samples_split': 15, 'n_estimators': 200}\n",
            "\n",
            "\n",
            "Accuracy (on Training Data):\n",
            "68.43%\n",
            "\n",
            "\n",
            "Accuracy (on Test Data):\n",
            "68.60%\n",
            "\n",
            "\n",
            "Classification Report (on Test Data):\n",
            "              precision    recall  f1-score   support\n",
            "\n",
            "           0       0.68      0.69      0.69      2241\n",
            "           1       0.69      0.68      0.69      2259\n",
            "\n",
            "    accuracy                           0.69      4500\n",
            "   macro avg       0.69      0.69      0.69      4500\n",
            "weighted avg       0.69      0.69      0.69      4500\n",
            "\n",
            "\n",
            "\n",
            "Confusion Matrix (on Test Data):\n",
            "[[1540  701]\n",
            " [ 712 1547]]\n"
          ]
        }
      ]
    },
    {
      "cell_type": "markdown",
      "source": [
        "#### Prueba 3"
      ],
      "metadata": {
        "id": "8Rsimsoq16Pv"
      }
    },
    {
      "cell_type": "code",
      "source": [
        "parametros = {\n",
        "    'criterion': ['entropy'],\n",
        "    'n_estimators': [150, 200],\n",
        "    'max_features': ['sqrt','log2'],\n",
        "    'max_depth': [30, None],\n",
        "    'min_samples_split': [15, 20],\n",
        "    'min_samples_leaf': [4, 6, 8]\n",
        "}\n",
        "\n",
        "kf = KFold(n_splits=4, shuffle=True, random_state=4)\n",
        "\n",
        "gridscv = GridSearchCV(RandomForestClassifier(random_state=42, n_jobs=-1), parametros, scoring='accuracy', cv=kf, refit=True)\n",
        "\n",
        "model_result = gridscv.fit(x_train, y_train)"
      ],
      "metadata": {
        "id": "ZB1nnJho2EHw"
      },
      "execution_count": null,
      "outputs": []
    },
    {
      "cell_type": "markdown",
      "source": [
        "#### Resultados"
      ],
      "metadata": {
        "id": "rUTY8JvN2VV9"
      }
    },
    {
      "cell_type": "code",
      "source": [
        "print(\"Resultado training (Best Parameters):\")\n",
        "print(model_result.best_params_)\n",
        "print(\"\\n\")\n",
        "print('Accuracy (on Training Data):')\n",
        "print(f\"{(model_result.best_score_*100):.2f}%\")\n",
        "print(\"\\n\")\n",
        "\n",
        "y_pred = model_result.predict(x_test)\n",
        "\n",
        "print('Accuracy (on Test Data):')\n",
        "print(f\"{(model_result.score(x_test, y_test)*100):.2f}%\")\n",
        "print(\"\\n\")\n",
        "\n",
        "print(\"Classification Report (on Test Data):\")\n",
        "print(classification_report(y_test, y_pred))\n",
        "print(\"\\n\")\n",
        "\n",
        "print(\"Confusion Matrix (on Test Data):\")\n",
        "print(confusion_matrix(y_test, y_pred))"
      ],
      "metadata": {
        "id": "PJ5-AYnF2zN3",
        "colab": {
          "base_uri": "https://localhost:8080/"
        },
        "outputId": "e1572d34-92a8-48c1-d8f9-b617953ff46e"
      },
      "execution_count": null,
      "outputs": [
        {
          "output_type": "stream",
          "name": "stdout",
          "text": [
            "Resultado training (Best Parameters):\n",
            "{'criterion': 'entropy', 'max_depth': None, 'max_features': 'log2', 'min_samples_leaf': 4, 'min_samples_split': 20, 'n_estimators': 200}\n",
            "\n",
            "\n",
            "Accuracy (on Training Data):\n",
            "70.11%\n",
            "\n",
            "\n",
            "Accuracy (on Test Data):\n",
            "70.96%\n",
            "\n",
            "\n",
            "Classification Report (on Test Data):\n",
            "              precision    recall  f1-score   support\n",
            "\n",
            "           0       0.73      0.68      0.71      2304\n",
            "           1       0.69      0.74      0.71      2196\n",
            "\n",
            "    accuracy                           0.71      4500\n",
            "   macro avg       0.71      0.71      0.71      4500\n",
            "weighted avg       0.71      0.71      0.71      4500\n",
            "\n",
            "\n",
            "\n",
            "Confusion Matrix (on Test Data):\n",
            "[[1572  732]\n",
            " [ 575 1621]]\n"
          ]
        }
      ]
    },
    {
      "cell_type": "markdown",
      "source": [
        "Se comenzó explorando un rango inicial de valores para parámetros clave como criterion (['gini', 'entropy']), n_estimators ([50, 100]), max_features (['sqrt']), max_depth ([15, 20]), min_samples_split ([2, 5]) y min_samples_leaf ([1, 2]) en la Prueba 1. Basándose en los resultados de esta exploración inicial, se identificaron las regiones del espacio de parámetros que mostraron un mejor rendimiento. En las pruebas subsiguientes (Prueba 2, con n_estimators [150, 200, 250], max_depth [30, None], min_samples_split [5, 10, 15], min_samples_leaf [2, 4, 6], y Prueba 3, con criterion ['entropy'], n_estimators [150, 200], max_features ['sqrt','log2'], max_depth [30, None], min_samples_split [15, 20], min_samples_leaf [4, 6, 8]), se refinó la búsqueda al centrar los rangos de los parámetros con respecto a los valores más prometedores, explorando un número mayor de estimadores (n_estimators) y profundidades de árbol (max_depth), así como ajustando los umbrales para min_samples_split y min_samples_leaf y el uso de log2 en las últimas pruebas de la mano del criterion entropy, llegando a un accuracy de 70% repetidas veces y el GridSearchCV eligiendo los mismos parámetros. Esta estrategia permitió convergir hacia una combinación óptima de hiperparámetros que mejoró el rendimiento del modelo en la clasificación de sentimientos."
      ],
      "metadata": {
        "id": "uPPGPUZjNThU"
      }
    },
    {
      "cell_type": "markdown",
      "source": [
        "### Redes neuronales perceptrón multicapas"
      ],
      "metadata": {
        "id": "Fm3HWH1aOBo8"
      }
    },
    {
      "cell_type": "markdown",
      "source": [
        "#### Prueba 1"
      ],
      "metadata": {
        "id": "cRBypSvfYiCA"
      }
    },
    {
      "cell_type": "code",
      "source": [
        "from sklearn.neural_network import MLPClassifier\n",
        "from sklearn.preprocessing import StandardScaler\n",
        "\n",
        "scaler = StandardScaler()\n",
        "x_train_scaled = scaler.fit_transform(x_train)\n",
        "x_test_scaled = scaler.transform(x_test)\n",
        "\n",
        "parametros = {\n",
        "    'hidden_layer_sizes': [(20,), (15,), (10,)],\n",
        "    'alpha': [0.0001, 0.001],\n",
        "    'max_iter': [150]\n",
        "}\n",
        "\n",
        "kf = KFold(n_splits=4, shuffle=True, random_state=4)\n",
        "\n",
        "gridscv = GridSearchCV(MLPClassifier(random_state=42, solver='adam', early_stopping=True),\n",
        "                       parametros,\n",
        "                       scoring='accuracy',\n",
        "                       cv=kf,\n",
        "                       n_jobs=-1,\n",
        "                       refit=True)\n",
        "\n",
        "model_result = gridscv.fit(x_train_scaled, y_train)"
      ],
      "metadata": {
        "id": "jWZnupSfYi0x"
      },
      "execution_count": null,
      "outputs": []
    },
    {
      "cell_type": "markdown",
      "source": [
        "#### Resultados"
      ],
      "metadata": {
        "id": "WGRr2QcrYj3y"
      }
    },
    {
      "cell_type": "code",
      "source": [
        "print(\"Resultado training (Best Parameters):\")\n",
        "print(model_result.best_params_)\n",
        "print(\"\\n\")\n",
        "print('Accuracy (on Training Data):')\n",
        "print(f\"{(model_result.best_score_*100):.2f}%\")\n",
        "print(\"\\n\")\n",
        "\n",
        "y_pred = model_result.predict(x_test_scaled)\n",
        "\n",
        "print('Accuracy (on Test Data):')\n",
        "print(f\"{(model_result.score(x_test_scaled, y_test)*100):.2f}%\")\n",
        "print(\"\\n\")\n",
        "\n",
        "print(\"Classification Report (on Test Data):\")\n",
        "print(classification_report(y_test, y_pred))\n",
        "print(\"\\n\")\n",
        "\n",
        "print(\"Confusion Matrix (on Test Data):\")\n",
        "print(confusion_matrix(y_test, y_pred))"
      ],
      "metadata": {
        "colab": {
          "base_uri": "https://localhost:8080/"
        },
        "id": "YIqsZqkdYnyh",
        "outputId": "8ea97e98-ca19-4a2f-e7a7-2d44ab5c50a3"
      },
      "execution_count": null,
      "outputs": [
        {
          "output_type": "stream",
          "name": "stdout",
          "text": [
            "Resultado training (Best Parameters):\n",
            "{'alpha': 0.0001, 'hidden_layer_sizes': (20,), 'max_iter': 150}\n",
            "\n",
            "\n",
            "Accuracy (on Training Data):\n",
            "69.31%\n",
            "\n",
            "\n",
            "Accuracy (on Test Data):\n",
            "69.07%\n",
            "\n",
            "\n",
            "Classification Report (on Test Data):\n",
            "              precision    recall  f1-score   support\n",
            "\n",
            "           0       0.69      0.69      0.69      2275\n",
            "           1       0.69      0.69      0.69      2225\n",
            "\n",
            "    accuracy                           0.69      4500\n",
            "   macro avg       0.69      0.69      0.69      4500\n",
            "weighted avg       0.69      0.69      0.69      4500\n",
            "\n",
            "\n",
            "\n",
            "Confusion Matrix (on Test Data):\n",
            "[[1578  697]\n",
            " [ 695 1530]]\n"
          ]
        }
      ]
    },
    {
      "cell_type": "markdown",
      "source": [
        "#### Prueba 2"
      ],
      "metadata": {
        "id": "EaVL3V55Youc"
      }
    },
    {
      "cell_type": "code",
      "source": [
        "parametros = {\n",
        "    'hidden_layer_sizes': [(100, 50), (120, 60), (80, 40)],\n",
        "    'alpha': [0.0005, 0.001, 0.0015],\n",
        "    'max_iter': [400]\n",
        "}\n",
        "\n",
        "kf = KFold(n_splits=4, shuffle=True, random_state=4)\n",
        "\n",
        "gridscv = GridSearchCV(MLPClassifier(random_state=42, solver='adam', early_stopping=True),\n",
        "                       parametros,\n",
        "                       scoring='accuracy',\n",
        "                       cv=kf,\n",
        "                       n_jobs=-1,\n",
        "                       refit=True)\n",
        "\n",
        "model_result = gridscv.fit(x_train_scaled, y_train)"
      ],
      "metadata": {
        "id": "ZbAjZ9PqY9j2"
      },
      "execution_count": null,
      "outputs": []
    },
    {
      "cell_type": "markdown",
      "source": [
        "#### Resultados"
      ],
      "metadata": {
        "id": "5gXSvHLkYrXY"
      }
    },
    {
      "cell_type": "code",
      "source": [
        "print(\"Resultado training (Best Parameters):\")\n",
        "print(model_result.best_params_)\n",
        "print(\"\\n\")\n",
        "print('Accuracy (on Training Data):')\n",
        "print(f\"{(model_result.best_score_*100):.2f}%\")\n",
        "print(\"\\n\")\n",
        "\n",
        "y_pred = model_result.predict(x_test_scaled)\n",
        "\n",
        "print('Accuracy (on Test Data):')\n",
        "print(f\"{(model_result.score(x_test_scaled, y_test)*100):.2f}%\")\n",
        "print(\"\\n\")\n",
        "\n",
        "print(\"Classification Report (on Test Data):\")\n",
        "print(classification_report(y_test, y_pred))\n",
        "print(\"\\n\")\n",
        "\n",
        "print(\"Confusion Matrix (on Test Data):\")\n",
        "print(confusion_matrix(y_test, y_pred))"
      ],
      "metadata": {
        "colab": {
          "base_uri": "https://localhost:8080/"
        },
        "id": "WRfHIfwGZACA",
        "outputId": "b205bcd5-cff5-4441-8689-b006920e99ad"
      },
      "execution_count": null,
      "outputs": [
        {
          "output_type": "stream",
          "name": "stdout",
          "text": [
            "Resultado training (Best Parameters):\n",
            "{'alpha': 0.0005, 'hidden_layer_sizes': (100, 50), 'max_iter': 400}\n",
            "\n",
            "\n",
            "Accuracy (on Training Data):\n",
            "70.41%\n",
            "\n",
            "\n",
            "Accuracy (on Test Data):\n",
            "70.53%\n",
            "\n",
            "\n",
            "Classification Report (on Test Data):\n",
            "              precision    recall  f1-score   support\n",
            "\n",
            "           0       0.72      0.69      0.70      2275\n",
            "           1       0.69      0.72      0.71      2225\n",
            "\n",
            "    accuracy                           0.71      4500\n",
            "   macro avg       0.71      0.71      0.71      4500\n",
            "weighted avg       0.71      0.71      0.71      4500\n",
            "\n",
            "\n",
            "\n",
            "Confusion Matrix (on Test Data):\n",
            "[[1561  714]\n",
            " [ 612 1613]]\n"
          ]
        }
      ]
    },
    {
      "cell_type": "markdown",
      "source": [
        "#### Prueba 3"
      ],
      "metadata": {
        "id": "IpIG_GWV2g4S"
      }
    },
    {
      "cell_type": "code",
      "source": [
        "parametros = {\n",
        "    'hidden_layer_sizes': [(100,), (100, 50), (120, 60), (100, 50, 25)],\n",
        "    'alpha': [0.0003, 0.0005, 0.001],\n",
        "    'max_iter': [500]\n",
        "}\n",
        "\n",
        "\n",
        "kf = KFold(n_splits=4, shuffle=True, random_state=4)\n",
        "\n",
        "gridscv = GridSearchCV(MLPClassifier(random_state=42, solver='adam', early_stopping=True),\n",
        "                       parametros,\n",
        "                       scoring='accuracy',\n",
        "                       cv=kf,\n",
        "                       n_jobs=-1,\n",
        "                       refit=True)\n",
        "\n",
        "model_result = gridscv.fit(x_train_scaled, y_train)"
      ],
      "metadata": {
        "id": "6wbGSX9V2jAq"
      },
      "execution_count": null,
      "outputs": []
    },
    {
      "cell_type": "markdown",
      "source": [
        "#### Resultados"
      ],
      "metadata": {
        "id": "o_oQT_yR2x3s"
      }
    },
    {
      "cell_type": "code",
      "source": [
        "print(\"Resultado training (Best Parameters):\")\n",
        "print(model_result.best_params_)\n",
        "print(\"\\n\")\n",
        "print('Accuracy (on Training Data):')\n",
        "print(f\"{(model_result.best_score_*100):.2f}%\")\n",
        "print(\"\\n\")\n",
        "\n",
        "y_pred = model_result.predict(x_test_scaled)\n",
        "\n",
        "print('Accuracy (on Test Data):')\n",
        "print(f\"{(model_result.score(x_test_scaled, y_test)*100):.2f}%\")\n",
        "print(\"\\n\")\n",
        "\n",
        "print(\"Classification Report (on Test Data):\")\n",
        "print(classification_report(y_test, y_pred))\n",
        "print(\"\\n\")\n",
        "\n",
        "print(\"Confusion Matrix (on Test Data):\")\n",
        "print(confusion_matrix(y_test, y_pred))"
      ],
      "metadata": {
        "colab": {
          "base_uri": "https://localhost:8080/"
        },
        "id": "vP1Vx9Cx2zkk",
        "outputId": "59362095-cfa7-4982-9ce0-4aeb2a93b4ed"
      },
      "execution_count": null,
      "outputs": [
        {
          "output_type": "stream",
          "name": "stdout",
          "text": [
            "Resultado training (Best Parameters):\n",
            "{'alpha': 0.0003, 'hidden_layer_sizes': (100, 50), 'max_iter': 500}\n",
            "\n",
            "\n",
            "Accuracy (on Training Data):\n",
            "70.43%\n",
            "\n",
            "\n",
            "Accuracy (on Test Data):\n",
            "70.53%\n",
            "\n",
            "\n",
            "Classification Report (on Test Data):\n",
            "              precision    recall  f1-score   support\n",
            "\n",
            "           0       0.72      0.68      0.70      2275\n",
            "           1       0.69      0.73      0.71      2225\n",
            "\n",
            "    accuracy                           0.71      4500\n",
            "   macro avg       0.71      0.71      0.71      4500\n",
            "weighted avg       0.71      0.71      0.71      4500\n",
            "\n",
            "\n",
            "\n",
            "Confusion Matrix (on Test Data):\n",
            "[[1555  720]\n",
            " [ 606 1619]]\n"
          ]
        }
      ]
    },
    {
      "cell_type": "markdown",
      "source": [
        "La estrategía de parámetros se llevó a cabo mediante un enfoque iterativo utilizando GridSearchCV, centrado en explorar diferentes configuraciones de capas ocultas (hidden_layer_sizes), el parámetro de regularización L2 (alpha) y el número máximo de iteraciones (max_iter). La Prueba 1 exploró una gama inicial de tamaños de capas ocultas simples y dobles [(20,), (15,), (10,)], junto con valores básicos de alpha ([0.0001, 0.001]) y un max_iter de 150, estableciendo un punto de partida. Basándose en los resultados y la necesidad de explorar redes potencialmente más complejas, la Prueba 2 amplió el espacio de búsqueda para hidden_layer_sizes a configuraciones de dos capas con más neuronas [(100, 50), (120, 60), (80, 40)], ajustó el rango de alpha ([0.0005, 0.001, 0.0015]) y aumentó max_iter a 400. Finalmente, la Prueba 3 continuó refinando la búsqueda incluyendo estructuras de capas ocultas de una, dos y tres capas [(100,), (100, 50), (120, 60), (100, 50, 25)], exploró un rango de alpha ligeramente diferente [0.0003, 0.0005, 0.001] y aumentó max_iter a 500. El objetivo principal de esta estrategia iterativa fue identificar la arquitectura y parámetros de regularización que mejor se adaptaran a los datos escalados para optimizar el rendimiento de clasificación, logrando una la mejor solución para el modelo."
      ],
      "metadata": {
        "id": "9y-3b1q7ZCMQ"
      }
    },
    {
      "cell_type": "markdown",
      "source": [
        "### Redes neuronales profundas"
      ],
      "metadata": {
        "id": "vfm2-SCfYxbg"
      }
    },
    {
      "cell_type": "markdown",
      "source": [
        "Procedemos a crear el modelo, tenemos que instalar scikeras previamente."
      ],
      "metadata": {
        "id": "bcgytDwhs4YB"
      }
    },
    {
      "cell_type": "code",
      "source": [
        "!pip install --upgrade scikeras[tensorflow]==0.13.0 tensorflow scikit-learn"
      ],
      "metadata": {
        "id": "oHVMA9CJwqQV"
      },
      "execution_count": null,
      "outputs": []
    },
    {
      "cell_type": "code",
      "source": [
        "import scikeras\n",
        "import tensorflow as tf\n",
        "\n",
        "print(f\"Scikeras version: {scikeras.__version__}\")\n",
        "print(f\"Tensorflow version: {tf.__version__}\")"
      ],
      "metadata": {
        "id": "tQuF3yVkze91",
        "outputId": "af0d8963-5b1d-4ebc-efe1-03c79d6bc4a6",
        "colab": {
          "base_uri": "https://localhost:8080/"
        }
      },
      "execution_count": null,
      "outputs": [
        {
          "output_type": "stream",
          "name": "stdout",
          "text": [
            "Scikeras version: 0.13.0\n",
            "Tensorflow version: 2.19.0\n"
          ]
        }
      ]
    },
    {
      "cell_type": "code",
      "source": [
        "from tensorflow.keras.models import Sequential\n",
        "from tensorflow.keras.layers import Dense, Dropout\n",
        "from tensorflow.keras.optimizers import Adam, SGD\n",
        "from scikeras.wrappers import KerasClassifier\n",
        "from tensorflow.keras import regularizers\n",
        "from tensorflow.keras.callbacks import EarlyStopping\n",
        "\n",
        "def build_model(hidden_layer_sizes=(100,),\n",
        "                alpha=0.0001,\n",
        "                dropout_rate=0.0,\n",
        "                l2_penalty=0.001,\n",
        "                activation='relu',\n",
        "                kernel_initializer='he_normal',\n",
        "                optimizer_name='adam'):\n",
        "    model = Sequential()\n",
        "    model.add(Dense(hidden_layer_sizes[0],\n",
        "                    input_dim=x_train_scaled.shape[1],\n",
        "                    activation=activation,\n",
        "                    kernel_initializer=kernel_initializer,\n",
        "                    kernel_regularizer=regularizers.l2(l2_penalty)))\n",
        "    if dropout_rate > 0:\n",
        "        model.add(Dropout(dropout_rate))\n",
        "    for units in hidden_layer_sizes[1:]:\n",
        "        model.add(Dense(units,\n",
        "                        activation=activation,\n",
        "                        kernel_initializer=kernel_initializer,\n",
        "                        kernel_regularizer=regularizers.l2(l2_penalty)))\n",
        "        if dropout_rate > 0:\n",
        "            model.add(Dropout(dropout_rate))\n",
        "    model.add(Dense(1, activation='sigmoid'))\n",
        "\n",
        "    if optimizer_name == 'adam':\n",
        "        optimizer = Adam(learning_rate=alpha)\n",
        "    elif optimizer_name == 'sgd':\n",
        "        optimizer = SGD(learning_rate=alpha, momentum=0.9)\n",
        "    else:\n",
        "        raise ValueError(f\"Optimizer '{optimizer_name}' no soportado\")\n",
        "\n",
        "    model.compile(optimizer=optimizer,\n",
        "                  loss='binary_crossentropy',\n",
        "                  metrics=['accuracy'])\n",
        "    return model\n",
        "base_model = KerasClassifier(model=build_model, verbose=0, random_state=42)"
      ],
      "metadata": {
        "id": "3Y50Eh6es66e"
      },
      "execution_count": null,
      "outputs": []
    },
    {
      "cell_type": "markdown",
      "source": [
        "#### Prueba 1"
      ],
      "metadata": {
        "id": "I2G39yaLZN0N"
      }
    },
    {
      "cell_type": "code",
      "source": [
        "scaler = StandardScaler()\n",
        "x_train_scaled = scaler.fit_transform(x_train)\n",
        "x_test_scaled = scaler.transform(x_test)\n",
        "\n",
        "chosen_hidden_layers = (256, 128, 64, 32)\n",
        "chosen_alpha = 0.0003\n",
        "chosen_dropout_rate = 0.4\n",
        "chosen_l2_penalty = 0.001\n",
        "chosen_activation = 'relu'\n",
        "chosen_optimizer = 'adam'\n",
        "chosen_epochs = 7\n",
        "chosen_batch_size = 28\n",
        "\n",
        "early_stop = EarlyStopping(monitor='val_loss', patience=5, restore_best_weights=True)\n",
        "\n",
        "keras_model = KerasClassifier(\n",
        "    model=build_model,\n",
        "    hidden_layer_sizes=chosen_hidden_layers,\n",
        "    alpha=chosen_alpha,\n",
        "    dropout_rate=chosen_dropout_rate,\n",
        "    l2_penalty=chosen_l2_penalty,\n",
        "    activation=chosen_activation,\n",
        "    optimizer_name=chosen_optimizer,\n",
        "    epochs=chosen_epochs,\n",
        "    batch_size=chosen_batch_size,\n",
        "    verbose=1,\n",
        "    random_state=42\n",
        ")\n",
        "\n",
        "model_result = keras_model.fit(x_train_scaled, y_train, validation_split=0.1,\n",
        "    callbacks=[early_stop])"
      ],
      "metadata": {
        "colab": {
          "base_uri": "https://localhost:8080/"
        },
        "id": "WlO9xhx5ZM1A",
        "outputId": "d5f1a92e-bd4a-49a1-9f90-7c8b8ef1829b"
      },
      "execution_count": null,
      "outputs": [
        {
          "output_type": "stream",
          "name": "stderr",
          "text": [
            "/usr/local/lib/python3.11/dist-packages/keras/src/layers/core/dense.py:87: UserWarning: Do not pass an `input_shape`/`input_dim` argument to a layer. When using Sequential models, prefer using an `Input(shape)` object as the first layer in the model instead.\n",
            "  super().__init__(activity_regularizer=activity_regularizer, **kwargs)\n"
          ]
        },
        {
          "output_type": "stream",
          "name": "stdout",
          "text": [
            "Epoch 1/7\n",
            "\u001b[1m338/338\u001b[0m \u001b[32m━━━━━━━━━━━━━━━━━━━━\u001b[0m\u001b[37m\u001b[0m \u001b[1m32s\u001b[0m 21ms/step - accuracy: 0.5124 - loss: 1.9923 - val_accuracy: 0.5314 - val_loss: 1.5151\n",
            "Epoch 2/7\n",
            "\u001b[1m338/338\u001b[0m \u001b[32m━━━━━━━━━━━━━━━━━━━━\u001b[0m\u001b[37m\u001b[0m \u001b[1m6s\u001b[0m 18ms/step - accuracy: 0.5258 - loss: 1.5489 - val_accuracy: 0.5714 - val_loss: 1.4720\n",
            "Epoch 3/7\n",
            "\u001b[1m338/338\u001b[0m \u001b[32m━━━━━━━━━━━━━━━━━━━━\u001b[0m\u001b[37m\u001b[0m \u001b[1m7s\u001b[0m 21ms/step - accuracy: 0.5361 - loss: 1.4878 - val_accuracy: 0.5971 - val_loss: 1.4348\n",
            "Epoch 4/7\n",
            "\u001b[1m338/338\u001b[0m \u001b[32m━━━━━━━━━━━━━━━━━━━━\u001b[0m\u001b[37m\u001b[0m \u001b[1m6s\u001b[0m 17ms/step - accuracy: 0.5629 - loss: 1.4263 - val_accuracy: 0.6648 - val_loss: 1.3857\n",
            "Epoch 5/7\n",
            "\u001b[1m338/338\u001b[0m \u001b[32m━━━━━━━━━━━━━━━━━━━━\u001b[0m\u001b[37m\u001b[0m \u001b[1m7s\u001b[0m 20ms/step - accuracy: 0.6232 - loss: 1.3548 - val_accuracy: 0.7076 - val_loss: 1.2975\n",
            "Epoch 6/7\n",
            "\u001b[1m338/338\u001b[0m \u001b[32m━━━━━━━━━━━━━━━━━━━━\u001b[0m\u001b[37m\u001b[0m \u001b[1m10s\u001b[0m 20ms/step - accuracy: 0.7151 - loss: 1.2444 - val_accuracy: 0.7390 - val_loss: 1.2240\n",
            "Epoch 7/7\n",
            "\u001b[1m338/338\u001b[0m \u001b[32m━━━━━━━━━━━━━━━━━━━━\u001b[0m\u001b[37m\u001b[0m \u001b[1m7s\u001b[0m 20ms/step - accuracy: 0.8000 - loss: 1.1072 - val_accuracy: 0.7467 - val_loss: 1.2175\n"
          ]
        }
      ]
    },
    {
      "cell_type": "markdown",
      "source": [
        "#### Resultados"
      ],
      "metadata": {
        "id": "MT0ERiyAZQZ7"
      }
    },
    {
      "cell_type": "code",
      "source": [
        "print(\"\\n--- Resultados del modelo ---\")\n",
        "\n",
        "print(\"Parámetros utilizados:\")\n",
        "print(f\"  hidden_layer_sizes: {chosen_hidden_layers}\")\n",
        "print(f\"  alpha (learning_rate): {chosen_alpha}\")\n",
        "print(f\"  dropout_rate: {chosen_dropout_rate}\")\n",
        "print(f\"  epochs: {chosen_epochs}\")\n",
        "print(f\"  batch_size: {chosen_batch_size}\")\n",
        "print(\"\\n\")\n",
        "\n",
        "train_results = keras_model.model_.evaluate(x_train_scaled, y_train, verbose=0)\n",
        "train_loss = train_results[0]\n",
        "train_accuracy = train_results[1]\n",
        "\n",
        "print('Accuracy (on Training Data):')\n",
        "print(f\"{(train_accuracy*100):.2f}%\")\n",
        "print(\"\\n\")\n",
        "\n",
        "y_pred_probs = keras_model.predict(x_test_scaled)\n",
        "y_pred_classes = (y_pred_probs > 0.5).astype(\"int32\")\n",
        "\n",
        "test_results = keras_model.model_.evaluate(x_test_scaled, y_test, verbose=0)\n",
        "test_loss = test_results[0]\n",
        "test_accuracy = test_results[1]\n",
        "\n",
        "print('Accuracy (on Test Data):')\n",
        "print(f\"{(test_accuracy*100):.2f}%\")\n",
        "print(\"\\n\")\n",
        "\n",
        "print(\"Classification Report (on Test Data):\")\n",
        "print(classification_report(y_test, y_pred_classes))\n",
        "print(\"\\n\")\n",
        "\n",
        "print(\"Confusion Matrix (on Test Data):\")\n",
        "cm = confusion_matrix(y_test, y_pred_classes)\n",
        "print(cm)"
      ],
      "metadata": {
        "id": "3kRHqokPZRvo",
        "colab": {
          "base_uri": "https://localhost:8080/"
        },
        "outputId": "d2fe08ec-5d02-4bc5-e700-d29db3797668"
      },
      "execution_count": null,
      "outputs": [
        {
          "output_type": "stream",
          "name": "stdout",
          "text": [
            "\n",
            "--- Resultados del modelo ---\n",
            "Parámetros utilizados:\n",
            "  hidden_layer_sizes: (256, 128, 64, 32)\n",
            "  alpha (learning_rate): 0.0003\n",
            "  dropout_rate: 0.4\n",
            "  epochs: 7\n",
            "  batch_size: 28\n",
            "\n",
            "\n",
            "Accuracy (on Training Data):\n",
            "91.00%\n",
            "\n",
            "\n",
            "\u001b[1m161/161\u001b[0m \u001b[32m━━━━━━━━━━━━━━━━━━━━\u001b[0m\u001b[37m\u001b[0m \u001b[1m1s\u001b[0m 4ms/step\n",
            "Accuracy (on Test Data):\n",
            "70.04%\n",
            "\n",
            "\n",
            "Classification Report (on Test Data):\n",
            "              precision    recall  f1-score   support\n",
            "\n",
            "           0       0.69      0.73      0.71      2266\n",
            "           1       0.71      0.67      0.69      2234\n",
            "\n",
            "    accuracy                           0.70      4500\n",
            "   macro avg       0.70      0.70      0.70      4500\n",
            "weighted avg       0.70      0.70      0.70      4500\n",
            "\n",
            "\n",
            "\n",
            "Confusion Matrix (on Test Data):\n",
            "[[1647  619]\n",
            " [ 729 1505]]\n"
          ]
        }
      ]
    },
    {
      "cell_type": "markdown",
      "source": [
        "#### Prueba 2"
      ],
      "metadata": {
        "id": "k4eraX2FZSOg"
      }
    },
    {
      "cell_type": "code",
      "source": [
        "chosen_hidden_layers = (256, 128, 64, 32)\n",
        "chosen_alpha = 0.0001\n",
        "chosen_dropout_rate = 0.5\n",
        "chosen_l2_penalty = 0.005\n",
        "chosen_activation = 'relu'\n",
        "chosen_optimizer = 'adam'\n",
        "chosen_epochs = 25\n",
        "chosen_batch_size = 32\n",
        "\n",
        "early_stop = EarlyStopping(monitor='val_loss', patience=5, restore_best_weights=True)\n",
        "\n",
        "keras_model = KerasClassifier(\n",
        "    model=build_model,\n",
        "    hidden_layer_sizes=chosen_hidden_layers,\n",
        "    alpha=chosen_alpha,\n",
        "    dropout_rate=chosen_dropout_rate,\n",
        "    l2_penalty=chosen_l2_penalty,\n",
        "    activation=chosen_activation,\n",
        "    optimizer_name=chosen_optimizer,\n",
        "    epochs=chosen_epochs,\n",
        "    batch_size=chosen_batch_size,\n",
        "    verbose=1,\n",
        "    random_state=42\n",
        ")\n",
        "\n",
        "model_result = keras_model.fit(x_train_scaled, y_train, validation_split=0.1,\n",
        "    callbacks=[early_stop])"
      ],
      "metadata": {
        "id": "91XdjdtYZUKE",
        "colab": {
          "base_uri": "https://localhost:8080/"
        },
        "outputId": "ac74fa5f-8beb-41d0-8800-ae4e14f507d2"
      },
      "execution_count": null,
      "outputs": [
        {
          "output_type": "stream",
          "name": "stderr",
          "text": [
            "/usr/local/lib/python3.11/dist-packages/keras/src/layers/core/dense.py:87: UserWarning: Do not pass an `input_shape`/`input_dim` argument to a layer. When using Sequential models, prefer using an `Input(shape)` object as the first layer in the model instead.\n",
            "  super().__init__(activity_regularizer=activity_regularizer, **kwargs)\n"
          ]
        },
        {
          "output_type": "stream",
          "name": "stdout",
          "text": [
            "Epoch 1/25\n",
            "\u001b[1m296/296\u001b[0m \u001b[32m━━━━━━━━━━━━━━━━━━━━\u001b[0m\u001b[37m\u001b[0m \u001b[1m12s\u001b[0m 29ms/step - accuracy: 0.4952 - loss: 6.3022 - val_accuracy: 0.5029 - val_loss: 4.7718\n",
            "Epoch 2/25\n",
            "\u001b[1m296/296\u001b[0m \u001b[32m━━━━━━━━━━━━━━━━━━━━\u001b[0m\u001b[37m\u001b[0m \u001b[1m7s\u001b[0m 17ms/step - accuracy: 0.4968 - loss: 5.1275 - val_accuracy: 0.5029 - val_loss: 4.5135\n",
            "Epoch 3/25\n",
            "\u001b[1m296/296\u001b[0m \u001b[32m━━━━━━━━━━━━━━━━━━━━\u001b[0m\u001b[37m\u001b[0m \u001b[1m6s\u001b[0m 20ms/step - accuracy: 0.5025 - loss: 4.6842 - val_accuracy: 0.5105 - val_loss: 4.3480\n",
            "Epoch 4/25\n",
            "\u001b[1m296/296\u001b[0m \u001b[32m━━━━━━━━━━━━━━━━━━━━\u001b[0m\u001b[37m\u001b[0m \u001b[1m10s\u001b[0m 18ms/step - accuracy: 0.5005 - loss: 4.4637 - val_accuracy: 0.5086 - val_loss: 4.2015\n",
            "Epoch 5/25\n",
            "\u001b[1m296/296\u001b[0m \u001b[32m━━━━━━━━━━━━━━━━━━━━\u001b[0m\u001b[37m\u001b[0m \u001b[1m6s\u001b[0m 22ms/step - accuracy: 0.5200 - loss: 4.2461 - val_accuracy: 0.5200 - val_loss: 4.0550\n",
            "Epoch 6/25\n",
            "\u001b[1m296/296\u001b[0m \u001b[32m━━━━━━━━━━━━━━━━━━━━\u001b[0m\u001b[37m\u001b[0m \u001b[1m5s\u001b[0m 18ms/step - accuracy: 0.5190 - loss: 4.0749 - val_accuracy: 0.5238 - val_loss: 3.9033\n",
            "Epoch 7/25\n",
            "\u001b[1m296/296\u001b[0m \u001b[32m━━━━━━━━━━━━━━━━━━━━\u001b[0m\u001b[37m\u001b[0m \u001b[1m6s\u001b[0m 21ms/step - accuracy: 0.5205 - loss: 3.9064 - val_accuracy: 0.5400 - val_loss: 3.7461\n",
            "Epoch 8/25\n",
            "\u001b[1m296/296\u001b[0m \u001b[32m━━━━━━━━━━━━━━━━━━━━\u001b[0m\u001b[37m\u001b[0m \u001b[1m9s\u001b[0m 17ms/step - accuracy: 0.5129 - loss: 3.7373 - val_accuracy: 0.5476 - val_loss: 3.5834\n",
            "Epoch 9/25\n",
            "\u001b[1m296/296\u001b[0m \u001b[32m━━━━━━━━━━━━━━━━━━━━\u001b[0m\u001b[37m\u001b[0m \u001b[1m10s\u001b[0m 17ms/step - accuracy: 0.5252 - loss: 3.5685 - val_accuracy: 0.5467 - val_loss: 3.4153\n",
            "Epoch 10/25\n",
            "\u001b[1m296/296\u001b[0m \u001b[32m━━━━━━━━━━━━━━━━━━━━\u001b[0m\u001b[37m\u001b[0m \u001b[1m6s\u001b[0m 21ms/step - accuracy: 0.5250 - loss: 3.3887 - val_accuracy: 0.5457 - val_loss: 3.2432\n",
            "Epoch 11/25\n",
            "\u001b[1m296/296\u001b[0m \u001b[32m━━━━━━━━━━━━━━━━━━━━\u001b[0m\u001b[37m\u001b[0m \u001b[1m6s\u001b[0m 21ms/step - accuracy: 0.5267 - loss: 3.2040 - val_accuracy: 0.5400 - val_loss: 3.0678\n",
            "Epoch 12/25\n",
            "\u001b[1m296/296\u001b[0m \u001b[32m━━━━━━━━━━━━━━━━━━━━\u001b[0m\u001b[37m\u001b[0m \u001b[1m10s\u001b[0m 20ms/step - accuracy: 0.5447 - loss: 3.0247 - val_accuracy: 0.5486 - val_loss: 2.8901\n",
            "Epoch 13/25\n",
            "\u001b[1m296/296\u001b[0m \u001b[32m━━━━━━━━━━━━━━━━━━━━\u001b[0m\u001b[37m\u001b[0m \u001b[1m5s\u001b[0m 18ms/step - accuracy: 0.5404 - loss: 2.8441 - val_accuracy: 0.5648 - val_loss: 2.7121\n",
            "Epoch 14/25\n",
            "\u001b[1m296/296\u001b[0m \u001b[32m━━━━━━━━━━━━━━━━━━━━\u001b[0m\u001b[37m\u001b[0m \u001b[1m10s\u001b[0m 18ms/step - accuracy: 0.5590 - loss: 2.6592 - val_accuracy: 0.5848 - val_loss: 2.5348\n",
            "Epoch 15/25\n",
            "\u001b[1m296/296\u001b[0m \u001b[32m━━━━━━━━━━━━━━━━━━━━\u001b[0m\u001b[37m\u001b[0m \u001b[1m7s\u001b[0m 22ms/step - accuracy: 0.5671 - loss: 2.4826 - val_accuracy: 0.6124 - val_loss: 2.3589\n",
            "Epoch 16/25\n",
            "\u001b[1m296/296\u001b[0m \u001b[32m━━━━━━━━━━━━━━━━━━━━\u001b[0m\u001b[37m\u001b[0m \u001b[1m6s\u001b[0m 19ms/step - accuracy: 0.5997 - loss: 2.2991 - val_accuracy: 0.6571 - val_loss: 2.1838\n",
            "Epoch 17/25\n",
            "\u001b[1m296/296\u001b[0m \u001b[32m━━━━━━━━━━━━━━━━━━━━\u001b[0m\u001b[37m\u001b[0m \u001b[1m10s\u001b[0m 18ms/step - accuracy: 0.6120 - loss: 2.1225 - val_accuracy: 0.6943 - val_loss: 2.0057\n",
            "Epoch 18/25\n",
            "\u001b[1m296/296\u001b[0m \u001b[32m━━━━━━━━━━━━━━━━━━━━\u001b[0m\u001b[37m\u001b[0m \u001b[1m11s\u001b[0m 20ms/step - accuracy: 0.6780 - loss: 1.9334 - val_accuracy: 0.7171 - val_loss: 1.8331\n",
            "Epoch 19/25\n",
            "\u001b[1m296/296\u001b[0m \u001b[32m━━━━━━━━━━━━━━━━━━━━\u001b[0m\u001b[37m\u001b[0m \u001b[1m11s\u001b[0m 22ms/step - accuracy: 0.7511 - loss: 1.7394 - val_accuracy: 0.7295 - val_loss: 1.6802\n",
            "Epoch 20/25\n",
            "\u001b[1m296/296\u001b[0m \u001b[32m━━━━━━━━━━━━━━━━━━━━\u001b[0m\u001b[37m\u001b[0m \u001b[1m6s\u001b[0m 19ms/step - accuracy: 0.8046 - loss: 1.5398 - val_accuracy: 0.7200 - val_loss: 1.5936\n",
            "Epoch 21/25\n",
            "\u001b[1m296/296\u001b[0m \u001b[32m━━━━━━━━━━━━━━━━━━━━\u001b[0m\u001b[37m\u001b[0m \u001b[1m10s\u001b[0m 17ms/step - accuracy: 0.8381 - loss: 1.3648 - val_accuracy: 0.7181 - val_loss: 1.5504\n",
            "Epoch 22/25\n",
            "\u001b[1m296/296\u001b[0m \u001b[32m━━━━━━━━━━━━━━━━━━━━\u001b[0m\u001b[37m\u001b[0m \u001b[1m5s\u001b[0m 18ms/step - accuracy: 0.8814 - loss: 1.2000 - val_accuracy: 0.7276 - val_loss: 1.5363\n",
            "Epoch 23/25\n",
            "\u001b[1m296/296\u001b[0m \u001b[32m━━━━━━━━━━━━━━━━━━━━\u001b[0m\u001b[37m\u001b[0m \u001b[1m10s\u001b[0m 17ms/step - accuracy: 0.9029 - loss: 1.0774 - val_accuracy: 0.7238 - val_loss: 1.5407\n",
            "Epoch 24/25\n",
            "\u001b[1m296/296\u001b[0m \u001b[32m━━━━━━━━━━━━━━━━━━━━\u001b[0m\u001b[37m\u001b[0m \u001b[1m7s\u001b[0m 25ms/step - accuracy: 0.9266 - loss: 0.9654 - val_accuracy: 0.7171 - val_loss: 1.5559\n",
            "Epoch 25/25\n",
            "\u001b[1m296/296\u001b[0m \u001b[32m━━━━━━━━━━━━━━━━━━━━\u001b[0m\u001b[37m\u001b[0m \u001b[1m6s\u001b[0m 19ms/step - accuracy: 0.9381 - loss: 0.8582 - val_accuracy: 0.7171 - val_loss: 1.5998\n"
          ]
        }
      ]
    },
    {
      "cell_type": "markdown",
      "source": [
        "#### Resultados"
      ],
      "metadata": {
        "id": "piGw2e6uZUp7"
      }
    },
    {
      "cell_type": "code",
      "source": [
        "print(\"\\n--- Resultados del modelo ---\")\n",
        "\n",
        "print(\"Parámetros utilizados:\")\n",
        "print(f\"  hidden_layer_sizes: {chosen_hidden_layers}\")\n",
        "print(f\"  alpha (learning_rate): {chosen_alpha}\")\n",
        "print(f\"  dropout_rate: {chosen_dropout_rate}\")\n",
        "print(f\"  epochs: {chosen_epochs}\")\n",
        "print(f\"  batch_size: {chosen_batch_size}\")\n",
        "print(\"\\n\")\n",
        "\n",
        "train_results = keras_model.model_.evaluate(x_train_scaled, y_train, verbose=0)\n",
        "train_loss = train_results[0]\n",
        "train_accuracy = train_results[1]\n",
        "\n",
        "print('Accuracy (on Training Data):')\n",
        "print(f\"{(train_accuracy*100):.2f}%\")\n",
        "print(\"\\n\")\n",
        "\n",
        "y_pred_probs = keras_model.predict(x_test_scaled)\n",
        "y_pred_classes = (y_pred_probs > 0.5).astype(\"int32\")\n",
        "\n",
        "test_results = keras_model.model_.evaluate(x_test_scaled, y_test, verbose=0)\n",
        "test_loss = test_results[0]\n",
        "test_accuracy = test_results[1]\n",
        "\n",
        "print('Accuracy (on Test Data):')\n",
        "print(f\"{(test_accuracy*100):.2f}%\")\n",
        "print(\"\\n\")\n",
        "\n",
        "print(\"Classification Report (on Test Data):\")\n",
        "print(classification_report(y_test, y_pred_classes))\n",
        "print(\"\\n\")\n",
        "\n",
        "print(\"Confusion Matrix (on Test Data):\")\n",
        "cm = confusion_matrix(y_test, y_pred_classes)\n",
        "print(cm)"
      ],
      "metadata": {
        "id": "K3CWYW-AZV4o",
        "colab": {
          "base_uri": "https://localhost:8080/"
        },
        "outputId": "8dc26307-3ef1-4c74-cb1c-401cded2aa26"
      },
      "execution_count": null,
      "outputs": [
        {
          "output_type": "stream",
          "name": "stdout",
          "text": [
            "\n",
            "--- Resultados del modelo ---\n",
            "Parámetros utilizados:\n",
            "  hidden_layer_sizes: (256, 128, 64, 32)\n",
            "  alpha (learning_rate): 0.0001\n",
            "  dropout_rate: 0.5\n",
            "  epochs: 25\n",
            "  batch_size: 32\n",
            "\n",
            "\n",
            "Accuracy (on Training Data):\n",
            "95.90%\n",
            "\n",
            "\n",
            "\u001b[1m141/141\u001b[0m \u001b[32m━━━━━━━━━━━━━━━━━━━━\u001b[0m\u001b[37m\u001b[0m \u001b[1m1s\u001b[0m 4ms/step\n",
            "Accuracy (on Test Data):\n",
            "70.60%\n",
            "\n",
            "\n",
            "Classification Report (on Test Data):\n",
            "              precision    recall  f1-score   support\n",
            "\n",
            "           0       0.71      0.69      0.70      2266\n",
            "           1       0.70      0.72      0.71      2234\n",
            "\n",
            "    accuracy                           0.71      4500\n",
            "   macro avg       0.71      0.71      0.71      4500\n",
            "weighted avg       0.71      0.71      0.71      4500\n",
            "\n",
            "\n",
            "\n",
            "Confusion Matrix (on Test Data):\n",
            "[[1573  693]\n",
            " [ 630 1604]]\n"
          ]
        }
      ]
    },
    {
      "cell_type": "markdown",
      "source": [
        "#### Prueba 3"
      ],
      "metadata": {
        "id": "IoG-Tgz-dpvx"
      }
    },
    {
      "cell_type": "code",
      "source": [
        "chosen_hidden_layers = (148, 80, 30)\n",
        "chosen_alpha = 0.0001\n",
        "chosen_dropout_rate = 0.4\n",
        "chosen_l2_penalty = 0.005\n",
        "chosen_activation = 'relu'\n",
        "chosen_optimizer = 'adam'\n",
        "chosen_epochs = 50\n",
        "chosen_batch_size = 128\n",
        "\n",
        "early_stop = EarlyStopping(monitor='val_loss', patience=5, restore_best_weights=True)\n",
        "\n",
        "keras_model = KerasClassifier(\n",
        "    model=build_model,\n",
        "    hidden_layer_sizes=chosen_hidden_layers,\n",
        "    alpha=chosen_alpha,\n",
        "    dropout_rate=chosen_dropout_rate,\n",
        "    l2_penalty=chosen_l2_penalty,\n",
        "    activation=chosen_activation,\n",
        "    optimizer_name=chosen_optimizer,\n",
        "    epochs=chosen_epochs,\n",
        "    batch_size=chosen_batch_size,\n",
        "    verbose=1,\n",
        "    random_state=42\n",
        ")\n",
        "\n",
        "model_result = keras_model.fit(x_train_scaled, y_train, validation_split=0.1,\n",
        "    callbacks=[early_stop])"
      ],
      "metadata": {
        "colab": {
          "base_uri": "https://localhost:8080/"
        },
        "id": "0MgOpI5ad0Qj",
        "outputId": "4d5d98da-3a0b-47a8-9d73-c9a005473417"
      },
      "execution_count": null,
      "outputs": [
        {
          "output_type": "stream",
          "name": "stderr",
          "text": [
            "/usr/local/lib/python3.11/dist-packages/keras/src/layers/core/dense.py:87: UserWarning: Do not pass an `input_shape`/`input_dim` argument to a layer. When using Sequential models, prefer using an `Input(shape)` object as the first layer in the model instead.\n",
            "  super().__init__(activity_regularizer=activity_regularizer, **kwargs)\n"
          ]
        },
        {
          "output_type": "stream",
          "name": "stdout",
          "text": [
            "Epoch 1/50\n",
            "\u001b[1m74/74\u001b[0m \u001b[32m━━━━━━━━━━━━━━━━━━━━\u001b[0m\u001b[37m\u001b[0m \u001b[1m5s\u001b[0m 36ms/step - accuracy: 0.5056 - loss: 4.1092 - val_accuracy: 0.5381 - val_loss: 3.1722\n",
            "Epoch 2/50\n",
            "\u001b[1m74/74\u001b[0m \u001b[32m━━━━━━━━━━━━━━━━━━━━\u001b[0m\u001b[37m\u001b[0m \u001b[1m4s\u001b[0m 18ms/step - accuracy: 0.5367 - loss: 3.3939 - val_accuracy: 0.5552 - val_loss: 3.0099\n",
            "Epoch 3/50\n",
            "\u001b[1m74/74\u001b[0m \u001b[32m━━━━━━━━━━━━━━━━━━━━\u001b[0m\u001b[37m\u001b[0m \u001b[1m1s\u001b[0m 19ms/step - accuracy: 0.5573 - loss: 3.1641 - val_accuracy: 0.5657 - val_loss: 2.9091\n",
            "Epoch 4/50\n",
            "\u001b[1m74/74\u001b[0m \u001b[32m━━━━━━━━━━━━━━━━━━━━\u001b[0m\u001b[37m\u001b[0m \u001b[1m2s\u001b[0m 28ms/step - accuracy: 0.5580 - loss: 3.0355 - val_accuracy: 0.5686 - val_loss: 2.8306\n",
            "Epoch 5/50\n",
            "\u001b[1m74/74\u001b[0m \u001b[32m━━━━━━━━━━━━━━━━━━━━\u001b[0m\u001b[37m\u001b[0m \u001b[1m2s\u001b[0m 19ms/step - accuracy: 0.5557 - loss: 2.9132 - val_accuracy: 0.5848 - val_loss: 2.7642\n",
            "Epoch 6/50\n",
            "\u001b[1m74/74\u001b[0m \u001b[32m━━━━━━━━━━━━━━━━━━━━\u001b[0m\u001b[37m\u001b[0m \u001b[1m1s\u001b[0m 19ms/step - accuracy: 0.5666 - loss: 2.8296 - val_accuracy: 0.6076 - val_loss: 2.7051\n",
            "Epoch 7/50\n",
            "\u001b[1m74/74\u001b[0m \u001b[32m━━━━━━━━━━━━━━━━━━━━\u001b[0m\u001b[37m\u001b[0m \u001b[1m1s\u001b[0m 18ms/step - accuracy: 0.5872 - loss: 2.7465 - val_accuracy: 0.6238 - val_loss: 2.6497\n",
            "Epoch 8/50\n",
            "\u001b[1m74/74\u001b[0m \u001b[32m━━━━━━━━━━━━━━━━━━━━\u001b[0m\u001b[37m\u001b[0m \u001b[1m1s\u001b[0m 18ms/step - accuracy: 0.5956 - loss: 2.6648 - val_accuracy: 0.6238 - val_loss: 2.5964\n",
            "Epoch 9/50\n",
            "\u001b[1m74/74\u001b[0m \u001b[32m━━━━━━━━━━━━━━━━━━━━\u001b[0m\u001b[37m\u001b[0m \u001b[1m1s\u001b[0m 18ms/step - accuracy: 0.6026 - loss: 2.5932 - val_accuracy: 0.6305 - val_loss: 2.5438\n",
            "Epoch 10/50\n",
            "\u001b[1m74/74\u001b[0m \u001b[32m━━━━━━━━━━━━━━━━━━━━\u001b[0m\u001b[37m\u001b[0m \u001b[1m1s\u001b[0m 18ms/step - accuracy: 0.6277 - loss: 2.5288 - val_accuracy: 0.6429 - val_loss: 2.4910\n",
            "Epoch 11/50\n",
            "\u001b[1m74/74\u001b[0m \u001b[32m━━━━━━━━━━━━━━━━━━━━\u001b[0m\u001b[37m\u001b[0m \u001b[1m3s\u001b[0m 21ms/step - accuracy: 0.6218 - loss: 2.4724 - val_accuracy: 0.6495 - val_loss: 2.4388\n",
            "Epoch 12/50\n",
            "\u001b[1m74/74\u001b[0m \u001b[32m━━━━━━━━━━━━━━━━━━━━\u001b[0m\u001b[37m\u001b[0m \u001b[1m3s\u001b[0m 21ms/step - accuracy: 0.6394 - loss: 2.4116 - val_accuracy: 0.6533 - val_loss: 2.3854\n",
            "Epoch 13/50\n",
            "\u001b[1m74/74\u001b[0m \u001b[32m━━━━━━━━━━━━━━━━━━━━\u001b[0m\u001b[37m\u001b[0m \u001b[1m1s\u001b[0m 17ms/step - accuracy: 0.6561 - loss: 2.3531 - val_accuracy: 0.6648 - val_loss: 2.3322\n",
            "Epoch 14/50\n",
            "\u001b[1m74/74\u001b[0m \u001b[32m━━━━━━━━━━━━━━━━━━━━\u001b[0m\u001b[37m\u001b[0m \u001b[1m1s\u001b[0m 18ms/step - accuracy: 0.6806 - loss: 2.2823 - val_accuracy: 0.6810 - val_loss: 2.2776\n",
            "Epoch 15/50\n",
            "\u001b[1m74/74\u001b[0m \u001b[32m━━━━━━━━━━━━━━━━━━━━\u001b[0m\u001b[37m\u001b[0m \u001b[1m3s\u001b[0m 19ms/step - accuracy: 0.7029 - loss: 2.2165 - val_accuracy: 0.6829 - val_loss: 2.2237\n",
            "Epoch 16/50\n",
            "\u001b[1m74/74\u001b[0m \u001b[32m━━━━━━━━━━━━━━━━━━━━\u001b[0m\u001b[37m\u001b[0m \u001b[1m3s\u001b[0m 19ms/step - accuracy: 0.7007 - loss: 2.1626 - val_accuracy: 0.6867 - val_loss: 2.1717\n",
            "Epoch 17/50\n",
            "\u001b[1m74/74\u001b[0m \u001b[32m━━━━━━━━━━━━━━━━━━━━\u001b[0m\u001b[37m\u001b[0m \u001b[1m1s\u001b[0m 19ms/step - accuracy: 0.7351 - loss: 2.0831 - val_accuracy: 0.6933 - val_loss: 2.1201\n",
            "Epoch 18/50\n",
            "\u001b[1m74/74\u001b[0m \u001b[32m━━━━━━━━━━━━━━━━━━━━\u001b[0m\u001b[37m\u001b[0m \u001b[1m3s\u001b[0m 22ms/step - accuracy: 0.7414 - loss: 2.0285 - val_accuracy: 0.7000 - val_loss: 2.0704\n",
            "Epoch 19/50\n",
            "\u001b[1m74/74\u001b[0m \u001b[32m━━━━━━━━━━━━━━━━━━━━\u001b[0m\u001b[37m\u001b[0m \u001b[1m2s\u001b[0m 17ms/step - accuracy: 0.7524 - loss: 1.9680 - val_accuracy: 0.7019 - val_loss: 2.0245\n",
            "Epoch 20/50\n",
            "\u001b[1m74/74\u001b[0m \u001b[32m━━━━━━━━━━━━━━━━━━━━\u001b[0m\u001b[37m\u001b[0m \u001b[1m1s\u001b[0m 18ms/step - accuracy: 0.7847 - loss: 1.8963 - val_accuracy: 0.7057 - val_loss: 1.9825\n",
            "Epoch 21/50\n",
            "\u001b[1m74/74\u001b[0m \u001b[32m━━━━━━━━━━━━━━━━━━━━\u001b[0m\u001b[37m\u001b[0m \u001b[1m1s\u001b[0m 17ms/step - accuracy: 0.8035 - loss: 1.8274 - val_accuracy: 0.7114 - val_loss: 1.9453\n",
            "Epoch 22/50\n",
            "\u001b[1m74/74\u001b[0m \u001b[32m━━━━━━━━━━━━━━━━━━━━\u001b[0m\u001b[37m\u001b[0m \u001b[1m1s\u001b[0m 18ms/step - accuracy: 0.8159 - loss: 1.7591 - val_accuracy: 0.7143 - val_loss: 1.9101\n",
            "Epoch 23/50\n",
            "\u001b[1m74/74\u001b[0m \u001b[32m━━━━━━━━━━━━━━━━━━━━\u001b[0m\u001b[37m\u001b[0m \u001b[1m1s\u001b[0m 18ms/step - accuracy: 0.8351 - loss: 1.6961 - val_accuracy: 0.7162 - val_loss: 1.8775\n",
            "Epoch 24/50\n",
            "\u001b[1m74/74\u001b[0m \u001b[32m━━━━━━━━━━━━━━━━━━━━\u001b[0m\u001b[37m\u001b[0m \u001b[1m1s\u001b[0m 18ms/step - accuracy: 0.8457 - loss: 1.6361 - val_accuracy: 0.7133 - val_loss: 1.8503\n",
            "Epoch 25/50\n",
            "\u001b[1m74/74\u001b[0m \u001b[32m━━━━━━━━━━━━━━━━━━━━\u001b[0m\u001b[37m\u001b[0m \u001b[1m2s\u001b[0m 25ms/step - accuracy: 0.8581 - loss: 1.5737 - val_accuracy: 0.7143 - val_loss: 1.8270\n",
            "Epoch 26/50\n",
            "\u001b[1m74/74\u001b[0m \u001b[32m━━━━━━━━━━━━━━━━━━━━\u001b[0m\u001b[37m\u001b[0m \u001b[1m2s\u001b[0m 22ms/step - accuracy: 0.8709 - loss: 1.5194 - val_accuracy: 0.7124 - val_loss: 1.8079\n",
            "Epoch 27/50\n",
            "\u001b[1m74/74\u001b[0m \u001b[32m━━━━━━━━━━━━━━━━━━━━\u001b[0m\u001b[37m\u001b[0m \u001b[1m1s\u001b[0m 18ms/step - accuracy: 0.8877 - loss: 1.4622 - val_accuracy: 0.7143 - val_loss: 1.7925\n",
            "Epoch 28/50\n",
            "\u001b[1m74/74\u001b[0m \u001b[32m━━━━━━━━━━━━━━━━━━━━\u001b[0m\u001b[37m\u001b[0m \u001b[1m1s\u001b[0m 18ms/step - accuracy: 0.8953 - loss: 1.4059 - val_accuracy: 0.7181 - val_loss: 1.7824\n",
            "Epoch 29/50\n",
            "\u001b[1m74/74\u001b[0m \u001b[32m━━━━━━━━━━━━━━━━━━━━\u001b[0m\u001b[37m\u001b[0m \u001b[1m1s\u001b[0m 19ms/step - accuracy: 0.9070 - loss: 1.3433 - val_accuracy: 0.7143 - val_loss: 1.7721\n",
            "Epoch 30/50\n",
            "\u001b[1m74/74\u001b[0m \u001b[32m━━━━━━━━━━━━━━━━━━━━\u001b[0m\u001b[37m\u001b[0m \u001b[1m2s\u001b[0m 32ms/step - accuracy: 0.9137 - loss: 1.2987 - val_accuracy: 0.7124 - val_loss: 1.7711\n",
            "Epoch 31/50\n",
            "\u001b[1m74/74\u001b[0m \u001b[32m━━━━━━━━━━━━━━━━━━━━\u001b[0m\u001b[37m\u001b[0m \u001b[1m1s\u001b[0m 18ms/step - accuracy: 0.9217 - loss: 1.2514 - val_accuracy: 0.7190 - val_loss: 1.7628\n",
            "Epoch 32/50\n",
            "\u001b[1m74/74\u001b[0m \u001b[32m━━━━━━━━━━━━━━━━━━━━\u001b[0m\u001b[37m\u001b[0m \u001b[1m2s\u001b[0m 21ms/step - accuracy: 0.9265 - loss: 1.2062 - val_accuracy: 0.7200 - val_loss: 1.7570\n",
            "Epoch 33/50\n",
            "\u001b[1m74/74\u001b[0m \u001b[32m━━━━━━━━━━━━━━━━━━━━\u001b[0m\u001b[37m\u001b[0m \u001b[1m3s\u001b[0m 23ms/step - accuracy: 0.9359 - loss: 1.1592 - val_accuracy: 0.7295 - val_loss: 1.7544\n",
            "Epoch 34/50\n",
            "\u001b[1m74/74\u001b[0m \u001b[32m━━━━━━━━━━━━━━━━━━━━\u001b[0m\u001b[37m\u001b[0m \u001b[1m1s\u001b[0m 19ms/step - accuracy: 0.9415 - loss: 1.1173 - val_accuracy: 0.7248 - val_loss: 1.7568\n",
            "Epoch 35/50\n",
            "\u001b[1m74/74\u001b[0m \u001b[32m━━━━━━━━━━━━━━━━━━━━\u001b[0m\u001b[37m\u001b[0m \u001b[1m1s\u001b[0m 18ms/step - accuracy: 0.9498 - loss: 1.0708 - val_accuracy: 0.7238 - val_loss: 1.7584\n",
            "Epoch 36/50\n",
            "\u001b[1m74/74\u001b[0m \u001b[32m━━━━━━━━━━━━━━━━━━━━\u001b[0m\u001b[37m\u001b[0m \u001b[1m1s\u001b[0m 17ms/step - accuracy: 0.9482 - loss: 1.0415 - val_accuracy: 0.7267 - val_loss: 1.7509\n",
            "Epoch 37/50\n",
            "\u001b[1m74/74\u001b[0m \u001b[32m━━━━━━━━━━━━━━━━━━━━\u001b[0m\u001b[37m\u001b[0m \u001b[1m1s\u001b[0m 17ms/step - accuracy: 0.9556 - loss: 0.9951 - val_accuracy: 0.7219 - val_loss: 1.7605\n",
            "Epoch 38/50\n",
            "\u001b[1m74/74\u001b[0m \u001b[32m━━━━━━━━━━━━━━━━━━━━\u001b[0m\u001b[37m\u001b[0m \u001b[1m1s\u001b[0m 18ms/step - accuracy: 0.9593 - loss: 0.9576 - val_accuracy: 0.7219 - val_loss: 1.7640\n",
            "Epoch 39/50\n",
            "\u001b[1m74/74\u001b[0m \u001b[32m━━━━━━━━━━━━━━━━━━━━\u001b[0m\u001b[37m\u001b[0m \u001b[1m1s\u001b[0m 19ms/step - accuracy: 0.9644 - loss: 0.9224 - val_accuracy: 0.7200 - val_loss: 1.7734\n",
            "Epoch 40/50\n",
            "\u001b[1m74/74\u001b[0m \u001b[32m━━━━━━━━━━━━━━━━━━━━\u001b[0m\u001b[37m\u001b[0m \u001b[1m2s\u001b[0m 21ms/step - accuracy: 0.9668 - loss: 0.8943 - val_accuracy: 0.7210 - val_loss: 1.7759\n",
            "Epoch 41/50\n",
            "\u001b[1m74/74\u001b[0m \u001b[32m━━━━━━━━━━━━━━━━━━━━\u001b[0m\u001b[37m\u001b[0m \u001b[1m3s\u001b[0m 23ms/step - accuracy: 0.9698 - loss: 0.8594 - val_accuracy: 0.7152 - val_loss: 1.7756\n",
            "Epoch 42/50\n",
            "\u001b[1m74/74\u001b[0m \u001b[32m━━━━━━━━━━━━━━━━━━━━\u001b[0m\u001b[37m\u001b[0m \u001b[1m1s\u001b[0m 18ms/step - accuracy: 0.9758 - loss: 0.8213 - val_accuracy: 0.7152 - val_loss: 1.7806\n",
            "Epoch 43/50\n",
            "\u001b[1m74/74\u001b[0m \u001b[32m━━━━━━━━━━━━━━━━━━━━\u001b[0m\u001b[37m\u001b[0m \u001b[1m1s\u001b[0m 19ms/step - accuracy: 0.9781 - loss: 0.7939 - val_accuracy: 0.7181 - val_loss: 1.7778\n",
            "Epoch 44/50\n",
            "\u001b[1m74/74\u001b[0m \u001b[32m━━━━━━━━━━━━━━━━━━━━\u001b[0m\u001b[37m\u001b[0m \u001b[1m3s\u001b[0m 19ms/step - accuracy: 0.9778 - loss: 0.7636 - val_accuracy: 0.7152 - val_loss: 1.7802\n",
            "Epoch 45/50\n",
            "\u001b[1m74/74\u001b[0m \u001b[32m━━━━━━━━━━━━━━━━━━━━\u001b[0m\u001b[37m\u001b[0m \u001b[1m1s\u001b[0m 19ms/step - accuracy: 0.9823 - loss: 0.7344 - val_accuracy: 0.7210 - val_loss: 1.7680\n",
            "Epoch 46/50\n",
            "\u001b[1m74/74\u001b[0m \u001b[32m━━━━━━━━━━━━━━━━━━━━\u001b[0m\u001b[37m\u001b[0m \u001b[1m1s\u001b[0m 17ms/step - accuracy: 0.9844 - loss: 0.7055 - val_accuracy: 0.7190 - val_loss: 1.7699\n",
            "Epoch 47/50\n",
            "\u001b[1m74/74\u001b[0m \u001b[32m━━━━━━━━━━━━━━━━━━━━\u001b[0m\u001b[37m\u001b[0m \u001b[1m2s\u001b[0m 20ms/step - accuracy: 0.9822 - loss: 0.6859 - val_accuracy: 0.7190 - val_loss: 1.7663\n",
            "Epoch 48/50\n",
            "\u001b[1m74/74\u001b[0m \u001b[32m━━━━━━━━━━━━━━━━━━━━\u001b[0m\u001b[37m\u001b[0m \u001b[1m2s\u001b[0m 30ms/step - accuracy: 0.9860 - loss: 0.6588 - val_accuracy: 0.7200 - val_loss: 1.7454\n",
            "Epoch 49/50\n",
            "\u001b[1m74/74\u001b[0m \u001b[32m━━━━━━━━━━━━━━━━━━━━\u001b[0m\u001b[37m\u001b[0m \u001b[1m2s\u001b[0m 18ms/step - accuracy: 0.9850 - loss: 0.6370 - val_accuracy: 0.7229 - val_loss: 1.7461\n",
            "Epoch 50/50\n",
            "\u001b[1m74/74\u001b[0m \u001b[32m━━━━━━━━━━━━━━━━━━━━\u001b[0m\u001b[37m\u001b[0m \u001b[1m1s\u001b[0m 18ms/step - accuracy: 0.9855 - loss: 0.6198 - val_accuracy: 0.7133 - val_loss: 1.7314\n"
          ]
        }
      ]
    },
    {
      "cell_type": "markdown",
      "source": [
        "#### Resultados"
      ],
      "metadata": {
        "id": "sx08PAALd0vt"
      }
    },
    {
      "cell_type": "code",
      "source": [
        "print(\"\\n--- Resultados del modelo ---\")\n",
        "\n",
        "print(\"Parámetros utilizados:\")\n",
        "print(f\"  hidden_layer_sizes: {chosen_hidden_layers}\")\n",
        "print(f\"  alpha (learning_rate): {chosen_alpha}\")\n",
        "print(f\"  dropout_rate: {chosen_dropout_rate}\")\n",
        "print(f\"  epochs: {chosen_epochs}\")\n",
        "print(f\"  batch_size: {chosen_batch_size}\")\n",
        "print(\"\\n\")\n",
        "\n",
        "train_results = keras_model.model_.evaluate(x_train_scaled, y_train, verbose=0)\n",
        "train_loss = train_results[0]\n",
        "train_accuracy = train_results[1]\n",
        "\n",
        "print('Accuracy (on Training Data):')\n",
        "print(f\"{(train_accuracy*100):.2f}%\")\n",
        "print(\"\\n\")\n",
        "\n",
        "y_pred_probs = keras_model.predict(x_test_scaled)\n",
        "y_pred_classes = (y_pred_probs > 0.5).astype(\"int32\")\n",
        "\n",
        "test_results = keras_model.model_.evaluate(x_test_scaled, y_test, verbose=0)\n",
        "test_loss = test_results[0]\n",
        "test_accuracy = test_results[1]\n",
        "\n",
        "print('Accuracy (on Test Data):')\n",
        "print(f\"{(test_accuracy*100):.2f}%\")\n",
        "print(\"\\n\")\n",
        "\n",
        "print(\"Classification Report (on Test Data):\")\n",
        "print(classification_report(y_test, y_pred_classes))\n",
        "print(\"\\n\")\n",
        "\n",
        "print(\"Confusion Matrix (on Test Data):\")\n",
        "cm = confusion_matrix(y_test, y_pred_classes)\n",
        "print(cm)"
      ],
      "metadata": {
        "colab": {
          "base_uri": "https://localhost:8080/"
        },
        "id": "kVhx0V3qd2UM",
        "outputId": "9c7ef7a5-889e-4b4c-b898-53da5fa4ebf5"
      },
      "execution_count": null,
      "outputs": [
        {
          "output_type": "stream",
          "name": "stdout",
          "text": [
            "\n",
            "--- Resultados del modelo ---\n",
            "Parámetros utilizados:\n",
            "  hidden_layer_sizes: (148, 80, 30)\n",
            "  alpha (learning_rate): 0.0001\n",
            "  dropout_rate: 0.4\n",
            "  epochs: 50\n",
            "  batch_size: 128\n",
            "\n",
            "\n",
            "Accuracy (on Training Data):\n",
            "97.05%\n",
            "\n",
            "\n",
            "\u001b[1m36/36\u001b[0m \u001b[32m━━━━━━━━━━━━━━━━━━━━\u001b[0m\u001b[37m\u001b[0m \u001b[1m0s\u001b[0m 8ms/step\n",
            "Accuracy (on Test Data):\n",
            "71.00%\n",
            "\n",
            "\n",
            "Classification Report (on Test Data):\n",
            "              precision    recall  f1-score   support\n",
            "\n",
            "           0       0.71      0.71      0.71      2266\n",
            "           1       0.71      0.71      0.71      2234\n",
            "\n",
            "    accuracy                           0.71      4500\n",
            "   macro avg       0.71      0.71      0.71      4500\n",
            "weighted avg       0.71      0.71      0.71      4500\n",
            "\n",
            "\n",
            "\n",
            "Confusion Matrix (on Test Data):\n",
            "[[1615  651]\n",
            " [ 654 1580]]\n"
          ]
        }
      ]
    },
    {
      "cell_type": "markdown",
      "source": [
        "En este modelo se exploraron diversas configuraciones de Redes Neuronales Profundas (DNN) construidas secuencialmente con Keras, mediante un proceso de búsqueda manual de hiperparámetros. Los experimentos se centraron en ajustar la arquitectura de la red (número de capas ocultas y neuronas por capa), el learning rate del optimizador Adam (alpha), la tasa de dropout (dropout_rate), el número de epochs de entrenamiento y el tamaño del batch. Se probaron arquitecturas con 1, 2 y 3 capas ocultas, variando la cantidad de neuronas en cada capa, y se aplicó dropout como técnica de regularización para mitigar el sobreajuste. Los resultados de cada combinación de parámetros fueron evaluados en un conjunto de prueba separado para medir la precisión de generalización."
      ],
      "metadata": {
        "id": "yoBJI-J0ZlCL"
      }
    },
    {
      "cell_type": "markdown",
      "source": [
        "## 5. Análisis de los resultados finales"
      ],
      "metadata": {
        "id": "6u-HqtLJbJh4"
      }
    },
    {
      "cell_type": "markdown",
      "source": [
        "### Modelo regresión multivariada"
      ],
      "metadata": {
        "id": "8wYIDeO3bZuI"
      }
    },
    {
      "cell_type": "markdown",
      "source": [
        "Para el mejor resultado del modelo de regresión multivariada, con los parámetros ajustados, tuvimos las siguientes métricas en la clasificación:"
      ],
      "metadata": {
        "id": "QH4V0xSWb54o"
      }
    },
    {
      "cell_type": "markdown",
      "source": [
        "\n",
        "```\n",
        "Accuracy (on Test Data):\n",
        "72.96%\n",
        "\n",
        "Classification Report (on Test Data):\n",
        "              precision    recall  f1-score   support\n",
        "\n",
        "           0       0.73      0.73      0.73      2270\n",
        "           1       0.73      0.72      0.73      2230\n",
        "\n",
        "    accuracy                           0.73      4500\n",
        "   macro avg       0.73      0.73      0.73      4500\n",
        "weighted avg       0.73      0.73      0.73      4500\n",
        "```\n",
        "\n"
      ],
      "metadata": {
        "id": "tV2NPI9w3RpQ"
      }
    },
    {
      "cell_type": "markdown",
      "source": [
        "\n",
        "\n",
        "```\n",
        "Confusion Matrix (on Test Data):\n",
        "[[1667  603]\n",
        " [ 614 1616]]\n",
        "```\n",
        "\n"
      ],
      "metadata": {
        "id": "0z84-NFr6I_R"
      }
    },
    {
      "cell_type": "markdown",
      "source": [
        "Graficando la confusión de matriz tenemos lo siguiente:"
      ],
      "metadata": {
        "id": "LKJc4StZ6sQh"
      }
    },
    {
      "cell_type": "code",
      "source": [
        "from sklearn.metrics import confusion_matrix, ConfusionMatrixDisplay\n",
        "import numpy as np\n",
        "\n",
        "cm_reg_mult = [[1667, 603],\n",
        "               [614, 1616]]\n",
        "\n",
        "cm_reg_mult = np.array(cm_reg_mult)\n",
        "\n",
        "labels = ['rotten', 'fresh']\n",
        "\n",
        "disp = ConfusionMatrixDisplay(confusion_matrix=cm_reg_mult, display_labels=labels)\n",
        "\n",
        "disp.plot(cmap=plt.cm.Blues)\n",
        "\n",
        "plt.title('Confusion Matrix - Regresión Multivariada')\n",
        "plt.xlabel('Etiqueta predicha')\n",
        "plt.ylabel('Etiqueta verdadera')\n",
        "\n",
        "plt.show()"
      ],
      "metadata": {
        "colab": {
          "base_uri": "https://localhost:8080/",
          "height": 472
        },
        "id": "dmHNGUiU6rYM",
        "outputId": "b01b4870-db31-4bab-8afc-a5d3ec35e6e8"
      },
      "execution_count": null,
      "outputs": [
        {
          "output_type": "display_data",
          "data": {
            "text/plain": [
              "<Figure size 640x480 with 2 Axes>"
            ],
            "image/png": "[encoded data removed]"
          },
          "metadata": {}
        }
      ]
    },
    {
      "cell_type": "markdown",
      "source": [
        "Se obtuvo un rendimiento equilibrado en la clasificación de sentimientos en el conjunto de prueba, logrando un accuracy del 72.96%. El Classification Report muestra métricas de precisión, recall y f1-score consistentes y cercanas al 73% para ambas clases ('rotten' y 'fresh'), indicando que el modelo se desempeña de manera similar en la identificación de reseñas positivas y negativas. La matriz de confusión detalla que 1667 reseñas fueron correctamente identificadas como negativas (verdaderos negativos) y 1616 como positivas (verdaderos positivos). Asimismo, se registraron 603 falsos positivos (reseñas negativas predichas como positivas) y 614 falsos negativos (reseñas positivas predichas como negativas). La paridad en las métricas por clase y en la cantidad de errores de clasificación subraya que el modelo no presenta un sesgo significativo hacia ninguna categoría, ofreciendo un desempeño general sólido para la tarea de análisis de sentimiento que hemos venido trabajando."
      ],
      "metadata": {
        "id": "qqhOt3Zt7zL-"
      }
    },
    {
      "cell_type": "markdown",
      "source": [
        "### Modelo árbol de decisión"
      ],
      "metadata": {
        "id": "zAGZXbAUbfAf"
      }
    },
    {
      "cell_type": "markdown",
      "source": [
        "Para el mejor resultado del modelo de árbol de decisión, con los parámetros ajustados, tuvimos las siguientes métricas en la clasificación:"
      ],
      "metadata": {
        "id": "WO8ftQ6wcC2B"
      }
    },
    {
      "cell_type": "markdown",
      "source": [
        "\n",
        "\n",
        "```\n",
        "Accuracy (on Test Data):\n",
        "63.47%\n",
        "\n",
        "Classification Report (on Test Data):\n",
        "              precision    recall  f1-score   support\n",
        "\n",
        "           0       0.64      0.64      0.64      2270\n",
        "           1       0.63      0.63      0.63      2230\n",
        "\n",
        "    accuracy                           0.63      4500\n",
        "   macro avg       0.63      0.63      0.63      4500\n",
        "weighted avg       0.63      0.63      0.63      4500\n",
        "\n",
        "```\n",
        "\n"
      ],
      "metadata": {
        "id": "ADLbI5j54Vgf"
      }
    },
    {
      "cell_type": "markdown",
      "source": [
        "\n",
        "\n",
        "```\n",
        "Confusion Matrix (on Test Data):\n",
        "[[1460  810]\n",
        " [ 834 1396]]\n",
        "```\n",
        "\n"
      ],
      "metadata": {
        "id": "ziAc9Yb-9cSj"
      }
    },
    {
      "cell_type": "markdown",
      "source": [
        "Graficando la la matriz de confusión tenemos lo siguiente:"
      ],
      "metadata": {
        "id": "ycD2FOjU9xP_"
      }
    },
    {
      "cell_type": "code",
      "source": [
        "cm_reg_mult = [[1460, 810],\n",
        "               [834, 1396]]\n",
        "\n",
        "cm_reg_mult = np.array(cm_reg_mult)\n",
        "\n",
        "labels = ['rotten', 'fresh']\n",
        "\n",
        "disp = ConfusionMatrixDisplay(confusion_matrix=cm_reg_mult, display_labels=labels)\n",
        "\n",
        "disp.plot(cmap=plt.cm.Blues)\n",
        "\n",
        "plt.title('Confusion Matrix - Arbol de decisión')\n",
        "plt.xlabel('Etiqueta predicha')\n",
        "plt.ylabel('Etiqueta verdadera')\n",
        "\n",
        "plt.show()"
      ],
      "metadata": {
        "colab": {
          "base_uri": "https://localhost:8080/",
          "height": 472
        },
        "id": "4wCrVGUE91vf",
        "outputId": "2b8902cc-69ff-40b8-b2f8-24e3196f9b1f"
      },
      "execution_count": null,
      "outputs": [
        {
          "output_type": "display_data",
          "data": {
            "text/plain": [
              "<Figure size 640x480 with 2 Axes>"
            ],
            "image/png": "[encoded data removed]"
          },
          "metadata": {}
        }
      ]
    },
    {
      "cell_type": "markdown",
      "source": [
        "Sé alcanzó un accuracy en el conjunto de prueba del 63.47%, un rendimiento notablemente inferior al de la Regresión Multivariada. El Classification Report revela métricas de precisión, recall y f1-score para ambas clases ('rotten' y 'fresh') consistentes y cercanas al 63%, lo que sugiere que, aunque se desempeña de manera similar en la clasificación de ambas categorías, su capacidad predictiva general es limitada. La matriz de confusión muestra que se identificaron correctamente 1460 reseñas negativas (verdaderos negativos) y 1396 positivas (verdaderos positivos). Sin embargo, el modelo cometió una cantidad significativa de errores, clasificando incorrectamente 810 reseñas negativas como positivas (falsos positivos) y 834 reseñas positivas como negativas (falsos negativos). La mayor proporción de errores de clasificación en comparación con las predicciones correctas indica que, a pesar de estar balanceado en su desempeño entre clases, el Árbol de Decisión no logra capturar las complejidades de los datos textuales de las reseñas con la misma efectividad que otros modelos, resultando en un rendimiento no tan favorable para la tarea de análisis de sentimiento."
      ],
      "metadata": {
        "id": "FCCq8Erm_V-n"
      }
    },
    {
      "cell_type": "markdown",
      "source": [
        "### Modelo random forest"
      ],
      "metadata": {
        "id": "XEnCKSUabqRh"
      }
    },
    {
      "cell_type": "markdown",
      "source": [
        "Para el mejor resultado del modelo de árbol de random forest, con los parámetros ajustados, tuvimos las siguientes métricas en la clasificación:"
      ],
      "metadata": {
        "id": "HpckAnF3cDqK"
      }
    },
    {
      "cell_type": "markdown",
      "source": [
        "\n",
        "\n",
        "```\n",
        "Accuracy (on Test Data):\n",
        "70.96%\n",
        "\n",
        "Classification Report (on Test Data):\n",
        "              precision    recall  f1-score   support\n",
        "\n",
        "           0       0.73      0.68      0.71      2304\n",
        "           1       0.69      0.74      0.71      2196\n",
        "\n",
        "    accuracy                           0.71      4500\n",
        "   macro avg       0.71      0.71      0.71      4500\n",
        "weighted avg       0.71      0.71      0.71      4500\n",
        "\n",
        "```\n",
        "\n"
      ],
      "metadata": {
        "id": "XLtK6cthAtW2"
      }
    },
    {
      "cell_type": "markdown",
      "source": [
        "\n",
        "\n",
        "```\n",
        "Confusion Matrix (on Test Data):\n",
        "[[1572  732]\n",
        " [ 575 1621]]\n",
        "```\n",
        "\n"
      ],
      "metadata": {
        "id": "P3OfnSrqBeyR"
      }
    },
    {
      "cell_type": "markdown",
      "source": [
        "Graficando la confusión de matriz tenemos lo siguiente:"
      ],
      "metadata": {
        "id": "CwyLSTitBpE2"
      }
    },
    {
      "cell_type": "code",
      "source": [
        "cm_reg_mult = [[1572, 732],\n",
        "               [575, 1621]]\n",
        "\n",
        "cm_reg_mult = np.array(cm_reg_mult)\n",
        "\n",
        "labels = ['rotten', 'fresh']\n",
        "\n",
        "disp = ConfusionMatrixDisplay(confusion_matrix=cm_reg_mult, display_labels=labels)\n",
        "\n",
        "disp.plot(cmap=plt.cm.Blues)\n",
        "\n",
        "plt.title('Confusion Matrix - Random Forest')\n",
        "plt.xlabel('Etiqueta predicha')\n",
        "plt.ylabel('Etiqueta verdadera')\n",
        "\n",
        "plt.show()"
      ],
      "metadata": {
        "colab": {
          "base_uri": "https://localhost:8080/",
          "height": 472
        },
        "id": "OhhQF47ABsC3",
        "outputId": "9600bdc7-70c9-4979-eff6-8cc34907a74d"
      },
      "execution_count": null,
      "outputs": [
        {
          "output_type": "display_data",
          "data": {
            "text/plain": [
              "<Figure size 640x480 with 2 Axes>"
            ],
            "image/png": "[encoded data removed]"
          },
          "metadata": {}
        }
      ]
    },
    {
      "cell_type": "markdown",
      "source": [
        "En este se obtuvo un accuracy en el conjunto de prueba del 70.96%. Al analizar el Classification Report, se observa un desempeño equilibrado entre las clases, con precision, recall y f1-score cercanos al 71%. Sin embargo, hay una ligera diferencia: la precisión para la clase ('rotten') es mayor (0.73) que para la clase ('fresh') (0.69), mientras que el recall es mayor para la clase 1 (0.74) que para la clase 0 (0.68). La matriz de confusión muestra 1572 verdaderos negativos y 1621 verdaderos positivos. Se identificaron 732 falsos positivos y 575 falsos negativos. Esta distribución de errores indica que el modelo es ligeramente más propenso a clasificar incorrectamente reseñas negativas como positivas (más falsos positivos) que reseñas positivas como negativas (menos falsos negativos), aunque en general ofrece un rendimiento competitivo y superior al árbol de Decisión para la tarea de análisis de sentimiento."
      ],
      "metadata": {
        "id": "3NddS6EkCIXa"
      }
    },
    {
      "cell_type": "markdown",
      "source": [
        "### Modelo redes neuronales perceptrón multicapas"
      ],
      "metadata": {
        "id": "qe_tD1vnbufQ"
      }
    },
    {
      "cell_type": "markdown",
      "source": [
        "Para el mejor resultado del modelo de redes neuronales perceptrón multicapas, con los parámetros ajustados, tuvimos las siguientes métricas en la clasificación:"
      ],
      "metadata": {
        "id": "nNaILfzecEiF"
      }
    },
    {
      "cell_type": "markdown",
      "source": [
        "\n",
        "\n",
        "```\n",
        "Accuracy (on Test Data):\n",
        "70.53%\n",
        "\n",
        "Classification Report (on Test Data):\n",
        "              precision    recall  f1-score   support\n",
        "\n",
        "           0       0.72      0.68      0.70      2275\n",
        "           1       0.69      0.73      0.71      2225\n",
        "\n",
        "    accuracy                           0.71      4500\n",
        "   macro avg       0.71      0.71      0.71      4500\n",
        "weighted avg       0.71      0.71      0.71      4500\n",
        "\n",
        "```\n",
        "\n"
      ],
      "metadata": {
        "id": "W27P1V0xk6U4"
      }
    },
    {
      "cell_type": "markdown",
      "source": [
        "\n",
        "\n",
        "```\n",
        "Confusion Matrix (on Test Data):\n",
        "[[1555  720]\n",
        " [ 606 1619]]\n",
        "```\n",
        "\n"
      ],
      "metadata": {
        "id": "jAFUbJaule-X"
      }
    },
    {
      "cell_type": "markdown",
      "source": [
        "Graficando la confusión de matriz tenemos lo siguiente:"
      ],
      "metadata": {
        "id": "OnnF-f8fljnH"
      }
    },
    {
      "cell_type": "code",
      "source": [
        "cm_reg_mult = [[1555, 720],\n",
        "               [606, 1619]]\n",
        "\n",
        "cm_reg_mult = np.array(cm_reg_mult)\n",
        "\n",
        "labels = ['rotten', 'fresh']\n",
        "\n",
        "disp = ConfusionMatrixDisplay(confusion_matrix=cm_reg_mult, display_labels=labels)\n",
        "\n",
        "disp.plot(cmap=plt.cm.Blues)\n",
        "\n",
        "plt.title('Confusion Matrix - Redes neuronales (MLP)')\n",
        "plt.xlabel('Etiqueta predicha')\n",
        "plt.ylabel('Etiqueta verdadera')\n",
        "\n",
        "plt.show()"
      ],
      "metadata": {
        "colab": {
          "base_uri": "https://localhost:8080/",
          "height": 472
        },
        "id": "OpIVS46zlkrM",
        "outputId": "3e4203bc-c25c-498c-9161-64fc8ebde0ac"
      },
      "execution_count": null,
      "outputs": [
        {
          "output_type": "display_data",
          "data": {
            "text/plain": [
              "<Figure size 640x480 with 2 Axes>"
            ],
            "image/png": "[encoded data removed]"
          },
          "metadata": {}
        }
      ]
    },
    {
      "cell_type": "markdown",
      "source": [
        "Se alcanzó un accuracy en el conjunto de prueba del 70.53%. Este rendimiento es comparable al obtenido con la Regresión Multivariada y Random Forest. El análisis del Classification Report revela un desempeño equilibrado entre las clases 'rotten' y 'fresh', con métricas de precisión, recall y f1-score que rondan el 71%, aunque con una ligera mayor precisión para la clase 0 y mayor recall para la clase 1. La matriz de confusión confirma este equilibrio, mostrando 1555 verdaderos negativos y 1619 verdaderos positivos, junto con 720 falsos positivos y 606 falsos negativos. A pesar de los errores de clasificación, la distribución de aciertos y errores indica que el modelo MLP, con el preprocesamiento y las arquitecturas exploradas, ofrece un rendimiento competitivo con respecto a los otros modelos."
      ],
      "metadata": {
        "id": "QCH4sl8clkRP"
      }
    },
    {
      "cell_type": "markdown",
      "source": [
        "### Modelo redes neuronales profundas"
      ],
      "metadata": {
        "id": "7XRy5cnlbxpK"
      }
    },
    {
      "cell_type": "markdown",
      "source": [
        "Para el mejor resultado del modelo de redes neuronales profundo, con los parámetros ajustados, tuvimos las siguientes métricas en la clasificación:"
      ],
      "metadata": {
        "id": "m4p20eUFcFX7"
      }
    },
    {
      "cell_type": "markdown",
      "source": [
        "\n",
        "\n",
        "```\n",
        "Accuracy (on Test Data):\n",
        "71.00%\n",
        "\n",
        "\n",
        "Classification Report (on Test Data):\n",
        "              precision    recall  f1-score   support\n",
        "\n",
        "           0       0.71      0.71      0.71      2266\n",
        "           1       0.71      0.71      0.71      2234\n",
        "\n",
        "    accuracy                           0.71      4500\n",
        "   macro avg       0.71      0.71      0.71      4500\n",
        "weighted avg       0.71      0.71      0.71      4500\n",
        "\n",
        "```\n",
        "\n"
      ],
      "metadata": {
        "id": "0pgVOLqsmXcJ"
      }
    },
    {
      "cell_type": "markdown",
      "source": [
        "\n",
        "\n",
        "```\n",
        "Confusion Matrix (on Test Data):\n",
        "[[1615  651]\n",
        " [ 654 1580]]\n",
        "```\n",
        "\n",
        "\n",
        "\n"
      ],
      "metadata": {
        "id": "j7pquqEwmZKx"
      }
    },
    {
      "cell_type": "markdown",
      "source": [
        "Graficando la confusión de matriz tenemos lo siguiente:"
      ],
      "metadata": {
        "id": "SD-r1tMimh7A"
      }
    },
    {
      "cell_type": "code",
      "source": [
        "cm_reg_mult = [[1615, 651],\n",
        "               [654, 1580]]\n",
        "\n",
        "cm_reg_mult = np.array(cm_reg_mult)\n",
        "\n",
        "labels = ['rotten', 'fresh']\n",
        "\n",
        "disp = ConfusionMatrixDisplay(confusion_matrix=cm_reg_mult, display_labels=labels)\n",
        "\n",
        "disp.plot(cmap=plt.cm.Blues)\n",
        "\n",
        "plt.title('Confusion Matrix - Redes neuronales profundas (Keras)')\n",
        "plt.xlabel('Etiqueta predicha')\n",
        "plt.ylabel('Etiqueta verdadera')\n",
        "\n",
        "plt.show()"
      ],
      "metadata": {
        "colab": {
          "base_uri": "https://localhost:8080/",
          "height": 472
        },
        "id": "97qCkS9HmrER",
        "outputId": "ebf784fe-d1bf-4689-b057-eb509493036d"
      },
      "execution_count": null,
      "outputs": [
        {
          "output_type": "display_data",
          "data": {
            "text/plain": [
              "<Figure size 640x480 with 2 Axes>"
            ],
            "image/png": "[encoded data removed]"
          },
          "metadata": {}
        }
      ]
    },
    {
      "cell_type": "markdown",
      "source": [
        "Para este modelo se logró un accuracy en el conjunto de prueba del 71.00%. Este rendimiento es comparable al obtenido con otros modelos explorados, como la Regresión Logística y Random Forest, que también se situaron en el rango del 70-72% con este preprocesamiento. El análisis del Classification Report muestra un desempeño equilibrado entre las clases 'rotten' y 'fresh', con métricas de precisión, recall y f1-score que rondan el 71% para ambas categorías, reflejando la distribución balanceada del dataset. La matriz de confusión confirma este equilibrio, mostrando 1615 predicciones correctas para la clase 0 (verdaderos negativos) y 1580 para la clase 1 (verdaderos positivos). Los errores se distribuyen en 651 falsos positivos y 654 falsos negativos, indicando que el modelo tiene una dificultad similar para distinguir ambas clases cuando comete un error. A pesar del sobreajuste observado durante el entrenamiento, el rendimiento final en prueba de la DNN es competitivo, demostrando ser una opción viable para la tarea de análisis de sentimientos con las características TF-IDF, aunque sin superar significativamente el rendimiento de otros modelos más simples."
      ],
      "metadata": {
        "id": "rkWeZFPVnAKJ"
      }
    },
    {
      "cell_type": "markdown",
      "source": [
        "En el análisis comparativo de los modelos aplicados a la tarea de clasificación de sentimientos, la Regresión Multivariable destacó como el modelo con mejor desempeño, alcanzando un accuracy del 72.96% y métricas equilibradas entre clases, lo que indica una generalización efectiva. Le siguen de cerca Random Forest (70.96%) y las Redes Neuronales Profundas con Keras (71.00%), ambos con resultados consistentes y sin sesgos importantes, aunque sin superar al modelo de regresión. El modelo MLP obtuvo un rendimiento ligeramente inferior (70.53%), mientras que el Árbol de Decisión mostró el desempeño más bajo (63.47%), evidenciando mayores dificultades para capturar patrones complejos en los datos textuales. En conjunto, los resultados sugieren que modelos más sofisticados como Random Forest y redes neuronales ofrecen mejoras con respecto a métodos más simples, pero en este caso, la Regresión Multivariable logró el mejor equilibrio entre precisión y simplicidad.\n",
        "\n"
      ],
      "metadata": {
        "id": "WU1xY9nkj9NU"
      }
    },
    {
      "cell_type": "markdown",
      "source": [
        "Ahora bien, procedemos a la sección de las conclusiones finales del proyecto."
      ],
      "metadata": {
        "id": "KjNs1XIVsBNZ"
      }
    },
    {
      "cell_type": "markdown",
      "source": [
        "## 6. Conclusiones de los resultados obtenidos"
      ],
      "metadata": {
        "id": "j1DXmaTucRSf"
      }
    },
    {
      "cell_type": "markdown",
      "source": [
        "El presente proyecto tuvo como objetivo desarrollar un modelo de clasificación capaz de predecir si una reseña de película es positiva (\"fresh\") o negativa (\"rotten\"), utilizando el conjunto de datos de Rotten Tomatoes. A lo largo del trabajo, se aplicaron técnicas de preprocesamiento textual como la conversión a minúsculas, eliminación de stopwords, símbolos y puntuación, así como lematización con POS tagging para normalizar el lenguaje natural, vectorización de texto (TF-IDF) y tambien seleccion de características con Random Forest, y con ello, se entrenaron y evaluaron modelos de clasificación logrando métricas de desempeño razonables en términos de precisión, recall y accuracy. Sin embargo, los resultados muestran un margen de mejora importante, en especial en cuanto a la capacidad de generalización en datos no vistos.\n",
        "\n",
        "Por otro lado, para mejorar el trabajo realizado se propone el siguiente esquema:\n",
        "\n",
        "* El uso de embeddings preentrenados, aunque TF-IDF es una técnica sólida, no captura el significado contextual de las palabras. Se podría usar representaciones semánticas más ricas como Word2Vec, GloVe o FastText, o embeddings contextuales como BERT, que entienden la posición y contexto de las palabras en la oración.\n",
        "\n",
        "* Se podría implementar modelos de Deep Learning especializados en texto como LSTM, GRU o transformers, puesto que permitiría modelar dependencias secuenciales y mejorar la comprensión del texto. Esto suele mejorar la generalización, especialmente cuando se trabaja con lenguaje natural.\n",
        "\n",
        "* El uso del dataset completo, trabajamos con una muestra representativa (15.000), pero escalar a todo el conjunto podría permitir que modelos más complejos como redes profundas o transformers aprovechen más información y generalicen mejor, asi que se sugiere tambien el uso de equipos muy buenos computacionalmente para un trabajo más exhaustivo y resultados más prometedores.\n",
        "\n",
        "\n",
        "\n",
        "\n",
        "\n",
        "\n",
        "\n"
      ],
      "metadata": {
        "id": "7ppYUdcycaTY"
      }
    },
    {
      "cell_type": "markdown",
      "source": [
        "## 7. Referencias"
      ],
      "metadata": {
        "id": "SF088VTOcgvg"
      }
    },
    {
      "cell_type": "markdown",
      "source": [
        "[1] Pedersen, U. T. (2023, marzo 1). Rotten Tomatoes Reviews. Kaggle. https://www.kaggle.com/datasets/ulrikthygepedersen/rotten-tomatoes-reviews/data\n",
        "\n",
        "\n",
        "\n",
        "[2] Hariharan, A. (2023, abril 30). RT Reviews Classification with LSTM. Kaggle. https://www.kaggle.com/code/hariharanalm/rt-reviews-classification-with-lstm/notebook\n",
        "\n",
        "\n",
        "\n",
        "[3] scikit-learn developers. Supervised learning. scikit-learn. https://scikit-learn.org/stable/supervised_learning.html\n",
        "\n",
        "\n",
        "\n",
        "[4] Built In. (2024, febrero 8). What is TF-IDF? https://builtin.com/articles/tf-idf"
      ],
      "metadata": {
        "id": "ixKZypvOc75h"
      }
    }
  ]
}